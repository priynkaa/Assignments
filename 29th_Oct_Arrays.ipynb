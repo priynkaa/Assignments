{
 "cells": [
  {
   "cell_type": "markdown",
   "id": "3ae0ed62-2dde-4450-ac60-d3ba6c0805da",
   "metadata": {},
   "source": [
    "## Arrays :"
   ]
  },
  {
   "cell_type": "code",
   "execution_count": 1,
   "id": "75d40812-6df4-4fc6-a144-c6a6f852bc66",
   "metadata": {},
   "outputs": [
    {
     "name": "stdout",
     "output_type": "stream",
     "text": [
      "True\n"
     ]
    }
   ],
   "source": [
    "# Question Number 1:\n",
    "def check_duplicates(arr):\n",
    "    return len(arr) != len(set(arr))\n",
    "\n",
    "print(check_duplicates([1,2,4,2,5,9]))"
   ]
  },
  {
   "cell_type": "code",
   "execution_count": 11,
   "id": "d6ccb3ac-29e7-4ea6-8323-e03917e822d7",
   "metadata": {},
   "outputs": [
    {
     "name": "stdout",
     "output_type": "stream",
     "text": [
      "[5, 6, 7, 1, 2, 3, 4]\n"
     ]
    }
   ],
   "source": [
    "# Question Number 2:\n",
    "def rotate_array(arr,k):\n",
    "    return arr[-k:] + arr[:-k]\n",
    "\n",
    "print(rotate_array([1,2,3,4,5,6,7],3))"
   ]
  },
  {
   "cell_type": "code",
   "execution_count": 35,
   "id": "3340ae2f-9d93-4655-9fb3-fba2c84d8208",
   "metadata": {},
   "outputs": [
    {
     "name": "stdout",
     "output_type": "stream",
     "text": [
      "[12, 9, 7, 5, 4, 2]\n"
     ]
    }
   ],
   "source": [
    "# Question Number 3:\n",
    "def reverse_array(arr):\n",
    "    left,right = 0, len(arr)-1\n",
    "    while left<right:\n",
    "        arr[left],arr[right] = arr[right],arr[left]\n",
    "        left += 1\n",
    "        right -= 1\n",
    "\n",
    "arr = [2,4,5,7,9,12]\n",
    "reverse_array(arr)\n",
    "print(arr)"
   ]
  },
  {
   "cell_type": "code",
   "execution_count": 12,
   "id": "a5e81877-eb9e-4368-89d4-0b818a097228",
   "metadata": {},
   "outputs": [
    {
     "name": "stdout",
     "output_type": "stream",
     "text": [
      "20\n"
     ]
    }
   ],
   "source": [
    "# Question Number 4:\n",
    "def max_element(arr):\n",
    "    return max(arr)\n",
    "\n",
    "print(max_element([10,5,20,8,15]))"
   ]
  },
  {
   "cell_type": "code",
   "execution_count": 26,
   "id": "4eaf2000-8033-4d4a-8a2c-66a24622816a",
   "metadata": {},
   "outputs": [
    {
     "name": "stdout",
     "output_type": "stream",
     "text": [
      "[1, 2, 3, 4, 5]\n"
     ]
    }
   ],
   "source": [
    "# Question Numbr 5:\n",
    "def remove_duplicates(arr):\n",
    "    if not arr:\n",
    "        return []\n",
    "    write_index = 1\n",
    "    for i in range(1,len(arr)):\n",
    "        if arr[i] != arr[i-1]:\n",
    "            arr[write_index] = arr[i]\n",
    "            write_index +=1\n",
    "    return arr[:write_index]\n",
    "    \n",
    "print(remove_duplicates([1,1,2,2,2,3,3,4,4,4,5,5]))"
   ]
  },
  {
   "cell_type": "code",
   "execution_count": null,
   "id": "190138bd-f052-4358-b184-a01c28be112a",
   "metadata": {},
   "outputs": [],
   "source": []
  },
  {
   "cell_type": "code",
   "execution_count": null,
   "id": "872f0af6-6be4-4ba5-b3f8-41e7557d8bf4",
   "metadata": {},
   "outputs": [],
   "source": []
  }
 ],
 "metadata": {
  "kernelspec": {
   "display_name": "Python 3 (ipykernel)",
   "language": "python",
   "name": "python3"
  },
  "language_info": {
   "codemirror_mode": {
    "name": "ipython",
    "version": 3
   },
   "file_extension": ".py",
   "mimetype": "text/x-python",
   "name": "python",
   "nbconvert_exporter": "python",
   "pygments_lexer": "ipython3",
   "version": "3.11.5"
  }
 },
 "nbformat": 4,
 "nbformat_minor": 5
}
