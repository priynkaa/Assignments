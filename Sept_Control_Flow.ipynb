{
 "cells": [
  {
   "cell_type": "markdown",
   "id": "4265badf-45a2-4da6-88e4-cabd3335b471",
   "metadata": {},
   "source": [
    "### Basic If-Else statements:"
   ]
  },
  {
   "cell_type": "code",
   "execution_count": 2,
   "id": "c52d825f-5098-4ef2-9da8-ff35e0a3c70b",
   "metadata": {},
   "outputs": [
    {
     "name": "stdout",
     "output_type": "stream",
     "text": [
      "Given number is positive\n"
     ]
    }
   ],
   "source": [
    "# Question Number 1:\n",
    "n = 5\n",
    "if n<0:\n",
    "    print('Given number is negative')\n",
    "else:\n",
    "    print('Given number is positive')"
   ]
  },
  {
   "cell_type": "code",
   "execution_count": 3,
   "id": "d5880afb-4432-461d-b1d3-de1dc76d9410",
   "metadata": {},
   "outputs": [
    {
     "name": "stdout",
     "output_type": "stream",
     "text": [
      "this person is eligible to vote\n"
     ]
    }
   ],
   "source": [
    "# Question Number 2:\n",
    "age = 21\n",
    "if age>=18:\n",
    "    print('this person is eligible to vote')\n",
    "else:\n",
    "    print('this person is not eligible to vote')"
   ]
  },
  {
   "cell_type": "code",
   "execution_count": 9,
   "id": "33a20abb-297a-4b20-957d-453c93d22798",
   "metadata": {},
   "outputs": [
    {
     "name": "stdout",
     "output_type": "stream",
     "text": [
      "67\n"
     ]
    }
   ],
   "source": [
    "# Question Number 3:\n",
    "def maximum_number(n1,n2):\n",
    "    if n1>n2:\n",
    "        return n1\n",
    "    else:\n",
    "        return n2\n",
    "\n",
    "print(maximum_number(34,67))"
   ]
  },
  {
   "cell_type": "code",
   "execution_count": 20,
   "id": "c6c92373-7977-4f66-a2c9-755d388198b9",
   "metadata": {},
   "outputs": [
    {
     "name": "stdout",
     "output_type": "stream",
     "text": [
      "True\n"
     ]
    }
   ],
   "source": [
    "# Question Number 4:\n",
    "def is_leap_year(year):\n",
    "    if (year%4==0 and year%100!=0) or (year%400==0):\n",
    "        return True\n",
    "    else:\n",
    "        return False\n",
    "\n",
    "print(is_leap_year(2024))"
   ]
  },
  {
   "cell_type": "code",
   "execution_count": 25,
   "id": "3fcfb5ec-2f2c-49dc-b7e5-af19ba3bad62",
   "metadata": {},
   "outputs": [
    {
     "name": "stdout",
     "output_type": "stream",
     "text": [
      "given character is constant\n"
     ]
    }
   ],
   "source": [
    "# Question Number 5:\n",
    "def check_character(c):\n",
    "    v = 'a,e,i,o,u'\n",
    "    if c in v:\n",
    "        return 'given character is vowel'\n",
    "    else:\n",
    "        return 'given character is constant'\n",
    "\n",
    "print(check_character('p'))"
   ]
  },
  {
   "cell_type": "code",
   "execution_count": 26,
   "id": "8ef93d06-af6a-4e38-b2a9-4c0926b88d15",
   "metadata": {},
   "outputs": [
    {
     "name": "stdout",
     "output_type": "stream",
     "text": [
      "give number is odd\n"
     ]
    }
   ],
   "source": [
    "# Question Number 6:\n",
    "n = 45\n",
    "if n%2==0:\n",
    "    print('given number is even')\n",
    "else:\n",
    "    print('give number is odd')"
   ]
  },
  {
   "cell_type": "code",
   "execution_count": 27,
   "id": "a7bb9e93-4596-44b4-a958-ec0ad3b2ccfd",
   "metadata": {},
   "outputs": [
    {
     "name": "stdout",
     "output_type": "stream",
     "text": [
      "8\n"
     ]
    }
   ],
   "source": [
    "# Question Number 7:\n",
    "def absolute_value(num):\n",
    "    if num<0:\n",
    "        return -num\n",
    "    else:\n",
    "        return num\n",
    "\n",
    "print(absolute_value(-8))"
   ]
  },
  {
   "cell_type": "code",
   "execution_count": 32,
   "id": "69e4d531-ded3-4afc-aba9-5b7faf58e90b",
   "metadata": {},
   "outputs": [
    {
     "name": "stdout",
     "output_type": "stream",
     "text": [
      "98\n"
     ]
    }
   ],
   "source": [
    "# Question Number 8:\n",
    "def largest_number(n1,n2,n3):\n",
    "    if n1>=n2 and n1>=n3:\n",
    "        return n1\n",
    "    elif n2>=n1 and n2>=n3:\n",
    "        return n2\n",
    "    else:\n",
    "        return n3\n",
    "\n",
    "print(largest_number(23,98,56))"
   ]
  },
  {
   "cell_type": "code",
   "execution_count": 35,
   "id": "b65643e2-bc2c-4958-8d79-83eb6acf8b45",
   "metadata": {},
   "outputs": [
    {
     "name": "stdout",
     "output_type": "stream",
     "text": [
      "True\n"
     ]
    }
   ],
   "source": [
    "# Question Number 9:\n",
    "a = 'madam'\n",
    "if a==a[::-1]:\n",
    "    print(True)\n",
    "else:\n",
    "    print(False)"
   ]
  },
  {
   "cell_type": "code",
   "execution_count": 1,
   "id": "d15834dd-fece-443b-b946-bb5a26a534d1",
   "metadata": {},
   "outputs": [
    {
     "name": "stdout",
     "output_type": "stream",
     "text": [
      "'C' Grade\n"
     ]
    }
   ],
   "source": [
    "# Question Number 10:\n",
    "def calculate_grade(n):\n",
    "    if n>=90:\n",
    "        return \"'A' Grade\"\n",
    "    elif n>=80:\n",
    "        return \"'B' Grade\"\n",
    "    elif n>=70:\n",
    "        return \"'C' Grade\"\n",
    "    elif n>=60:\n",
    "        return \"'D' Grade\"\n",
    "    else:\n",
    "        return \"'E' Grade\"\n",
    "\n",
    "print(calculate_grade(78))"
   ]
  },
  {
   "cell_type": "markdown",
   "id": "09db6c98-5803-4d09-9265-2c68e8e6fc63",
   "metadata": {},
   "source": [
    "### Nested If-Else statements:"
   ]
  },
  {
   "cell_type": "code",
   "execution_count": 2,
   "id": "1ff0e619-207f-4975-938f-749718e16baa",
   "metadata": {},
   "outputs": [
    {
     "name": "stdout",
     "output_type": "stream",
     "text": [
      "9\n"
     ]
    }
   ],
   "source": [
    "# Question Number 11:\n",
    "def largest_number(n1,n2,n3):\n",
    "    if n1>=n2:\n",
    "        if n1>=n3:\n",
    "            return n1\n",
    "        else:\n",
    "            return n3\n",
    "    else:\n",
    "        if n2>=n3:\n",
    "            return n2\n",
    "        else:\n",
    "            return n3\n",
    "\n",
    "print(largest_number(2,9,5))"
   ]
  },
  {
   "cell_type": "code",
   "execution_count": 6,
   "id": "0308b071-abf4-4018-b4ad-4c59b0e5054f",
   "metadata": {},
   "outputs": [
    {
     "name": "stdout",
     "output_type": "stream",
     "text": [
      "given triangle is isosceles triangle\n"
     ]
    }
   ],
   "source": [
    "# Question Number 12:\n",
    "def type_triangle(s1,s2,s3):\n",
    "    if s1==s2==s3:\n",
    "        return \"given triangle is equilateral triangle\"\n",
    "    else:\n",
    "        if s1==s2 or s2==s3 or s1==s3:\n",
    "            return \"given triangle is isosceles triangle\"\n",
    "        else:\n",
    "            return \"give triangle is scalene triangle\"\n",
    "\n",
    "print(type_triangle(3,5,3))"
   ]
  },
  {
   "cell_type": "code",
   "execution_count": 15,
   "id": "33ac8517-a034-4d1e-b794-d7289d4ad363",
   "metadata": {},
   "outputs": [
    {
     "name": "stdout",
     "output_type": "stream",
     "text": [
      "(2024, 'is a leap year but not a century year')\n"
     ]
    }
   ],
   "source": [
    "# Question Number 13:\n",
    "def check_year(year):\n",
    "    if year%4==0:\n",
    "        if year%100==0:\n",
    "            if year%400==0:\n",
    "                return(year,\"is a leap year and a century year\")\n",
    "            else:\n",
    "                return(year,\"is a cetury year but not a leap year\")\n",
    "        else:\n",
    "            return(year,\"is a leap year but not a century year\")\n",
    "    else:\n",
    "        return(year,\"is neither a leap year nor a century year\")\n",
    "\n",
    "print(check_year(2024))"
   ]
  },
  {
   "cell_type": "code",
   "execution_count": 31,
   "id": "0ff0cdc4-1c74-42ff-8872-8c2cc39cc9df",
   "metadata": {},
   "outputs": [
    {
     "name": "stdout",
     "output_type": "stream",
     "text": [
      "negative number\n"
     ]
    }
   ],
   "source": [
    "# Question Number 14:\n",
    "def determine_number(n):\n",
    "    if n>0:\n",
    "        return \"positive number\"\n",
    "    else:\n",
    "        if n<0:\n",
    "            return \"negative number\"\n",
    "        else:\n",
    "            return \"number is zero\"\n",
    "\n",
    "print(determine_number(-6))"
   ]
  },
  {
   "cell_type": "code",
   "execution_count": 35,
   "id": "3d3253d6-c11b-402e-b66c-791d9b29c94b",
   "metadata": {},
   "outputs": [
    {
     "name": "stdout",
     "output_type": "stream",
     "text": [
      "True\n"
     ]
    }
   ],
   "source": [
    "# Question Number 15:\n",
    "def check_teenager(age):\n",
    "    if age>=13:\n",
    "        if age<=19:\n",
    "            return True\n",
    "        else:\n",
    "            return False\n",
    "    else:\n",
    "        return False\n",
    "\n",
    "print(check_teenager(17))"
   ]
  },
  {
   "cell_type": "code",
   "execution_count": 39,
   "id": "444d4728-baae-4af1-9543-a9d92672b7bf",
   "metadata": {},
   "outputs": [
    {
     "name": "stdout",
     "output_type": "stream",
     "text": [
      "(90, 'is right angle')\n"
     ]
    }
   ],
   "source": [
    "# Question Number 16:\n",
    "def check_angle(a):\n",
    "    if a<90:\n",
    "        return(a,\"is acute angle\")\n",
    "    else:\n",
    "        if a>90 and a<180:\n",
    "            return(a,\"is obtuse angle\")\n",
    "        else:\n",
    "            if a==90:\n",
    "                return(a,\"is right angle\")\n",
    "            else:\n",
    "                return(a,\"is invalid angle\")\n",
    "\n",
    "print(check_angle(90))"
   ]
  },
  {
   "cell_type": "code",
   "execution_count": 14,
   "id": "8f14e6a6-b28b-4845-8b9b-865d0aae842e",
   "metadata": {},
   "outputs": [
    {
     "name": "stdout",
     "output_type": "stream",
     "text": [
      "('the roots are real and differnt:', 1.5, 1.0)\n"
     ]
    }
   ],
   "source": [
    "# Question Number 17:\n",
    "import math\n",
    "def roots_quadratic_equation(a,b,c):\n",
    "    d = b**2-4*a*c\n",
    "    if d>0:\n",
    "        root1 = (-b+math.sqrt(d))/(2*a)\n",
    "        root2 = (-b-math.sqrt(d))/(2*a)\n",
    "        return('the roots are real and differnt:',root1,root2)\n",
    "    else:\n",
    "        if d==0:\n",
    "            root = -b/(2*a)\n",
    "            return(\"the roots are equal:\",root)\n",
    "        else:\n",
    "            real_part = -b/(2*a)\n",
    "            imaginary_part = math.sqrt(abs(d))/(2*a)\n",
    "            root1 = complex(real_part,imaginary_part)\n",
    "            root2 = complex(real_part,imaginary_part)\n",
    "            return(\"the roots are complex and different:\",root1,root2)\n",
    "\n",
    "print(roots_quadratic_equation(2,-5,3))"
   ]
  },
  {
   "cell_type": "code",
   "execution_count": 15,
   "id": "af0ad8f6-3f72-46a7-a2f5-216dea0fbff3",
   "metadata": {},
   "outputs": [
    {
     "name": "stdout",
     "output_type": "stream",
     "text": [
      "Thursday\n"
     ]
    }
   ],
   "source": [
    "# Question Number 18:\n",
    "def day_of_week(n):\n",
    "    if n==1:\n",
    "        return \"Monday\"\n",
    "    if n==2:\n",
    "        return \"Tuesday\"\n",
    "    if n==3:\n",
    "        return \"Wednesday\"\n",
    "    if n==4:\n",
    "        return \"Thursday\"\n",
    "    if n==5:\n",
    "        return \"Friday\"\n",
    "    if n==6:\n",
    "        return \"Saturday\"\n",
    "    if n==7:\n",
    "        return \"Sunday\"\n",
    "\n",
    "print(day_of_week(4))"
   ]
  },
  {
   "cell_type": "code",
   "execution_count": 16,
   "id": "a8da7cf9-ce58-4fba-b9ac-839bb56768ae",
   "metadata": {},
   "outputs": [
    {
     "name": "stdout",
     "output_type": "stream",
     "text": [
      "True\n"
     ]
    }
   ],
   "source": [
    "# Question Number 19:\n",
    "def check_leap_year(year):\n",
    "    if year%4==0:\n",
    "        if year%100==0:\n",
    "            if year%400==0:\n",
    "                return True\n",
    "            else:\n",
    "                return False\n",
    "        else:\n",
    "            return True\n",
    "    else:\n",
    "        return False\n",
    "\n",
    "print(check_leap_year(2024))"
   ]
  },
  {
   "cell_type": "code",
   "execution_count": 18,
   "id": "d64e2184-71e9-455e-a547-e9c7b430d824",
   "metadata": {},
   "outputs": [
    {
     "name": "stdout",
     "output_type": "stream",
     "text": [
      "its a prime number\n"
     ]
    }
   ],
   "source": [
    "# Question Number 20:\n",
    "def is_prime_num(n):\n",
    "    if n<=1:\n",
    "        print(\"not a prime number\")\n",
    "    else:\n",
    "        for i in range(2,int(n**0.5)+1):\n",
    "            if n%i==0:\n",
    "                print(\"not a prime number\")\n",
    "            else:\n",
    "                return\"its a prime number\"\n",
    "\n",
    "print(is_prime_num(13))"
   ]
  },
  {
   "cell_type": "markdown",
   "id": "f0bed72a-b972-4807-a135-8feae5cdeb29",
   "metadata": {},
   "source": [
    "### Elif Statements :"
   ]
  },
  {
   "cell_type": "code",
   "execution_count": 21,
   "id": "25163b7d-9a3f-4334-b3bc-5a719854f46a",
   "metadata": {},
   "outputs": [
    {
     "name": "stdout",
     "output_type": "stream",
     "text": [
      "grade is 'C'\n"
     ]
    }
   ],
   "source": [
    "# Question Number 21:\n",
    "def grades_based_on_score(n):\n",
    "    if n>=90:\n",
    "        return \"grade is 'A'\"\n",
    "    elif n>=80:\n",
    "        return \"grade is 'B'\"\n",
    "    elif n>=70:\n",
    "        return \"grade is 'C'\"\n",
    "    elif n>=60:\n",
    "        return \"grade is 'D'\"\n",
    "    else:\n",
    "        return \"grade if F\"\n",
    "\n",
    "print(grades_based_on_score(78))"
   ]
  },
  {
   "cell_type": "code",
   "execution_count": 26,
   "id": "853a6404-8b70-4558-9553-3e90b800c772",
   "metadata": {},
   "outputs": [
    {
     "name": "stdout",
     "output_type": "stream",
     "text": [
      "right angle triangle\n"
     ]
    }
   ],
   "source": [
    "# Question Number 22:\n",
    "def type_triangle(a1,a2,a3):\n",
    "    if a1>90 or a2>90 or a3>90:\n",
    "        return \"obtuse angle triangle\"\n",
    "    elif 0<a1<90 and 0<a2<90 and 0<a3<90:\n",
    "        return \"acute angle triangle\"\n",
    "    elif a1==90 or a2==90 or a3==90:\n",
    "        return \"right angle triangle\"\n",
    "    else:\n",
    "        return \"invalid angles\"\n",
    "\n",
    "print(type_triangle(35,90,55))"
   ]
  },
  {
   "cell_type": "code",
   "execution_count": 28,
   "id": "e3325ce4-6e74-45f9-b08e-7571cb1bc4e1",
   "metadata": {},
   "outputs": [
    {
     "name": "stdout",
     "output_type": "stream",
     "text": [
      "the person comes in normal categorize\n"
     ]
    }
   ],
   "source": [
    "# Question Number 23:\n",
    "def categorize_BMI(bmi):\n",
    "    if bmi<18.5:\n",
    "        return \"the person comes in underweight categorize\"\n",
    "    elif 18.5<bmi<24.9:\n",
    "        return \"the person comes in normal categorize\"\n",
    "    elif 25<bmi<29.5:\n",
    "        return \"the person comes under overweight categorize\"\n",
    "    elif bmi>30:\n",
    "        return \"the person comes under obese\"\n",
    "    else:\n",
    "        return \"invaid bmi\"\n",
    "\n",
    "print(categorize_BMI(21.8))"
   ]
  },
  {
   "cell_type": "code",
   "execution_count": 31,
   "id": "da43aa54-ade1-41aa-8443-b57e9bf9b1fb",
   "metadata": {},
   "outputs": [
    {
     "name": "stdout",
     "output_type": "stream",
     "text": [
      "negative number\n"
     ]
    }
   ],
   "source": [
    "# Question Number 24:\n",
    "def check_number(n):\n",
    "    if n>0:\n",
    "        return \"Positive number\"\n",
    "    elif n==0:\n",
    "        return \"zero number\"\n",
    "    elif n<0:\n",
    "        return \"negative number\"\n",
    "    else:\n",
    "        return \"invalid number\"\n",
    "\n",
    "print(check_number(-34))"
   ]
  },
  {
   "cell_type": "code",
   "execution_count": 1,
   "id": "217e0912-aa93-40d3-b258-f5b7449696ef",
   "metadata": {},
   "outputs": [
    {
     "name": "stdout",
     "output_type": "stream",
     "text": [
      "the character is lowercase\n"
     ]
    }
   ],
   "source": [
    "# Question Number 25:\n",
    "def type_character(l):\n",
    "    if l==l.upper():\n",
    "        return \"the character is uppercase\"\n",
    "    elif l==l.lower():\n",
    "        return \"the character is lowercase\"\n",
    "    else:\n",
    "        return \"the character is special character\"\n",
    "\n",
    "print(type_character('priyanka'))"
   ]
  },
  {
   "cell_type": "code",
   "execution_count": 3,
   "id": "ba640cff-845a-45d1-aa07-4130ff20885d",
   "metadata": {},
   "outputs": [
    {
     "name": "stdout",
     "output_type": "stream",
     "text": [
      "760.0\n"
     ]
    }
   ],
   "source": [
    "# Question Number 26:\n",
    "def calculate_discount_price(p):\n",
    "    if p>=1000:\n",
    "        discount = 0.1\n",
    "    elif p>=500:\n",
    "        discount = 0.05\n",
    "    elif p>=200:\n",
    "        discount = 0.02\n",
    "    else:\n",
    "        discount = 0\n",
    "    discount_price = p-(p*discount)\n",
    "    return discount_price\n",
    "\n",
    "discount_price = calculate_discount_price(800)\n",
    "print(discount_price)"
   ]
  },
  {
   "cell_type": "code",
   "execution_count": 18,
   "id": "6e106d65-58c4-407d-bbcb-3e340a2de10f",
   "metadata": {},
   "outputs": [
    {
     "name": "stdout",
     "output_type": "stream",
     "text": [
      "Rhombus\n"
     ]
    }
   ],
   "source": [
    "# Question Number 28:\n",
    "def type_quadrilateral(a,b,c,d,A,B,C,D):\n",
    "    if a==b==c==d and A==B==C==D==90:\n",
    "        return \"square\"\n",
    "    elif a==c and b==d and A==B==C==D==90:\n",
    "        return \"Rectangle\"\n",
    "    elif a==b==c==d and A==C and B==D:\n",
    "        return \"Rhombus\"\n",
    "    elif a==c and b==d and A==C and B==D:\n",
    "        return \"Parallelogram\"\n",
    "    else:\n",
    "        return \"General Quadrilateral\"\n",
    "\n",
    "print(type_quadrilateral(4,4,4,4,100,80,100,80))"
   ]
  },
  {
   "cell_type": "code",
   "execution_count": 20,
   "id": "02fca10b-1638-488d-a5e2-dd977488a8d7",
   "metadata": {},
   "outputs": [
    {
     "name": "stdout",
     "output_type": "stream",
     "text": [
      "Autumn season\n"
     ]
    }
   ],
   "source": [
    "# Question Number 29:\n",
    "def get_season(month):\n",
    "    if month in range(3,6):\n",
    "        return \"spring season\"\n",
    "    elif month in range(6,9):\n",
    "        return \"summer season\"\n",
    "    elif month in range(9,12):\n",
    "        return \"Autumn season\"\n",
    "    elif month in range(12,3):\n",
    "        return \"winter season\"\n",
    "    else:\n",
    "        return \"invalid season\"\n",
    "\n",
    "print(get_season(10))"
   ]
  },
  {
   "cell_type": "code",
   "execution_count": 30,
   "id": "97dc0920-ea4d-4a47-bdc3-0c7ab36ffdd3",
   "metadata": {},
   "outputs": [
    {
     "name": "stdout",
     "output_type": "stream",
     "text": [
      "2023, And its comman year, and this month have 28 Days\n"
     ]
    }
   ],
   "source": [
    "# Question Number 30:\n",
    "\n",
    "def main(year,month):\n",
    "    \n",
    "    def is_month(month):\n",
    "        if month in (1,3,5,7,8,10,12):\n",
    "            return \"31 Days\"\n",
    "        elif month in (4,6,9,11):\n",
    "            return \"30 Days\"\n",
    "        elif month==2:\n",
    "            if is_leapyear(year):\n",
    "                return \"29 days\"\n",
    "            else:\n",
    "                return \"28 Days\"\n",
    "        else:\n",
    "            return \"invalid month\"\n",
    "\n",
    "    def is_leapyear(year):\n",
    "        if year%4==0:\n",
    "            if year%100==0:\n",
    "                if year%400==0:\n",
    "                    return True\n",
    "                else:\n",
    "                    return False\n",
    "            else:\n",
    "                return True\n",
    "        else:\n",
    "            return False\n",
    "\n",
    "    \n",
    "    if is_leapyear(year):\n",
    "        return f\"{year}, And its Leap year, and this month have {is_month(month)}\"\n",
    "    else:\n",
    "        return f\"{year}, And its comman year, and this month have {is_month(month)}\"\n",
    "    \n",
    "\n",
    "print(main(2023,2))"
   ]
  },
  {
   "cell_type": "markdown",
   "id": "9c390b96-1e4f-4a74-a8f8-f3403b839edb",
   "metadata": {},
   "source": [
    "## Basic Level Questions :"
   ]
  },
  {
   "cell_type": "code",
   "execution_count": 4,
   "id": "df408988-de1a-4ec0-8a0e-25ddb6bb2260",
   "metadata": {},
   "outputs": [
    {
     "name": "stdout",
     "output_type": "stream",
     "text": [
      "negative\n"
     ]
    }
   ],
   "source": [
    "# Question Number 1:\n",
    "def type_number(n):\n",
    "    if n<0:\n",
    "        return \"negative\"\n",
    "    elif n>0:\n",
    "        return \"positive\"\n",
    "    elif n==0:\n",
    "        return \"zero\"\n",
    "    else:\n",
    "        return \"invalid number\"\n",
    "\n",
    "print(type_number(-16))"
   ]
  },
  {
   "cell_type": "code",
   "execution_count": 5,
   "id": "a404e07a-06d9-449a-b0d8-3a87e3a8134e",
   "metadata": {},
   "outputs": [
    {
     "name": "stdout",
     "output_type": "stream",
     "text": [
      "No , not eligible to vote\n"
     ]
    }
   ],
   "source": [
    "# Question Number 2:\n",
    "def eligible_to_vote(age):\n",
    "    if age>18:\n",
    "        return \"Yes , eligible to vote\"\n",
    "    else:\n",
    "        return \"No , not eligible to vote\"\n",
    "\n",
    "print(eligible_to_vote(17))"
   ]
  },
  {
   "cell_type": "code",
   "execution_count": 10,
   "id": "0f41c4ad-93df-4288-94aa-1c1ca47d50eb",
   "metadata": {},
   "outputs": [
    {
     "name": "stdout",
     "output_type": "stream",
     "text": [
      "('max is n2:', 16)\n"
     ]
    }
   ],
   "source": [
    "# Question Number 3:\n",
    "def max_two_numbers(n1,n2):\n",
    "    if n1>n2:\n",
    "        return \"max is n1:\",n1\n",
    "    else:\n",
    "        return \"max is n2:\",n2\n",
    "\n",
    "print(max_two_numbers(9,16))"
   ]
  },
  {
   "cell_type": "code",
   "execution_count": 18,
   "id": "6de36bd7-9da0-4f1c-914f-f9df35b71cf6",
   "metadata": {},
   "outputs": [
    {
     "name": "stdout",
     "output_type": "stream",
     "text": [
      "C garde\n"
     ]
    }
   ],
   "source": [
    "# Question Number 4:\n",
    "def calculate_grade(n):\n",
    "    if n>90:\n",
    "        return \"A grade\"\n",
    "    elif n>80:\n",
    "        return \"B grade\"\n",
    "    elif n>70:\n",
    "        return \"C garde\"\n",
    "    elif n>60:\n",
    "        return \"D grade\"\n",
    "    elif n<33:\n",
    "        return \"Fail\"\n",
    "    else:\n",
    "        return \"E grade\"\n",
    "\n",
    "print(calculate_grade(78))"
   ]
  },
  {
   "cell_type": "code",
   "execution_count": 22,
   "id": "79737139-b09b-46ca-a52f-e9152e7c77be",
   "metadata": {},
   "outputs": [
    {
     "name": "stdout",
     "output_type": "stream",
     "text": [
      "True\n"
     ]
    }
   ],
   "source": [
    "# Question Number 5:\n",
    "def check_leap_year(year):\n",
    "    if year%4==0:\n",
    "        if year%100==0:\n",
    "            if year%400==0:\n",
    "                return True\n",
    "            else:\n",
    "                return False\n",
    "        else:\n",
    "            return True\n",
    "    else:\n",
    "        return False\n",
    "\n",
    "print(check_leap_year(2024))"
   ]
  },
  {
   "cell_type": "code",
   "execution_count": 25,
   "id": "57dad741-73dc-4be9-9025-0762fd9bda83",
   "metadata": {},
   "outputs": [
    {
     "name": "stdout",
     "output_type": "stream",
     "text": [
      "Isosceles Triangle\n"
     ]
    }
   ],
   "source": [
    "# Question Number 6:\n",
    "def classify_triangle(a,b,c):\n",
    "    if a==b==c:\n",
    "        return \"Equilateral Triangle\"\n",
    "    elif a==b or b==c or c==a:\n",
    "        return \"Isosceles Triangle\"\n",
    "    elif a!=b!=c:\n",
    "        return \"Scalene Triangle\"\n",
    "\n",
    "print(classify_triangle(2,5,2))"
   ]
  },
  {
   "cell_type": "code",
   "execution_count": 26,
   "id": "180e1ba3-27cc-4e5e-b887-86cd812e78a7",
   "metadata": {},
   "outputs": [
    {
     "name": "stdout",
     "output_type": "stream",
     "text": [
      "7\n"
     ]
    }
   ],
   "source": [
    "# Question Number 7:\n",
    "def determine_largest(n1,n2,n3):\n",
    "    if n1>n2 and n1>n3:\n",
    "        return n1\n",
    "    elif n2>n1 and n2>n3:\n",
    "        return n2\n",
    "    else:\n",
    "        return n3\n",
    "\n",
    "print(determine_largest(2,7,4))"
   ]
  },
  {
   "cell_type": "code",
   "execution_count": 29,
   "id": "33c6d0a7-f53a-4212-ae1b-8a5c30bf7a6e",
   "metadata": {},
   "outputs": [
    {
     "name": "stdout",
     "output_type": "stream",
     "text": [
      "its vowel\n"
     ]
    }
   ],
   "source": [
    "# Question number 8:\n",
    "def check_vowel_constant(l):\n",
    "    if l in \"a,e,i,o,u\":\n",
    "        return \"its vowel\"\n",
    "    else:\n",
    "        return \"its constant\"\n",
    "\n",
    "print(check_vowel_constant(\"o\"))"
   ]
  },
  {
   "cell_type": "code",
   "execution_count": 31,
   "id": "42ac5afe-5d4c-44f4-bb40-1074c1a6b48d",
   "metadata": {},
   "outputs": [
    {
     "name": "stdout",
     "output_type": "stream",
     "text": [
      "odd number\n"
     ]
    }
   ],
   "source": [
    "# Question Number 10:\n",
    "def check_even_odd(n):\n",
    "    if n%2==0:\n",
    "        return \"Even number\"\n",
    "    else:\n",
    "        return \"odd number\"\n",
    "\n",
    "print(check_even_odd(15))"
   ]
  },
  {
   "cell_type": "markdown",
   "id": "c54b97d0-9ca6-46ca-807f-83f47fb6633d",
   "metadata": {},
   "source": [
    "## Intermediate Level :"
   ]
  },
  {
   "cell_type": "code",
   "execution_count": 39,
   "id": "e18b56f1-3903-4a8d-9b99-b6f1586955ad",
   "metadata": {},
   "outputs": [
    {
     "name": "stdout",
     "output_type": "stream",
     "text": [
      "('the roots are complex and different and the roots is:', (-2+1j), (-2+1j))\n"
     ]
    }
   ],
   "source": [
    "# Question Number 11:\n",
    "import math\n",
    "def quadratic_equation_roots(a,b,c):\n",
    "    d = b**2-4*a*c\n",
    "    if d>0:\n",
    "        root1 = -b+math.sqrt(d)/(2*a)\n",
    "        root2 = -b-math.sqrt(d)/(2*a)\n",
    "        return 'the roots are real and different and the roots is:',root1,root2\n",
    "    else:\n",
    "        if d==0:\n",
    "            root = -b/(2*a)\n",
    "            return 'the roots are equal and root is:',root\n",
    "        else:\n",
    "            real_part = -b/2*a\n",
    "            complex_part = math.sqrt(abs(d))/(2*a)\n",
    "            root1 = complex(real_part,complex_part)\n",
    "            root2 = complex(real_part,complex_part)\n",
    "            return \"the roots are complex and different and the roots is:\",root1,root2\n",
    "\n",
    "print(quadratic_equation_roots(1,4,5))"
   ]
  },
  {
   "cell_type": "code",
   "execution_count": 40,
   "id": "8db4b3b3-b99d-4119-9e23-53cc262b2dc2",
   "metadata": {},
   "outputs": [
    {
     "name": "stdout",
     "output_type": "stream",
     "text": [
      "Thursday\n"
     ]
    }
   ],
   "source": [
    "# Question Number 12:\n",
    "def day_of_week(n):\n",
    "    if n==1:\n",
    "        return \"Monday\"\n",
    "    elif n==2:\n",
    "        return \"Tuesday\"\n",
    "    elif n==3:\n",
    "        return \"Wednesday\"\n",
    "    elif n==4:\n",
    "        return \"Thursday\"\n",
    "    elif n==5:\n",
    "        return \"Friday\"\n",
    "    elif n==6:\n",
    "        return \"Saturday\"\n",
    "    elif n==7:\n",
    "        return \"Sunday\"\n",
    "    else:\n",
    "        return \"invalid number of days\"\n",
    "\n",
    "print(day_of_week(4))"
   ]
  },
  {
   "cell_type": "code",
   "execution_count": 41,
   "id": "0f38f30e-679d-4cc1-b84d-9674d41cb5a9",
   "metadata": {},
   "outputs": [
    {
     "name": "stdout",
     "output_type": "stream",
     "text": [
      "7\n"
     ]
    }
   ],
   "source": [
    "# Question Numbr 14:\n",
    "def determine_largest(n1,n2,n3):\n",
    "    if n1>n2 and n1>n3:\n",
    "        return n1\n",
    "    elif n2>n1 and n2>n3:\n",
    "        return n2\n",
    "    else:\n",
    "        return n3\n",
    "\n",
    "print(determine_largest(2,7,4))"
   ]
  },
  {
   "cell_type": "code",
   "execution_count": 5,
   "id": "848ce31a-afc9-4fb1-b985-1ae060d41cd3",
   "metadata": {},
   "outputs": [
    {
     "name": "stdout",
     "output_type": "stream",
     "text": [
      "Welcome to the ATM\n",
      "1. check balance\n",
      "2. deposite money\n",
      "3. withdraw money\n",
      "4. exit\n"
     ]
    },
    {
     "name": "stdin",
     "output_type": "stream",
     "text": [
      "Enter amount of withdraw: 5000\n"
     ]
    },
    {
     "name": "stdout",
     "output_type": "stream",
     "text": [
      "('updated balance is:', 5000)\n"
     ]
    }
   ],
   "source": [
    "# Question Number 15:\n",
    "def atm_menu(choice):\n",
    "    balance = 10000\n",
    "    print('Welcome to the ATM')\n",
    "    print('1. check balance')\n",
    "    print('2. deposite money')\n",
    "    print('3. withdraw money')\n",
    "    print('4. exit')\n",
    "    if choice==1:\n",
    "        return 'Your balance is:',balance\n",
    "    elif choice==2:\n",
    "        amount = int(input('Enter amount of deposite:'))\n",
    "        balance+=amount\n",
    "        return 'updated balance is:',balance\n",
    "    elif choice==3:\n",
    "        amount = int(input('Enter amount of withdraw:'))\n",
    "        if amount>balance:\n",
    "            return 'insufficent balance'\n",
    "        else:\n",
    "            balance-=amount\n",
    "            return 'updated balance is:',balance\n",
    "    elif choice==4:\n",
    "        return 'Thankyou for visiting our ATM'\n",
    "    else:\n",
    "        return 'invalid choice,please choice the valid option'\n",
    "\n",
    "print(atm_menu(3))"
   ]
  },
  {
   "cell_type": "code",
   "execution_count": 5,
   "id": "43ef496a-7572-4686-b1b1-5827f0d8d7fb",
   "metadata": {},
   "outputs": [
    {
     "name": "stdout",
     "output_type": "stream",
     "text": [
      "its a pallindrome\n"
     ]
    }
   ],
   "source": [
    "# Question Number 16:\n",
    "def check_pallindrome(l):\n",
    "    if l==l[::-1]:\n",
    "        return \"its a pallindrome\"\n",
    "    else:\n",
    "        return \"its not a pallindrome\"\n",
    "\n",
    "print(check_pallindrome('madam'))"
   ]
  },
  {
   "cell_type": "code",
   "execution_count": 7,
   "id": "44318a02-e4ac-468c-b36e-e5c7de4984f6",
   "metadata": {},
   "outputs": [
    {
     "name": "stdout",
     "output_type": "stream",
     "text": [
      "5.5\n"
     ]
    }
   ],
   "source": [
    "# Question Number 17:\n",
    "def calculate_average(numbers):\n",
    "    if len(numbers)<3:\n",
    "        return ('list must be contain minimum three numbers')\n",
    "    numbers.sort()\n",
    "    numbers = numbers[1:-1]\n",
    "    total = 0\n",
    "    for num in numbers:\n",
    "        total+=num\n",
    "    average = total/len(numbers)\n",
    "    return average\n",
    "\n",
    "print(calculate_average([1,2,3,4,5,6,7,8,9,10]))"
   ]
  },
  {
   "cell_type": "code",
   "execution_count": 16,
   "id": "f7e6a8a7-0431-449d-a918-aa07e476efa3",
   "metadata": {},
   "outputs": [
    {
     "name": "stdout",
     "output_type": "stream",
     "text": [
      "77.0\n"
     ]
    }
   ],
   "source": [
    "# Question Number 18:\n",
    "def calculate_fahrenheit(c):\n",
    "    f=(9/5)*c+32\n",
    "    return f\n",
    "\n",
    "print(calculate_fahrenheit(25))"
   ]
  },
  {
   "cell_type": "code",
   "execution_count": 3,
   "id": "73e24583-2e0a-46e4-a43d-ecbd18747cc2",
   "metadata": {},
   "outputs": [
    {
     "name": "stdout",
     "output_type": "stream",
     "text": [
      "1. Addition\n",
      "2. subtraction\n",
      "3. multiplication\n",
      "4. division\n",
      "5. exit\n"
     ]
    },
    {
     "name": "stdin",
     "output_type": "stream",
     "text": [
      "enter first number: 50\n",
      "enter second number: 5\n"
     ]
    },
    {
     "name": "stdout",
     "output_type": "stream",
     "text": [
      "('the result is:', 10.0)\n"
     ]
    }
   ],
   "source": [
    "### Question Number 19:\n",
    "def make_calculator(choice):\n",
    "    print('1. Addition')\n",
    "    print('2. subtraction')\n",
    "    print('3. multiplication')\n",
    "    print('4. division')\n",
    "    print('5. exit')\n",
    "\n",
    "    if choice==5:\n",
    "        return 'thankyou for using calculator'\n",
    "        \n",
    "    num1 = int(input('enter first number:'))\n",
    "    num2 = int(input('enter second number:'))\n",
    "\n",
    "    if choice==1:\n",
    "        result = num1+num2\n",
    "        return 'the result is:',result\n",
    "    elif choice==2:\n",
    "        result = num1-num2\n",
    "        return 'the result is:',result\n",
    "    elif choice==3:\n",
    "        result = num1*num2\n",
    "        return 'the result is:',result\n",
    "    elif choice==4:\n",
    "        if num2!=0:\n",
    "            result = num1/num2\n",
    "            return 'the result is:',result\n",
    "        else:\n",
    "            return 'Error, division by zero is not allowed'\n",
    "    else:\n",
    "        return'invalid choice,choose valid option'\n",
    "\n",
    "print(make_calculator(4))"
   ]
  },
  {
   "cell_type": "markdown",
   "id": "2d728821-4e98-45a5-b54c-1d7098d5ea5a",
   "metadata": {},
   "source": [
    "## Advance Level :"
   ]
  },
  {
   "cell_type": "code",
   "execution_count": 14,
   "id": "74328462-b24f-421b-8d6a-a4dfc89f5a21",
   "metadata": {},
   "outputs": [
    {
     "name": "stdout",
     "output_type": "stream",
     "text": [
      "1. rock\n",
      "2. paper\n",
      "3. scissors\n",
      "4. exit\n",
      "You choose:scissor\n",
      "computer choice:paper\n",
      "You win!\n"
     ]
    }
   ],
   "source": [
    "# Question number 22:\n",
    "import random\n",
    "\n",
    "def rock_paper_scissors(user_choice):\n",
    "    print('1. rock')\n",
    "    print('2. paper')\n",
    "    print('3. scissors')\n",
    "    print('4. exit')\n",
    "    \n",
    "    choice = {1:'rock',2:'paper',3:'scissor'}\n",
    "    computer_choice = random.randint(1,3)\n",
    "\n",
    "    if user_choice==4:\n",
    "        return \"Thanks for playing!\"\n",
    "    if user_choice not in [1,2,3,4]:\n",
    "        return \"invalid choice,please choose a valid option\"\n",
    "\n",
    "    print('You choose:'+choice[user_choice])\n",
    "    print('computer choice:'+choice[computer_choice])\n",
    "    \n",
    "    if user_choice==computer_choice:\n",
    "        return \"its a die!\"\n",
    "    elif (user_choice==1 and computer_choice==3) or (user_choice==2 and computer_choice==1) or (user_choice==3 and computer_choice==2):\n",
    "        return \"You win!\"\n",
    "    else:\n",
    "        return \"Computer win!\"\n",
    "\n",
    "\n",
    "print(rock_paper_scissors(3))"
   ]
  },
  {
   "cell_type": "code",
   "execution_count": 8,
   "id": "1801fbb6-6611-4d7c-bc5b-29c0a4f39237",
   "metadata": {},
   "outputs": [
    {
     "name": "stdout",
     "output_type": "stream",
     "text": [
      "0RIU.\"\n"
     ]
    }
   ],
   "source": [
    "# Question Number 23:\n",
    "import random \n",
    "import string\n",
    "def random_password(length,complexity):\n",
    "    password = ''\n",
    "    if complexity=='low':\n",
    "        chars = string.ascii_letters\n",
    "    elif complexity=='medium':\n",
    "        chars = string.ascii_letters+string.digits\n",
    "    elif complexity=='high':\n",
    "        chars = string.ascii_letters+string.digits+string.punctuation\n",
    "    else:\n",
    "        print('invalid complexity , choose correct one')\n",
    "\n",
    "    for i in range(length):\n",
    "        password+=random.choice(chars)\n",
    "\n",
    "    return password\n",
    "\n",
    "print(random_password(6,'high'))"
   ]
  },
  {
   "cell_type": "code",
   "execution_count": 3,
   "id": "03f32c2f-2152-4411-aef4-ed6536addbc9",
   "metadata": {},
   "outputs": [
    {
     "name": "stdout",
     "output_type": "stream",
     "text": [
      "('solution x=', -10.0)\n"
     ]
    }
   ],
   "source": [
    "# Question Nummber 25:\n",
    "def solve_linear_equation(a,b):\n",
    "    if a==0:\n",
    "        if b==0:\n",
    "            return 'infinite solution'\n",
    "        else:\n",
    "            return 'no solution:equation is inconsistant'\n",
    "    else:\n",
    "        x = -b/a\n",
    "        return'solution x=',x\n",
    "\n",
    "print(solve_linear_equation(5,50))"
   ]
  },
  {
   "cell_type": "code",
   "execution_count": 8,
   "id": "0955c002-4d03-4a87-ab79-962a12d28071",
   "metadata": {},
   "outputs": [
    {
     "name": "stdin",
     "output_type": "stream",
     "text": [
      "enter a year to determine the year is prime or not 2019\n"
     ]
    },
    {
     "name": "stdout",
     "output_type": "stream",
     "text": [
      "2019 is not a prime number\n",
      "None\n"
     ]
    }
   ],
   "source": [
    "# Question Number 27:\n",
    "def is_prime(year):\n",
    "    if year<=1:\n",
    "        return False\n",
    "    for i in range(2,int(year**0.5)+1):\n",
    "        if year%1==0:\n",
    "            return False\n",
    "        else:\n",
    "            return True\n",
    "def main():\n",
    "    year = int(input('enter a year to determine the year is prime or not'))\n",
    "    if is_prime(year):\n",
    "        print(f\"{year} is a prime number\")\n",
    "    else:\n",
    "        print(f\"{year} is not a prime number\")\n",
    "\n",
    "print(main())"
   ]
  },
  {
   "cell_type": "code",
   "execution_count": 11,
   "id": "fc4694ca-8061-4e43-b7d5-fea79e75c5e6",
   "metadata": {},
   "outputs": [
    {
     "name": "stdout",
     "output_type": "stream",
     "text": [
      "(2, 5, 9)\n"
     ]
    }
   ],
   "source": [
    "# Question Number 28:\n",
    "def ascending_order(n1,n2,n3):\n",
    "    if n1<=n2 and n1<=n3:\n",
    "        smallest = n1\n",
    "        if n2<=n3:\n",
    "            middle = n2\n",
    "            largest = n3\n",
    "        else:\n",
    "            middle = n3\n",
    "            largest = n2\n",
    "    elif n2<=n1 and n2<=n3:\n",
    "        smallest = n2\n",
    "        if n1<=n3:\n",
    "            middle = n1\n",
    "            largest = n3\n",
    "        else:\n",
    "            middle = n3\n",
    "            largest = n1\n",
    "    else:\n",
    "        smallest = n3\n",
    "        if n1<=n2:\n",
    "            middle = n1\n",
    "            largest = n2\n",
    "        else:\n",
    "            middle = n2\n",
    "            largest = n1\n",
    "    return smallest,middle,largest\n",
    "\n",
    "print(ascending_order(5,9,2))"
   ]
  },
  {
   "cell_type": "code",
   "execution_count": 15,
   "id": "7a493e33-4575-4eb0-b923-8926269fcafc",
   "metadata": {},
   "outputs": [
    {
     "name": "stdout",
     "output_type": "stream",
     "text": [
      "BMI is: 19.140624999999996\n",
      "you are in a healthy weight range , keep up the good work!\n"
     ]
    }
   ],
   "source": [
    "# Question Number 30:\n",
    "def health_recommendation(weight,height):\n",
    "    BMI = weight/(height**2)\n",
    "    print('BMI is:',BMI)\n",
    "    if BMI<18.5:\n",
    "        return \"you are underweight , try to eat more nutricious food.\"\n",
    "    elif 18.5<=BMI<25:\n",
    "        return \"you are in a healthy weight range , keep up the good work!\"\n",
    "    elif 25<=BMI<30:\n",
    "        return \"you are overweight , consider excercising more and watching your deit\"\n",
    "    else:\n",
    "        return \"you are obese, its important to consult a Doctor and make change your lifestyle.\"\n",
    "\n",
    "print(health_recommendation(49,1.6))"
   ]
  },
  {
   "cell_type": "markdown",
   "id": "6238226f-5df7-4d23-9b98-7979c2f31bb3",
   "metadata": {},
   "source": [
    "### Challenge Level :"
   ]
  },
  {
   "cell_type": "code",
   "execution_count": 17,
   "id": "65231347-520b-41bf-818b-a475884f0b6c",
   "metadata": {},
   "outputs": [
    {
     "name": "stdout",
     "output_type": "stream",
     "text": [
      "(True, 'password is valid')\n"
     ]
    }
   ],
   "source": [
    "# Question Number 31:\n",
    "def valid_password(password):\n",
    "    if len(password)<8:\n",
    "        return False,'password must be atleast 8 characters long'\n",
    "    if_upper = any(char.isupper() for char in password)\n",
    "    if_lower = any(char.islower() for char in password)\n",
    "    if_digit = any(char.isdigit() for char in password)\n",
    "    if_special_char = any(char in '!@#$%^&*()-_=+[]{}:;,.<>/?' for char in password)\n",
    "    if not all([if_upper,if_lower,if_digit,if_special_char]):\n",
    "        return False\n",
    "    else:\n",
    "        return True,'password is valid'\n",
    "\n",
    "print(valid_password('pri123&YAN><'))"
   ]
  },
  {
   "cell_type": "code",
   "execution_count": 18,
   "id": "8b72bdce-b51d-41e6-821c-e3a55d89125f",
   "metadata": {},
   "outputs": [
    {
     "name": "stdout",
     "output_type": "stream",
     "text": [
      "6\n"
     ]
    }
   ],
   "source": [
    "# Question number 33:\n",
    "def gcd(a,b):\n",
    "    if b==0:\n",
    "        return a\n",
    "    else:\n",
    "        a,b=b,a%b\n",
    "        return gcd(a,b)\n",
    "\n",
    "print(gcd(18,12))"
   ]
  },
  {
   "cell_type": "code",
   "execution_count": 21,
   "id": "e7abe0dd-268f-47cd-a807-801a4929dc6f",
   "metadata": {},
   "outputs": [
    {
     "name": "stdin",
     "output_type": "stream",
     "text": [
      "enter a year 2024\n",
      "enter a month(1-12) 3\n"
     ]
    },
    {
     "name": "stdout",
     "output_type": "stream",
     "text": [
      "     March 2024\n",
      "Mo Tu We Th Fr Sa Su\n",
      "             1  2  3\n",
      " 4  5  6  7  8  9 10\n",
      "11 12 13 14 15 16 17\n",
      "18 19 20 21 22 23 24\n",
      "25 26 27 28 29 30 31\n",
      "\n"
     ]
    }
   ],
   "source": [
    "# Question Number 38:\n",
    "import calendar\n",
    "year = int(input('enter a year'))\n",
    "month = int(input('enter a month(1-12)'))\n",
    "if 1<=month<=12:\n",
    "    print(calendar.month(year,month))\n",
    "else:\n",
    "    print('invalid month , please enter a number between 1 and 12.')"
   ]
  },
  {
   "cell_type": "code",
   "execution_count": null,
   "id": "7ab2bb52-6023-4178-a1d5-e36ca959ca50",
   "metadata": {},
   "outputs": [],
   "source": [
    "# Question Number "
   ]
  },
  {
   "cell_type": "code",
   "execution_count": null,
   "id": "c948e7eb-2df3-4ba1-bde2-be7a9ce74615",
   "metadata": {},
   "outputs": [],
   "source": []
  },
  {
   "cell_type": "code",
   "execution_count": null,
   "id": "95057f6e-b88e-4b9d-ad4a-aa05668929f5",
   "metadata": {},
   "outputs": [],
   "source": []
  },
  {
   "cell_type": "code",
   "execution_count": null,
   "id": "7ad41408-5174-46c3-bedc-0145b994b330",
   "metadata": {},
   "outputs": [],
   "source": []
  },
  {
   "cell_type": "code",
   "execution_count": null,
   "id": "01b20a93-c9e7-4f27-8a74-d31f07ca360b",
   "metadata": {},
   "outputs": [],
   "source": []
  },
  {
   "cell_type": "code",
   "execution_count": null,
   "id": "bc975c46-fa8c-4be0-bacc-65d9804b7e51",
   "metadata": {},
   "outputs": [],
   "source": []
  },
  {
   "cell_type": "code",
   "execution_count": null,
   "id": "96247043-159b-4ccb-ae2d-3e9ad8bea164",
   "metadata": {},
   "outputs": [],
   "source": []
  },
  {
   "cell_type": "code",
   "execution_count": null,
   "id": "96a03e0b-d182-43d1-995e-bc02e7ca56e3",
   "metadata": {},
   "outputs": [],
   "source": []
  },
  {
   "cell_type": "code",
   "execution_count": null,
   "id": "86d359d4-71a8-4241-b0c4-5ce72660fb9b",
   "metadata": {},
   "outputs": [],
   "source": []
  },
  {
   "cell_type": "code",
   "execution_count": null,
   "id": "3052617d-3a22-43b4-a91a-4bebe82f3030",
   "metadata": {},
   "outputs": [],
   "source": []
  },
  {
   "cell_type": "code",
   "execution_count": null,
   "id": "68d4b92a-66be-4567-9044-4fa4e629fa6b",
   "metadata": {},
   "outputs": [],
   "source": []
  },
  {
   "cell_type": "code",
   "execution_count": null,
   "id": "0b89d4a0-a2da-49bb-b642-cf0260b1cb7b",
   "metadata": {},
   "outputs": [],
   "source": []
  },
  {
   "cell_type": "code",
   "execution_count": null,
   "id": "a4b2d73d-0580-40fb-97ee-c5589f5eb544",
   "metadata": {},
   "outputs": [],
   "source": []
  },
  {
   "cell_type": "code",
   "execution_count": null,
   "id": "67f97403-3998-49eb-8773-f669abcad420",
   "metadata": {},
   "outputs": [],
   "source": []
  },
  {
   "cell_type": "code",
   "execution_count": null,
   "id": "e6a5644a-18da-492b-aa70-2716c789d76d",
   "metadata": {},
   "outputs": [],
   "source": []
  },
  {
   "cell_type": "code",
   "execution_count": null,
   "id": "9f123b8c-0499-46ef-9277-d8177bc1d2bc",
   "metadata": {},
   "outputs": [],
   "source": []
  },
  {
   "cell_type": "code",
   "execution_count": null,
   "id": "4de881e8-f029-4e69-ab2a-9b5cf057f239",
   "metadata": {},
   "outputs": [],
   "source": []
  },
  {
   "cell_type": "code",
   "execution_count": null,
   "id": "51c451df-ccd0-48e8-bf21-95aa1da44faf",
   "metadata": {},
   "outputs": [],
   "source": []
  },
  {
   "cell_type": "code",
   "execution_count": null,
   "id": "117820d8-e58a-4c3d-abdd-deb65f7940de",
   "metadata": {},
   "outputs": [],
   "source": []
  },
  {
   "cell_type": "code",
   "execution_count": null,
   "id": "c16e180d-b75a-4638-9548-4151d852c068",
   "metadata": {},
   "outputs": [],
   "source": []
  },
  {
   "cell_type": "code",
   "execution_count": null,
   "id": "cab840ac-0858-467e-b55e-e4851f5796d4",
   "metadata": {},
   "outputs": [],
   "source": []
  },
  {
   "cell_type": "code",
   "execution_count": null,
   "id": "7f2ca5ea-35f9-4178-a4b9-1ce616a0ceed",
   "metadata": {},
   "outputs": [],
   "source": []
  },
  {
   "cell_type": "code",
   "execution_count": null,
   "id": "ca273a2f-31bc-4b81-806f-179cbec02ef5",
   "metadata": {},
   "outputs": [],
   "source": []
  },
  {
   "cell_type": "code",
   "execution_count": null,
   "id": "608be42b-d06f-41a5-83b4-8e29c5c9386f",
   "metadata": {},
   "outputs": [],
   "source": []
  },
  {
   "cell_type": "code",
   "execution_count": null,
   "id": "aac93ac5-22b8-4b7f-9046-239cd60b2e7b",
   "metadata": {},
   "outputs": [],
   "source": []
  },
  {
   "cell_type": "code",
   "execution_count": null,
   "id": "530a4532-8ddd-4ae5-94d5-07ef96981fd3",
   "metadata": {},
   "outputs": [],
   "source": []
  },
  {
   "cell_type": "code",
   "execution_count": null,
   "id": "b7a8b63b-b788-48e0-b98a-3b0e53a5ea35",
   "metadata": {},
   "outputs": [],
   "source": []
  },
  {
   "cell_type": "code",
   "execution_count": null,
   "id": "845bccca-1937-431e-b7e4-b64d6508c724",
   "metadata": {},
   "outputs": [],
   "source": []
  },
  {
   "cell_type": "code",
   "execution_count": null,
   "id": "1f5b5262-e492-4c45-8211-d032c577adc0",
   "metadata": {},
   "outputs": [],
   "source": []
  },
  {
   "cell_type": "code",
   "execution_count": null,
   "id": "b17b788a-b7be-417f-a300-08194eb26ccf",
   "metadata": {},
   "outputs": [],
   "source": []
  },
  {
   "cell_type": "code",
   "execution_count": null,
   "id": "7e76d4d6-7be8-416e-9b5a-8ba7a2b96b63",
   "metadata": {},
   "outputs": [],
   "source": []
  },
  {
   "cell_type": "code",
   "execution_count": null,
   "id": "2234c908-c7af-4978-92a3-b8349da06341",
   "metadata": {},
   "outputs": [],
   "source": []
  },
  {
   "cell_type": "code",
   "execution_count": null,
   "id": "86c96881-30cc-4ce8-80d6-769ad5e59979",
   "metadata": {},
   "outputs": [],
   "source": []
  },
  {
   "cell_type": "code",
   "execution_count": null,
   "id": "ba83eb5b-c26f-42e4-92e1-ed685d91a066",
   "metadata": {},
   "outputs": [],
   "source": []
  },
  {
   "cell_type": "code",
   "execution_count": null,
   "id": "aa914074-38ea-4e32-84f7-af5cf49916e0",
   "metadata": {},
   "outputs": [],
   "source": []
  },
  {
   "cell_type": "code",
   "execution_count": null,
   "id": "04e52491-94aa-45b7-a1cb-bb4a83283dba",
   "metadata": {},
   "outputs": [],
   "source": []
  },
  {
   "cell_type": "code",
   "execution_count": null,
   "id": "c7191501-0752-4223-aa0e-8d9127154d88",
   "metadata": {},
   "outputs": [],
   "source": []
  },
  {
   "cell_type": "code",
   "execution_count": null,
   "id": "d0706b9f-fa5a-4922-b403-70375ad38fd0",
   "metadata": {},
   "outputs": [],
   "source": []
  },
  {
   "cell_type": "code",
   "execution_count": null,
   "id": "b236d431-8507-4493-9071-ee213d05b887",
   "metadata": {},
   "outputs": [],
   "source": []
  },
  {
   "cell_type": "code",
   "execution_count": null,
   "id": "5528f2ce-855e-43f5-b860-725ec652518e",
   "metadata": {},
   "outputs": [],
   "source": []
  },
  {
   "cell_type": "code",
   "execution_count": null,
   "id": "6dbdcc17-c851-4c08-acbe-efc2f729ea7a",
   "metadata": {},
   "outputs": [],
   "source": []
  },
  {
   "cell_type": "code",
   "execution_count": null,
   "id": "9230bdc0-814a-422e-8636-a70f397b0237",
   "metadata": {},
   "outputs": [],
   "source": []
  },
  {
   "cell_type": "code",
   "execution_count": null,
   "id": "048d458e-095b-42fb-b23f-a2e8cb0f70f4",
   "metadata": {},
   "outputs": [],
   "source": []
  },
  {
   "cell_type": "code",
   "execution_count": null,
   "id": "81cf9bdf-a14f-4666-9a0c-931dd60e2fcb",
   "metadata": {},
   "outputs": [],
   "source": []
  },
  {
   "cell_type": "code",
   "execution_count": null,
   "id": "b53c9beb-541c-4616-aaf3-6a74fd878a48",
   "metadata": {},
   "outputs": [],
   "source": []
  },
  {
   "cell_type": "code",
   "execution_count": null,
   "id": "38db5502-9d00-40ec-96c3-4df8332cdb92",
   "metadata": {},
   "outputs": [],
   "source": []
  },
  {
   "cell_type": "code",
   "execution_count": null,
   "id": "d65ae737-7b92-48b2-bb85-f199ff0ab1a6",
   "metadata": {},
   "outputs": [],
   "source": []
  },
  {
   "cell_type": "code",
   "execution_count": null,
   "id": "a45a8ba0-d804-4e20-86b3-7330a4f51630",
   "metadata": {},
   "outputs": [],
   "source": []
  },
  {
   "cell_type": "code",
   "execution_count": null,
   "id": "1ebe5599-1128-4c39-9ef9-2d562a80f8ea",
   "metadata": {},
   "outputs": [],
   "source": []
  },
  {
   "cell_type": "code",
   "execution_count": null,
   "id": "51bffcf8-a227-4ffd-9a33-042189285532",
   "metadata": {},
   "outputs": [],
   "source": []
  },
  {
   "cell_type": "code",
   "execution_count": null,
   "id": "7874d539-210c-416b-b4db-7417f0a159c7",
   "metadata": {},
   "outputs": [],
   "source": []
  },
  {
   "cell_type": "code",
   "execution_count": null,
   "id": "eba6bb8a-ab83-4a3a-8375-805ca81d7e22",
   "metadata": {},
   "outputs": [],
   "source": []
  },
  {
   "cell_type": "code",
   "execution_count": null,
   "id": "ed9cc608-5224-441b-83f5-9d0395f71c92",
   "metadata": {},
   "outputs": [],
   "source": []
  },
  {
   "cell_type": "code",
   "execution_count": null,
   "id": "fe96c2ec-1438-46f4-80eb-39887f1f849d",
   "metadata": {},
   "outputs": [],
   "source": []
  },
  {
   "cell_type": "code",
   "execution_count": null,
   "id": "94b90d9b-af3e-4509-8c31-6f428802edec",
   "metadata": {},
   "outputs": [],
   "source": []
  },
  {
   "cell_type": "code",
   "execution_count": null,
   "id": "3c73c903-ed44-45fd-95b9-7df0a5f1a1dd",
   "metadata": {},
   "outputs": [],
   "source": []
  },
  {
   "cell_type": "code",
   "execution_count": null,
   "id": "4fcb6fac-a660-4174-937e-feec6fd1474c",
   "metadata": {},
   "outputs": [],
   "source": []
  },
  {
   "cell_type": "code",
   "execution_count": null,
   "id": "95fac149-fb7e-4ac7-b003-7188b07ca934",
   "metadata": {},
   "outputs": [],
   "source": []
  },
  {
   "cell_type": "code",
   "execution_count": null,
   "id": "5d492be5-4611-4cf2-b8e5-ac3c7ed25aee",
   "metadata": {},
   "outputs": [],
   "source": []
  },
  {
   "cell_type": "code",
   "execution_count": null,
   "id": "8808808c-0cd3-4e18-8eaf-e63b7dc7d629",
   "metadata": {},
   "outputs": [],
   "source": []
  },
  {
   "cell_type": "code",
   "execution_count": null,
   "id": "4d07e4e1-b510-4f1d-b714-7e8ea692ef3d",
   "metadata": {},
   "outputs": [],
   "source": []
  },
  {
   "cell_type": "code",
   "execution_count": null,
   "id": "b2b9c1e2-c855-4e11-b3f2-32aff6fe3834",
   "metadata": {},
   "outputs": [],
   "source": []
  },
  {
   "cell_type": "code",
   "execution_count": null,
   "id": "22c63dbd-3e2d-450b-be23-3181f676d566",
   "metadata": {},
   "outputs": [],
   "source": []
  },
  {
   "cell_type": "code",
   "execution_count": null,
   "id": "0bfc68ee-418c-4a3b-a3c3-ad54aaafc483",
   "metadata": {},
   "outputs": [],
   "source": []
  },
  {
   "cell_type": "code",
   "execution_count": null,
   "id": "7f157dff-aba3-480d-aa15-2aa6cf895b75",
   "metadata": {},
   "outputs": [],
   "source": []
  },
  {
   "cell_type": "code",
   "execution_count": null,
   "id": "05a8097d-ef25-4040-a86d-7413c606df5d",
   "metadata": {},
   "outputs": [],
   "source": []
  },
  {
   "cell_type": "code",
   "execution_count": null,
   "id": "31e879ca-4d10-4682-b54e-69beb58fe4dc",
   "metadata": {},
   "outputs": [],
   "source": []
  },
  {
   "cell_type": "code",
   "execution_count": null,
   "id": "6acef807-fc10-42ba-8216-a2609e365f15",
   "metadata": {},
   "outputs": [],
   "source": []
  },
  {
   "cell_type": "code",
   "execution_count": null,
   "id": "46a951fd-072a-4e89-a190-160189100b32",
   "metadata": {},
   "outputs": [],
   "source": []
  },
  {
   "cell_type": "code",
   "execution_count": null,
   "id": "5551307e-f49a-4672-88c7-744236ea143b",
   "metadata": {},
   "outputs": [],
   "source": []
  },
  {
   "cell_type": "code",
   "execution_count": null,
   "id": "63c6b462-20f0-41b6-9171-3f5c3220ddb1",
   "metadata": {},
   "outputs": [],
   "source": []
  },
  {
   "cell_type": "code",
   "execution_count": null,
   "id": "23ed7e29-b827-4587-aad1-bc8f96ee8697",
   "metadata": {},
   "outputs": [],
   "source": []
  },
  {
   "cell_type": "code",
   "execution_count": null,
   "id": "1e81c561-003f-4fc6-acea-365b62f3ecce",
   "metadata": {},
   "outputs": [],
   "source": []
  },
  {
   "cell_type": "code",
   "execution_count": null,
   "id": "ded324d7-48de-4508-b612-b0af76583270",
   "metadata": {},
   "outputs": [],
   "source": []
  },
  {
   "cell_type": "code",
   "execution_count": null,
   "id": "ba18c5e0-1402-49b1-a0d9-fd77819d4d26",
   "metadata": {},
   "outputs": [],
   "source": []
  },
  {
   "cell_type": "code",
   "execution_count": null,
   "id": "93d6edb1-c1b3-4a04-bb9e-5533c5653249",
   "metadata": {},
   "outputs": [],
   "source": []
  },
  {
   "cell_type": "code",
   "execution_count": null,
   "id": "8e8fab77-7380-4a9b-a78d-ffb5a2d7ec86",
   "metadata": {},
   "outputs": [],
   "source": []
  },
  {
   "cell_type": "code",
   "execution_count": null,
   "id": "88a8f00b-5049-4939-9304-5771d9f7cd11",
   "metadata": {},
   "outputs": [],
   "source": []
  },
  {
   "cell_type": "code",
   "execution_count": null,
   "id": "979fd291-32ef-488c-a24e-de79ea4d46f5",
   "metadata": {},
   "outputs": [],
   "source": []
  },
  {
   "cell_type": "code",
   "execution_count": null,
   "id": "7230bb16-1851-494b-a31c-628849b0d839",
   "metadata": {},
   "outputs": [],
   "source": []
  },
  {
   "cell_type": "code",
   "execution_count": null,
   "id": "9b4a0a57-9a80-4503-953d-1700ab15362c",
   "metadata": {},
   "outputs": [],
   "source": []
  },
  {
   "cell_type": "code",
   "execution_count": null,
   "id": "997cb558-3c3c-4945-a865-0a53f407bfe9",
   "metadata": {},
   "outputs": [],
   "source": []
  },
  {
   "cell_type": "code",
   "execution_count": null,
   "id": "d0d2c0ad-d620-4bbc-aac4-9ad43a4b43e0",
   "metadata": {},
   "outputs": [],
   "source": []
  },
  {
   "cell_type": "code",
   "execution_count": null,
   "id": "8e0d8deb-101b-4285-90bc-8abdcf4ed437",
   "metadata": {},
   "outputs": [],
   "source": []
  },
  {
   "cell_type": "code",
   "execution_count": null,
   "id": "1e2ee5b4-2af2-4646-a9e3-da4032add89f",
   "metadata": {},
   "outputs": [],
   "source": []
  },
  {
   "cell_type": "code",
   "execution_count": null,
   "id": "3d28062d-b60e-4f56-b275-32859dd7d8da",
   "metadata": {},
   "outputs": [],
   "source": []
  },
  {
   "cell_type": "code",
   "execution_count": null,
   "id": "e8bb0c28-d761-44a3-bda0-6119f4d24490",
   "metadata": {},
   "outputs": [],
   "source": []
  },
  {
   "cell_type": "code",
   "execution_count": null,
   "id": "a17f4d9d-857d-49bc-a53b-6bb58b64a751",
   "metadata": {},
   "outputs": [],
   "source": []
  },
  {
   "cell_type": "code",
   "execution_count": null,
   "id": "90967d67-18a1-4413-b2d5-994b97d5ef8a",
   "metadata": {},
   "outputs": [],
   "source": []
  },
  {
   "cell_type": "code",
   "execution_count": null,
   "id": "2af51b4c-4d92-486c-88c2-905b0dfec06b",
   "metadata": {},
   "outputs": [],
   "source": []
  },
  {
   "cell_type": "code",
   "execution_count": null,
   "id": "dc21e4eb-f238-4a92-8b80-985df6be0ea9",
   "metadata": {},
   "outputs": [],
   "source": []
  },
  {
   "cell_type": "code",
   "execution_count": null,
   "id": "60bd908d-a374-4d80-b79d-4c4c5051b7f4",
   "metadata": {},
   "outputs": [],
   "source": []
  },
  {
   "cell_type": "code",
   "execution_count": null,
   "id": "87eda22e-d623-4683-9815-ea1f43094123",
   "metadata": {},
   "outputs": [],
   "source": []
  }
 ],
 "metadata": {
  "kernelspec": {
   "display_name": "Python 3 (ipykernel)",
   "language": "python",
   "name": "python3"
  },
  "language_info": {
   "codemirror_mode": {
    "name": "ipython",
    "version": 3
   },
   "file_extension": ".py",
   "mimetype": "text/x-python",
   "name": "python",
   "nbconvert_exporter": "python",
   "pygments_lexer": "ipython3",
   "version": "3.11.5"
  }
 },
 "nbformat": 4,
 "nbformat_minor": 5
}
