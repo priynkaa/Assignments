{
 "cells": [
  {
   "cell_type": "raw",
   "id": "23e00f3f-96a2-40ec-b680-e038de3842dd",
   "metadata": {},
   "source": [
    "##### Assigment 2"
   ]
  },
  {
   "cell_type": "markdown",
   "id": "fd883432-cd23-4cf3-a1c5-52b6e12e7bad",
   "metadata": {},
   "source": [
    "### srting based practice problems :"
   ]
  },
  {
   "cell_type": "code",
   "execution_count": 1,
   "id": "2067f763-69e7-4348-b715-77e190b685e7",
   "metadata": {},
   "outputs": [
    {
     "name": "stdin",
     "output_type": "stream",
     "text": [
      "write a letter jhgjhv\n"
     ]
    },
    {
     "data": {
      "text/plain": [
       "'vhjghj'"
      ]
     },
     "execution_count": 1,
     "metadata": {},
     "output_type": "execute_result"
    }
   ],
   "source": [
    "#Qustion Number 1 :\n",
    "a = input(\"write a letter\")\n",
    "a[ : :-1]                                     #using index slicing to reverse a string "
   ]
  },
  {
   "cell_type": "code",
   "execution_count": 2,
   "id": "0d91808e-81aa-4b45-952a-0e31c9083fc8",
   "metadata": {},
   "outputs": [
    {
     "name": "stdin",
     "output_type": "stream",
     "text": [
      "write a letter jhygh\n"
     ]
    },
    {
     "name": "stdout",
     "output_type": "stream",
     "text": [
      "its not palindrome\n"
     ]
    }
   ],
   "source": [
    "#Question number 2 :\n",
    "b = input(\"write a letter\")\n",
    "if b==b[ : :-1]:                             #using index slicing to check a string is palindrome \n",
    "   print (\"its palindrome\")\n",
    "else:\n",
    "   print(\"its not palindrome\")"
   ]
  },
  {
   "cell_type": "code",
   "execution_count": 3,
   "id": "9caef3a8-4e00-4659-a7ca-507abad1e822",
   "metadata": {},
   "outputs": [
    {
     "name": "stdin",
     "output_type": "stream",
     "text": [
      "enter your word or sentence nmvgnvb'\n"
     ]
    },
    {
     "data": {
      "text/plain": [
       "\"NMVGNVB'\""
      ]
     },
     "execution_count": 3,
     "metadata": {},
     "output_type": "execute_result"
    }
   ],
   "source": [
    "#Question Number 3 :\n",
    "s1 = input(\"enter your word or sentence\")\n",
    "s1.upper()                                   #using upper() function to convert a string to uppercase"
   ]
  },
  {
   "cell_type": "code",
   "execution_count": 4,
   "id": "9d8e5b92-2696-4692-abe1-24652e7564f4",
   "metadata": {},
   "outputs": [
    {
     "name": "stdin",
     "output_type": "stream",
     "text": [
      "enter your word or sentence hgfhgc\n"
     ]
    },
    {
     "data": {
      "text/plain": [
       "'hgfhgc'"
      ]
     },
     "execution_count": 4,
     "metadata": {},
     "output_type": "execute_result"
    }
   ],
   "source": [
    "#Question Number 4 :\n",
    "s2 = input(\"enter your word or sentence\")\n",
    "s2.lower()                                   #using lower() function to convert a string to lowercase"
   ]
  },
  {
   "cell_type": "code",
   "execution_count": 10,
   "id": "ca5e3551-9cbc-49b6-be1b-8e40a6ac0507",
   "metadata": {},
   "outputs": [
    {
     "name": "stdin",
     "output_type": "stream",
     "text": [
      "Enter your sentence and i will return number of vowels present in it  santosh is here\n"
     ]
    },
    {
     "name": "stdout",
     "output_type": "stream",
     "text": [
      "1 2 1 1 0\n"
     ]
    }
   ],
   "source": [
    "#Question Number 5 :\n",
    "x = input(\"Enter your sentence and i will return number of vowels present in it \")\n",
    "a=x.count('a')                                 #using count() function to count number of vowels present in string \n",
    "e=x.count('e')\n",
    "i=x.count('i')\n",
    "o=x.count('o')\n",
    "u=x.count('u')\n",
    "print(a,e,i,o,u)"
   ]
  },
  {
   "cell_type": "code",
   "execution_count": 10,
   "id": "b94c3e4e-51cc-46bb-b306-ee6c4c8b43e6",
   "metadata": {},
   "outputs": [
    {
     "name": "stdout",
     "output_type": "stream",
     "text": [
      "12\n"
     ]
    }
   ],
   "source": [
    "# Question Number 6:\n",
    "def count_constant(input_string):\n",
    "    constant = 'bcdfghjklmnpqrstvwxyz'\n",
    "    count = sum([1 for i in input_string if i in constant]) #using list comprehension to count number of constant present in string\n",
    "    return count\n",
    "\n",
    "print(count_constant('hey my name is priyanka'))"
   ]
  },
  {
   "cell_type": "code",
   "execution_count": 8,
   "id": "45a548ed-7f92-44b4-8995-b846d987d96e",
   "metadata": {},
   "outputs": [
    {
     "name": "stdin",
     "output_type": "stream",
     "text": [
      "enter a string hey i am priyanka\n"
     ]
    },
    {
     "data": {
      "text/plain": [
       "'heyiampriyanka'"
      ]
     },
     "execution_count": 8,
     "metadata": {},
     "output_type": "execute_result"
    }
   ],
   "source": [
    "#Question Number 7 :\n",
    "x1 = input(\"enter a string\")\n",
    "x1.replace(' ','')                         #use replace method to remove all whitepace from a string"
   ]
  },
  {
   "cell_type": "code",
   "execution_count": 12,
   "id": "f9519f4b-ae08-4e99-bbbf-06b55caec034",
   "metadata": {},
   "outputs": [
    {
     "name": "stdout",
     "output_type": "stream",
     "text": [
      "17\n"
     ]
    }
   ],
   "source": [
    "# Question Number 8:\n",
    "s = ('hey i am priyanka')\n",
    "length = 0\n",
    "for i in s:                                #use 'for' loop to find length of the string without using 'len()' function      \n",
    "    length+=1\n",
    "\n",
    "print(length)"
   ]
  },
  {
   "cell_type": "code",
   "execution_count": 9,
   "id": "059d3dab-793c-4656-be62-c4c866817d0a",
   "metadata": {},
   "outputs": [
    {
     "name": "stdin",
     "output_type": "stream",
     "text": [
      "enter your string hey my name is priyanka\n"
     ]
    },
    {
     "name": "stdout",
     "output_type": "stream",
     "text": [
      "this string contains a spcific word\n"
     ]
    }
   ],
   "source": [
    "#Question Number 9 :\n",
    "x2 = input(\"enter your string\")\n",
    "if x2.find(\"my\"):                         #use 'find()' method to check strings contains a specific word\n",
    "   print('this string contains a spcific word')\n",
    "else:\n",
    "   print('this string does not contain a specific word')"
   ]
  },
  {
   "cell_type": "code",
   "execution_count": 10,
   "id": "acc603d3-4f4b-4a4d-bf07-4c72ef68e1e3",
   "metadata": {},
   "outputs": [
    {
     "data": {
      "text/plain": [
       "'where were you from'"
      ]
     },
     "execution_count": 10,
     "metadata": {},
     "output_type": "execute_result"
    }
   ],
   "source": [
    "#Question Number 10 :\n",
    "x3 = \"where are you from\"\n",
    "x3.replace('are','were')                  #use 'replace()' method to replace word in a string to another word."
   ]
  },
  {
   "cell_type": "code",
   "execution_count": 15,
   "id": "70051567-95d2-4eed-958d-3df6aa335426",
   "metadata": {},
   "outputs": [
    {
     "name": "stdin",
     "output_type": "stream",
     "text": [
      "enter your string and substring'comma seprated hey i am priyanka and i am 17 year old\n"
     ]
    },
    {
     "name": "stdout",
     "output_type": "stream",
     "text": [
      "1\n"
     ]
    }
   ],
   "source": [
    "#Question Number 11 :\n",
    "p = input(\"enter your string and substring'comma seprated\").split(' ')     #use 'split()' method to convert string into list\n",
    "print(p.count(\"hey\"))                                                      #use 'count()' method to find occurence of word in string"
   ]
  },
  {
   "cell_type": "code",
   "execution_count": 15,
   "id": "af97f525-e2cd-4e53-9cee-f2c3d9086b01",
   "metadata": {},
   "outputs": [
    {
     "name": "stdin",
     "output_type": "stream",
     "text": [
      "enter your string and substring 'comma seprated' hey where are you going ,are\n"
     ]
    },
    {
     "data": {
      "text/plain": [
       "10"
      ]
     },
     "execution_count": 15,
     "metadata": {},
     "output_type": "execute_result"
    }
   ],
   "source": [
    "#Question Numbr 12 :\n",
    "x4 = input(\"enter your string and substring 'comma seprated'\").split(',')\n",
    "string,sub=x4\n",
    "string.find(sub)                                                      #use 'find()' method to find first occurence of a word in a string."
   ]
  },
  {
   "cell_type": "code",
   "execution_count": 16,
   "id": "fa803164-32b2-4fb7-afba-db3e50e87278",
   "metadata": {},
   "outputs": [
    {
     "name": "stdin",
     "output_type": "stream",
     "text": [
      "enter your string and substring 'comma seperated' :  hey i am priyanka and i am live in Delhi ,am\n"
     ]
    },
    {
     "data": {
      "text/plain": [
       "24"
      ]
     },
     "execution_count": 16,
     "metadata": {},
     "output_type": "execute_result"
    }
   ],
   "source": [
    "#Question Number 13 :\n",
    "x5 = input(\"enter your string and substring 'comma seperated' : \").split(',')\n",
    "strinG,sub=x5     \n",
    "strinG.rfind(sub)                                                    #use 'rfind()' method to find last occurrence of a word in a string."
   ]
  },
  {
   "cell_type": "code",
   "execution_count": 17,
   "id": "d64b5f79-a6e8-4a89-8543-41cbe6762abc",
   "metadata": {},
   "outputs": [
    {
     "name": "stdin",
     "output_type": "stream",
     "text": [
      "enter your string hey what is your name\n"
     ]
    },
    {
     "data": {
      "text/plain": [
       "['hey', 'what', 'is', 'your', 'name']"
      ]
     },
     "execution_count": 17,
     "metadata": {},
     "output_type": "execute_result"
    }
   ],
   "source": [
    "#Question Number 14 :\n",
    "Q = input(\"enter your string\")\n",
    "Q.split()                                                            #use 'split()' method to split string into a list of words."
   ]
  },
  {
   "cell_type": "code",
   "execution_count": 17,
   "id": "46a51ddc-153e-41c1-acf2-88b3ccb8e624",
   "metadata": {},
   "outputs": [
    {
     "data": {
      "text/plain": [
       "'hey i am a girl'"
      ]
     },
     "execution_count": 17,
     "metadata": {},
     "output_type": "execute_result"
    }
   ],
   "source": [
    "# Question Number 15:\n",
    "l = ['hey','i','am','a','girl']\n",
    "' '.join(l)                                                          #use 'join()' method to join a list of words into a string."
   ]
  },
  {
   "cell_type": "code",
   "execution_count": 18,
   "id": "b8dfde9c-3253-4b29-821b-bf6163b7993f",
   "metadata": {},
   "outputs": [
    {
     "name": "stdin",
     "output_type": "stream",
     "text": [
      "enter your string hey what is your age\n"
     ]
    },
    {
     "data": {
      "text/plain": [
       "'hey_what_is_your_age'"
      ]
     },
     "execution_count": 18,
     "metadata": {},
     "output_type": "execute_result"
    }
   ],
   "source": [
    "#Question Number 16 :\n",
    "R = input(\"enter your string\")\n",
    "R.replace(' ','_')                                 #use 'replace()' method to convert string space' ' seprated to underscore'_' seprated."
   ]
  },
  {
   "cell_type": "code",
   "execution_count": 23,
   "id": "9500d53d-9a94-4f3e-ab44-abebcef07c9b",
   "metadata": {},
   "outputs": [
    {
     "name": "stdout",
     "output_type": "stream",
     "text": [
      "True\n"
     ]
    }
   ],
   "source": [
    "#Question Number 17 :\n",
    "s = \"hey where are you going\".split()\n",
    "if s[0]==\"hey\":                                   #use index slicing to check string start with specific word or not.\n",
    "    print(True)\n",
    "else:\n",
    "    print(False)"
   ]
  },
  {
   "cell_type": "code",
   "execution_count": 25,
   "id": "88cee8bd-34b6-4fdc-acdf-4a51aa3d3b51",
   "metadata": {},
   "outputs": [
    {
     "name": "stdout",
     "output_type": "stream",
     "text": [
      "True\n"
     ]
    }
   ],
   "source": [
    "#Question Number 18 :\n",
    "s2 = 'hey bro i am priyanka'.split()\n",
    "if s2[-1]=='priyanka':                            #use index slicing to check string end with specific word or not.\n",
    "    print(True)\n",
    "else:\n",
    "    print(False)"
   ]
  },
  {
   "cell_type": "code",
   "execution_count": 21,
   "id": "4b3c41d0-248f-454b-a215-7cbb13487d8d",
   "metadata": {},
   "outputs": [
    {
     "name": "stdin",
     "output_type": "stream",
     "text": [
      "enter your string hey bro what are you doing\n"
     ]
    },
    {
     "data": {
      "text/plain": [
       "'Hey Bro What Are You Doing'"
      ]
     },
     "execution_count": 21,
     "metadata": {},
     "output_type": "execute_result"
    }
   ],
   "source": [
    "#Question Number 19 :\n",
    "s1 = input(\"enter your string\")\n",
    "s1.title()                                       #use'title()' method to conert string to title case."
   ]
  },
  {
   "cell_type": "code",
   "execution_count": 30,
   "id": "48b74ebe-bcb1-4fc2-ae5e-0b266c0604a4",
   "metadata": {},
   "outputs": [
    {
     "name": "stdout",
     "output_type": "stream",
     "text": [
      "where\n"
     ]
    }
   ],
   "source": [
    "# Question Number 20:\n",
    "def longest_word(string):\n",
    "    word = string.split()\n",
    "    return max(word,key=len)                     #using 'key=len' for comparison the length of words in a string.  \n",
    "\n",
    "print(longest_word('hey where are you live'))"
   ]
  },
  {
   "cell_type": "code",
   "execution_count": 31,
   "id": "f470b698-bca2-4202-9b91-d3951b258c48",
   "metadata": {},
   "outputs": [
    {
     "name": "stdout",
     "output_type": "stream",
     "text": [
      "i\n"
     ]
    }
   ],
   "source": [
    "# Question Number 21:\n",
    "def shortest_word(string):\n",
    "    word = string.split()\n",
    "    return min(word,key=len)                   #using 'min()' method to find shortest word in a string.\n",
    "\n",
    "print(shortest_word('hey i am a good girl'))"
   ]
  },
  {
   "cell_type": "code",
   "execution_count": 22,
   "id": "fc942264-4c69-4d1b-b420-82a2d242d11a",
   "metadata": {},
   "outputs": [
    {
     "name": "stdin",
     "output_type": "stream",
     "text": [
      "enter your string hey what are you doing\n"
     ]
    },
    {
     "name": "stdout",
     "output_type": "stream",
     "text": [
      "yeh tahw era uoy gniod\n"
     ]
    }
   ],
   "source": [
    "#Question Number 22 :\n",
    "s3 = input(\"enter your string\")\n",
    "t=s3.split()\n",
    "L=[]\n",
    "for i in t:\n",
    "    L.append(i[::-1])                         #use index slicing to reverse the order of words in a string.      \n",
    "print(\" \".join(L))\n"
   ]
  },
  {
   "cell_type": "code",
   "execution_count": 23,
   "id": "c4e81d04-3f8a-4bb9-be63-d0a878f29831",
   "metadata": {},
   "outputs": [
    {
     "data": {
      "text/plain": [
       "True"
      ]
     },
     "execution_count": 23,
     "metadata": {},
     "output_type": "execute_result"
    }
   ],
   "source": [
    "# Question Number 23 :\n",
    "s='priyanka123'\n",
    "s.isalnum()                                   #use 'isalnum()' method to check the string is alphanumeric."
   ]
  },
  {
   "cell_type": "code",
   "execution_count": 32,
   "id": "0845ce51-8ebe-404c-bdfd-69216283699c",
   "metadata": {},
   "outputs": [
    {
     "name": "stdout",
     "output_type": "stream",
     "text": [
      "True\n"
     ]
    }
   ],
   "source": [
    "#alternative of Q23\n",
    "def Isalnum(S):\n",
    "    Ls=\"qwertyuiopasdfghjklzxcvbnmQWERTYUIOPASDFGHJKLZXCVBNM\"\n",
    "    Ln=\"1234567890\"\n",
    "    Temp=[]\n",
    "    for i in S:\n",
    "        if i in Ls or i in Ln:\n",
    "            Temp.append(True)\n",
    "        elif i==\" \":\n",
    "            Temp.append(True)\n",
    "        else:\n",
    "            Temp.append(False)\n",
    "    return all(Temp)\n",
    "\n",
    "print(Isalnum(\"santosh 123\"))\n",
    "\n"
   ]
  },
  {
   "cell_type": "code",
   "execution_count": 24,
   "id": "a11723f7-8035-4fce-bb1c-b07e5599086e",
   "metadata": {},
   "outputs": [
    {
     "data": {
      "text/plain": [
       "'23335'"
      ]
     },
     "execution_count": 24,
     "metadata": {},
     "output_type": "execute_result"
    }
   ],
   "source": [
    "#Question Number 24 : \n",
    "s=\"santsh23335 soni\"\n",
    "r = \"123456789\"\n",
    "Temp=[]\n",
    "for i in s:\n",
    "    if i in r:\n",
    "        Temp.append(i)\n",
    "    else:\n",
    "        continue \n",
    "\n",
    "\"\".join(Temp)            "
   ]
  },
  {
   "cell_type": "code",
   "execution_count": 25,
   "id": "2335d2c0-401a-4790-b826-5d40cad3fc6d",
   "metadata": {},
   "outputs": [
    {
     "data": {
      "text/plain": [
       "'sdghjkzxcvbnmzxcnm'"
      ]
     },
     "execution_count": 25,
     "metadata": {},
     "output_type": "execute_result"
    }
   ],
   "source": [
    "# Question Number 25 :\n",
    "P = \"sdfghjkzxcvbnm123456zxcnm7890@#%$^&*\"\n",
    "s = \"qwrtyuiopasdghjklzxcvbnm\"\n",
    "L = []\n",
    "for i in P:\n",
    "    if i in s:\n",
    "        L.append(i)\n",
    "    else:\n",
    "        continue \n",
    "\n",
    "\"\".join(L)\n"
   ]
  },
  {
   "cell_type": "code",
   "execution_count": 26,
   "id": "7c126bda-23d3-431a-81ed-eca62acae956",
   "metadata": {},
   "outputs": [
    {
     "name": "stdout",
     "output_type": "stream",
     "text": [
      "11\n"
     ]
    }
   ],
   "source": [
    "# Question Number 26 :\n",
    "d = \"ABCdgdRTBJGGHB\"\n",
    "count=0\n",
    "for i in d:\n",
    "    if i.upper()==i:                   #use 'upper()' method to check capital letter in a given string.\n",
    "        count+=1\n",
    "    else:\n",
    "        continue\n",
    "print(count)"
   ]
  },
  {
   "cell_type": "code",
   "execution_count": 27,
   "id": "f376aed2-719d-413b-b202-fa44eeffde7c",
   "metadata": {},
   "outputs": [
    {
     "name": "stdout",
     "output_type": "stream",
     "text": [
      "19\n"
     ]
    }
   ],
   "source": [
    "# Question Number 27 :\n",
    "k = \"RYdbifcDYUJhvvbbnnmgjddcKHGgF\"\n",
    "count = 0\n",
    "for i in k:\n",
    "    if i.lower()==i:                  #use 'lower()' method to check lower letter in a given string.\n",
    "        count+=1\n",
    "    else:\n",
    "        continue \n",
    "\n",
    "print(count)\n",
    "    "
   ]
  },
  {
   "cell_type": "code",
   "execution_count": 28,
   "id": "88b4c647-89bc-467b-aab1-9cc1cb52c33b",
   "metadata": {},
   "outputs": [
    {
     "data": {
      "text/plain": [
       "'heY my NaME IS priYNka'"
      ]
     },
     "execution_count": 28,
     "metadata": {},
     "output_type": "execute_result"
    }
   ],
   "source": [
    "# Question Number 28 :\n",
    "A = \"HEy MY nAme is PRIynKA\"\n",
    "A.swapcase()                                 \n"
   ]
  },
  {
   "cell_type": "code",
   "execution_count": 29,
   "id": "3615371d-5d15-45f8-bc79-f2109217bb6b",
   "metadata": {},
   "outputs": [
    {
     "name": "stdout",
     "output_type": "stream",
     "text": [
      "['where', 'are', 'going', 'bro']\n"
     ]
    }
   ],
   "source": [
    "# Question Number 29 :\n",
    "S = \"where are you going bro\"\n",
    "d = S.split(\" \")\n",
    "d.remove(\"you\")\n",
    "print(d)"
   ]
  },
  {
   "cell_type": "code",
   "execution_count": 30,
   "id": "fcccea61-ebd5-4d44-85fd-d267c4152ea8",
   "metadata": {},
   "outputs": [
    {
     "name": "stdout",
     "output_type": "stream",
     "text": [
      "Valid Email\n"
     ]
    }
   ],
   "source": [
    "# Question Number 30 :\n",
    "P = \"heymynameis123priyanka@gmail.com\"\n",
    "A = ['@','gmail','.','com']\n",
    "temp=[]\n",
    "for i in A:\n",
    "    if i in P:\n",
    "        temp.append(True)   \n",
    "    else:\n",
    "        temp.append(False)\n",
    "\n",
    "print(\"Valid Email\") if all(temp) else \"Not Valid Email\""
   ]
  },
  {
   "cell_type": "code",
   "execution_count": 31,
   "id": "c2755db5-4054-44c2-9f23-8864631f6517",
   "metadata": {},
   "outputs": [
    {
     "data": {
      "text/plain": [
       "'Iamgood1234bhdjjjk'"
      ]
     },
     "execution_count": 31,
     "metadata": {},
     "output_type": "execute_result"
    }
   ],
   "source": [
    "# Question Number 31 : \n",
    "A = \"Iamgood1234bhdjjjk@gmail.com\"\n",
    "A.split('@')[0]"
   ]
  },
  {
   "cell_type": "code",
   "execution_count": 7,
   "id": "32ca4567-2df1-4b59-9c7e-39d67c56c5d0",
   "metadata": {},
   "outputs": [
    {
     "data": {
      "text/plain": [
       "'gmail.com'"
      ]
     },
     "execution_count": 7,
     "metadata": {},
     "output_type": "execute_result"
    }
   ],
   "source": [
    "# Question Number 32 :\n",
    "s = \"Heyiampriyanka387dsjb@gmail.com\"\n",
    "s.split('@')[1]\n"
   ]
  },
  {
   "cell_type": "code",
   "execution_count": 6,
   "id": "12f10668-979c-4b60-8800-cf4a8f2bd65a",
   "metadata": {},
   "outputs": [
    {
     "data": {
      "text/plain": [
       "'Delta notebook its very good and its page is very smooth'"
      ]
     },
     "execution_count": 6,
     "metadata": {},
     "output_type": "execute_result"
    }
   ],
   "source": [
    "# Question Number 33 :\n",
    "A = \"Delta notebook      its very   good and  its page is    very smooth\"\n",
    "B=A.split()\n",
    "\" \".join(B)"
   ]
  },
  {
   "cell_type": "code",
   "execution_count": 6,
   "id": "df140092-ca9e-4057-941d-783d2a976a16",
   "metadata": {},
   "outputs": [
    {
     "name": "stdout",
     "output_type": "stream",
     "text": [
      "True\n"
     ]
    }
   ],
   "source": [
    "# Question Number 34 :\n",
    "A = \"https://www.quora12345.com\"\n",
    "B = \"https://\"\n",
    "\n",
    "if B in A:\n",
    "    print(True)\n",
    "else:\n",
    "    print(False)"
   ]
  },
  {
   "cell_type": "code",
   "execution_count": 16,
   "id": "503de2a8-8251-4b6d-8692-1cc28a9248bb",
   "metadata": {},
   "outputs": [
    {
     "data": {
      "text/plain": [
       "'https'"
      ]
     },
     "execution_count": 16,
     "metadata": {},
     "output_type": "execute_result"
    }
   ],
   "source": [
    "# Question Number 35 :\n",
    "A = \"https://www.quora12345.com\"\n",
    "A.split(':')[0]        "
   ]
  },
  {
   "cell_type": "code",
   "execution_count": 28,
   "id": "db281583-1d2c-4d6b-a93a-288cdf6e55a3",
   "metadata": {},
   "outputs": [
    {
     "data": {
      "text/plain": [
       "{'e': 4,\n",
       " 'h': 3,\n",
       " 't': 2,\n",
       " 'v': 1,\n",
       " 'l': 2,\n",
       " 'a': 3,\n",
       " 'D': 1,\n",
       " 'w': 1,\n",
       " 'r': 1,\n",
       " 'n': 2,\n",
       " 'o': 3,\n",
       " 's': 1,\n",
       " 'y': 1,\n",
       " 'd': 3,\n",
       " 'g': 1,\n",
       " 'I': 1,\n",
       " 'i': 4,\n",
       " 'm': 1}"
      ]
     },
     "execution_count": 28,
     "metadata": {},
     "output_type": "execute_result"
    }
   ],
   "source": [
    "# Question Number 36 :\n",
    "A = \"I am live in Delhi and today whether is good\"\n",
    "eunique_chars={i for i in A if i!=\" \"}\n",
    "D ={}\n",
    "for i in unique_chars:\n",
    "    D.update({i:A.count(i)})\n",
    "\n",
    "D"
   ]
  },
  {
   "cell_type": "code",
   "execution_count": 33,
   "id": "a7388bd8-3439-4a93-b50c-e49f0fb9e21c",
   "metadata": {},
   "outputs": [
    {
     "name": "stdout",
     "output_type": "stream",
     "text": [
      "qweRTY1234f78\n"
     ]
    }
   ],
   "source": [
    "# Question Number 37:\n",
    "chars=\"1234567890qwertyuiopasdfghjklzxcvbnmQWERTYUIOPASDFGHJKLZXCVBNM\"\n",
    "a= '@qwe,RTY.1234:f78;'\n",
    "main=\"\"\n",
    "for i in a:\n",
    "    if i in chars:\n",
    "        main+=i\n",
    "\n",
    "print(main)"
   ]
  },
  {
   "cell_type": "code",
   "execution_count": 22,
   "id": "aa4bb2e1-f3b1-466c-a1a3-9e979fed0f5a",
   "metadata": {},
   "outputs": [
    {
     "data": {
      "text/plain": [
       "False"
      ]
     },
     "execution_count": 22,
     "metadata": {},
     "output_type": "execute_result"
    }
   ],
   "source": [
    "# Question Number : 38\n",
    "a = \"priyanka15678\"\n",
    "a.isdigit()"
   ]
  },
  {
   "cell_type": "code",
   "execution_count": 23,
   "id": "e0bc37b2-d29a-4d3b-8d21-43157ffb4a9a",
   "metadata": {},
   "outputs": [
    {
     "data": {
      "text/plain": [
       "True"
      ]
     },
     "execution_count": 23,
     "metadata": {},
     "output_type": "execute_result"
    }
   ],
   "source": [
    "# Question Number 39 :\n",
    "d = \"heyiampriyanka\"\n",
    "d.isalpha()"
   ]
  },
  {
   "cell_type": "code",
   "execution_count": 25,
   "id": "9b8b52a9-2e97-44ba-95bf-09099428ec31",
   "metadata": {},
   "outputs": [
    {
     "data": {
      "text/plain": [
       "['h',\n",
       " 'e',\n",
       " 'y',\n",
       " 'i',\n",
       " 'a',\n",
       " 'm',\n",
       " 'l',\n",
       " 'i',\n",
       " 'v',\n",
       " 'e',\n",
       " 'i',\n",
       " 'n',\n",
       " 'd',\n",
       " 'e',\n",
       " 'l',\n",
       " 'h',\n",
       " 'i']"
      ]
     },
     "execution_count": 25,
     "metadata": {},
     "output_type": "execute_result"
    }
   ],
   "source": [
    "# Question Number 40:\n",
    "a = \"heyiamliveindelhi\"\n",
    "list(a)"
   ]
  },
  {
   "cell_type": "code",
   "execution_count": 32,
   "id": "e9e1dc7e-b13c-487e-a9b7-03883291476c",
   "metadata": {},
   "outputs": [
    {
     "name": "stdout",
     "output_type": "stream",
     "text": [
      "its anagrams\n"
     ]
    }
   ],
   "source": [
    "# Question Number 41:\n",
    "a = \"listen\"\n",
    "b = \"silent\"\n",
    "if sorted(list(a))==sorted(list(b)):\n",
    "    print(\"its anagrams\")\n",
    "else:\n",
    "    print(\"its not anagrams\")"
   ]
  },
  {
   "cell_type": "code",
   "execution_count": 1,
   "id": "4acfc867-d6b0-4b9d-96ba-920749dfbf9a",
   "metadata": {},
   "outputs": [
    {
     "name": "stdout",
     "output_type": "stream",
     "text": [
      "CDE\n"
     ]
    }
   ],
   "source": [
    "# Question Number 42:\n",
    "A=sorted(list(\"QWERTYUIOPASDFGHJKLZXCVBNM\"))\n",
    "def Caesar_cipher_encoding(s,shift=2):\n",
    "    main=[]\n",
    "    for i in s.upper():\n",
    "        if i==\" \":\n",
    "            main.append(\" \")\n",
    "            continue\n",
    "        else:\n",
    "            main.append(A[A.index(i)+shift])\n",
    "    return \"\".join(main)\n",
    "print(Caesar_cipher_encoding(\"abc\"))\n"
   ]
  },
  {
   "cell_type": "code",
   "execution_count": 5,
   "id": "104b021f-236b-4a7b-8ec9-2acd0f4e70dd",
   "metadata": {},
   "outputs": [
    {
     "name": "stdout",
     "output_type": "stream",
     "text": [
      "{'and', 'good', 'hey', 'i', 'am', 'here'}\n"
     ]
    }
   ],
   "source": [
    "# Question Number 45:\n",
    "a = \"hey i am here and i am good\"\n",
    "b = a.split(' ')\n",
    "unique_words = set(b)\n",
    "print(unique_words)"
   ]
  },
  {
   "cell_type": "code",
   "execution_count": 8,
   "id": "e6ec0c82-98c7-4a74-9dc6-8fd893a6060c",
   "metadata": {},
   "outputs": [
    {
     "name": "stdout",
     "output_type": "stream",
     "text": [
      "True\n"
     ]
    }
   ],
   "source": [
    "# Question number 47:\n",
    "def check_special_character(s):\n",
    "    special_character = \"!@#$%^&*()_-+=[]{};:.,></?\"\n",
    "    for i in s:\n",
    "        if i in special_character:\n",
    "            return True\n",
    "    return False\n",
    "\n",
    "print(check_special_character('Hey , i am Priyanka!'))"
   ]
  },
  {
   "cell_type": "code",
   "execution_count": 6,
   "id": "95d4d312-f7b5-4395-a74b-90a4785a2d4d",
   "metadata": {},
   "outputs": [
    {
     "name": "stdout",
     "output_type": "stream",
     "text": [
      "hey what is name\n"
     ]
    }
   ],
   "source": [
    "# Question Number 48:\n",
    "def remove_nth_word(text,n):\n",
    "    words = text.split()\n",
    "    if 1<=n<+len(words):\n",
    "        del words[n-1]\n",
    "        result = ' '.join(words)\n",
    "        return result\n",
    "    else:\n",
    "        return 'invalid index for removal'\n",
    "\n",
    "print(remove_nth_word('hey what is your name',4))"
   ]
  },
  {
   "cell_type": "code",
   "execution_count": 19,
   "id": "28f78d18-c3bd-48d4-8f6d-5d9621164b55",
   "metadata": {},
   "outputs": [
    {
     "name": "stdout",
     "output_type": "stream",
     "text": [
      "hey what are you doing\n"
     ]
    }
   ],
   "source": [
    "# Question Number 49:\n",
    "def insert_nth(string,word_insert,n):\n",
    "    words = string.split()\n",
    "    words.insert(n,word_insert)\n",
    "    return \" \".join(words)\n",
    "    \n",
    "print(insert_nth(\"hey what you doing\",'are',2))"
   ]
  },
  {
   "cell_type": "code",
   "execution_count": 38,
   "id": "3d1b440b-9118-4645-8d1b-5a3b334ce85e",
   "metadata": {},
   "outputs": [
    {
     "name": "stdout",
     "output_type": "stream",
     "text": [
      "[['hey', 'i', 'am', 'here'], ['where', 'are', 'you'], ['i', 'am', 'waiting'], ['come', 'fast']]\n"
     ]
    }
   ],
   "source": [
    "# Question Number 50:\n",
    "def csv_string(s):\n",
    "    lists = s.split('.')\n",
    "    csv_list = [list.split(',') for list in lists]\n",
    "    return csv_list\n",
    "\n",
    "print(csv_string('hey,i,am,here.where,are,you.i,am,waiting.come,fast'))"
   ]
  },
  {
   "cell_type": "markdown",
   "id": "54b27379-a7cc-49d6-b43a-16e9bc8174c0",
   "metadata": {},
   "source": [
    "### list based practise problems :"
   ]
  },
  {
   "cell_type": "code",
   "execution_count": 55,
   "id": "14c83242-635a-4857-928e-be0bf0c66ee7",
   "metadata": {},
   "outputs": [
    {
     "data": {
      "text/plain": [
       "[1, 2, 3, 4, 5, 6, 7, 8, 9, 10]"
      ]
     },
     "execution_count": 55,
     "metadata": {},
     "output_type": "execute_result"
    }
   ],
   "source": [
    "#Question Number 1:\n",
    "l = list(range(1,11))\n",
    "l"
   ]
  },
  {
   "cell_type": "code",
   "execution_count": 1,
   "id": "92abe227-39a4-464e-9b39-36278b20eea1",
   "metadata": {},
   "outputs": [
    {
     "name": "stdout",
     "output_type": "stream",
     "text": [
      "length of the list is : 6\n"
     ]
    }
   ],
   "source": [
    "#Question Number 2:\n",
    "a = [1,2,3,4,5,6]\n",
    "length = 0\n",
    "for i in a:\n",
    "    length+=1\n",
    "\n",
    "print(\"length of the list is :\", length)"
   ]
  },
  {
   "cell_type": "code",
   "execution_count": 3,
   "id": "18bd8c5a-6842-407a-a854-09a6f7b9cfe4",
   "metadata": {},
   "outputs": [
    {
     "name": "stdout",
     "output_type": "stream",
     "text": [
      "[5, 8, 2, 5, 4, 9, 1]\n"
     ]
    }
   ],
   "source": [
    "# Question Number 3 :\n",
    "a = [5,8,2,5,4,9]\n",
    "a.append(1)\n",
    "print(a)"
   ]
  },
  {
   "cell_type": "code",
   "execution_count": 6,
   "id": "c57cec36-ecb6-4c1e-b8de-755b8ba32635",
   "metadata": {},
   "outputs": [
    {
     "name": "stdout",
     "output_type": "stream",
     "text": [
      "[45, 76, 3, 3, 5, 2, 1, 0]\n"
     ]
    }
   ],
   "source": [
    "# Question Number 4 :\n",
    "s = [45,76,3,5,2,1,0]\n",
    "s.insert(2,3)\n",
    "print(s)"
   ]
  },
  {
   "cell_type": "code",
   "execution_count": 9,
   "id": "de435338-0341-453c-94ab-9814fde9dfe0",
   "metadata": {},
   "outputs": [
    {
     "name": "stdout",
     "output_type": "stream",
     "text": [
      "[4, 7, 0, 67, 1, 4]\n"
     ]
    }
   ],
   "source": [
    "# Question Number 5 :\n",
    "s = [4,7,0,223,67,1,4]\n",
    "s.remove(223)\n",
    "print(s)"
   ]
  },
  {
   "cell_type": "code",
   "execution_count": 10,
   "id": "5b48c59e-8e85-427a-bf13-1fa54d41ceab",
   "metadata": {},
   "outputs": [
    {
     "name": "stdout",
     "output_type": "stream",
     "text": [
      "[2, 5, 12, 6, 5, 0]\n"
     ]
    }
   ],
   "source": [
    "# Question Number 6 :\n",
    "a = [2,5,12,6,83,5,0]\n",
    "a.pop(4)\n",
    "print(a)"
   ]
  },
  {
   "cell_type": "code",
   "execution_count": 11,
   "id": "bc0aff17-7262-4d5d-95e9-420a2ffb170e",
   "metadata": {},
   "outputs": [
    {
     "name": "stdout",
     "output_type": "stream",
     "text": [
      "yes , its present in a \n"
     ]
    }
   ],
   "source": [
    "# Question Number 7 :\n",
    "a = [1,2,3,4,5,6]\n",
    "check_the_element = 5\n",
    "if check_the_element in a:\n",
    "    print(\"yes , its present in a \")\n",
    "else:\n",
    "    print(\"no , its not present in a \")"
   ]
  },
  {
   "cell_type": "code",
   "execution_count": 14,
   "id": "8a293089-3ce7-48a6-b8fa-29b1371855b0",
   "metadata": {},
   "outputs": [
    {
     "data": {
      "text/plain": [
       "0"
      ]
     },
     "execution_count": 14,
     "metadata": {},
     "output_type": "execute_result"
    }
   ],
   "source": [
    "# Question Number 8 :\n",
    "a = [1,6,56,83,45,56677,2,1]\n",
    "a.index(1)"
   ]
  },
  {
   "cell_type": "code",
   "execution_count": 15,
   "id": "f5a73c42-c316-4125-908b-0b76bf6058aa",
   "metadata": {},
   "outputs": [
    {
     "data": {
      "text/plain": [
       "4"
      ]
     },
     "execution_count": 15,
     "metadata": {},
     "output_type": "execute_result"
    }
   ],
   "source": [
    "# Question Number 9:\n",
    "a = [2,6,8,45,8,1,2,3,4,6,8,2,8]\n",
    "a.count(8)"
   ]
  },
  {
   "cell_type": "code",
   "execution_count": 17,
   "id": "dcaf2fbd-b5f1-4e06-ab76-4ab21ddef374",
   "metadata": {},
   "outputs": [
    {
     "name": "stdout",
     "output_type": "stream",
     "text": [
      "[78, 12, 9456, 7, 4, 2]\n"
     ]
    }
   ],
   "source": [
    "# Question Number 10:\n",
    "a = [2,4,7,9456,12,78]\n",
    "a.reverse()\n",
    "print(a)"
   ]
  },
  {
   "cell_type": "code",
   "execution_count": 18,
   "id": "46a91819-7595-4ff6-8a08-6720a94ac13c",
   "metadata": {},
   "outputs": [
    {
     "name": "stdout",
     "output_type": "stream",
     "text": [
      "[1, 3, 3, 5, 8, 45, 67]\n"
     ]
    }
   ],
   "source": [
    "# Question Number 11:\n",
    "a = [1,45,8,3,67,3,5]\n",
    "a.sort()\n",
    "print(a)"
   ]
  },
  {
   "cell_type": "code",
   "execution_count": 22,
   "id": "c21ca1fc-a5e2-4fdb-b01b-3591db29b614",
   "metadata": {},
   "outputs": [
    {
     "name": "stdout",
     "output_type": "stream",
     "text": [
      "[2, 4, 8, 4, 2, 5]\n"
     ]
    }
   ],
   "source": [
    "# Question Number 12:\n",
    "a = [2,4,8,4,2,5]\n",
    "sorted_in_descending = sorted(a,reverse=True)\n",
    "print(a)"
   ]
  },
  {
   "cell_type": "code",
   "execution_count": 25,
   "id": "866f5d55-357c-4f8d-916b-d156973f3a29",
   "metadata": {},
   "outputs": [
    {
     "name": "stdout",
     "output_type": "stream",
     "text": [
      "[2, 4, 6, 8, 10, 12, 14, 16, 18, 20]\n"
     ]
    }
   ],
   "source": [
    "# Question Number 13 :\n",
    "even_numbers = []\n",
    "for i in range(2,21,2):\n",
    "    even_numbers.append(i)\n",
    "\n",
    "print(even_numbers)"
   ]
  },
  {
   "cell_type": "code",
   "execution_count": 27,
   "id": "2430afa0-c39a-4d0f-9322-4aabeebaa3f7",
   "metadata": {},
   "outputs": [
    {
     "name": "stdout",
     "output_type": "stream",
     "text": [
      "[1, 3, 5, 7, 9, 11, 13, 15, 17, 19]\n"
     ]
    }
   ],
   "source": [
    "# Question Number 14 :\n",
    "odd_numbers = []\n",
    "for i in range(1,21,2):\n",
    "    odd_numbers.append(i)\n",
    "\n",
    "print(odd_numbers)"
   ]
  },
  {
   "cell_type": "code",
   "execution_count": 28,
   "id": "6ffb13fb-6e72-4cfd-b5fd-fad37649e070",
   "metadata": {},
   "outputs": [
    {
     "name": "stdout",
     "output_type": "stream",
     "text": [
      "104\n"
     ]
    }
   ],
   "source": [
    "# Question Number 15 :\n",
    "a = [2,5,87,1,3,6]\n",
    "sum_of_list = sum(a)\n",
    "print(sum_of_list)"
   ]
  },
  {
   "cell_type": "code",
   "execution_count": 29,
   "id": "aa392c8f-e6e2-44d2-a030-0adfa3a3f56e",
   "metadata": {},
   "outputs": [
    {
     "name": "stdout",
     "output_type": "stream",
     "text": [
      "76\n"
     ]
    }
   ],
   "source": [
    "# Question number 16:\n",
    "a = [2,6,8,4,6,76,23,56]\n",
    "maximum_number = max(a)\n",
    "print(maximum_number)"
   ]
  },
  {
   "cell_type": "code",
   "execution_count": 30,
   "id": "a64e67c7-0da0-4192-9430-21ecbca0c020",
   "metadata": {},
   "outputs": [
    {
     "name": "stdout",
     "output_type": "stream",
     "text": [
      "1\n"
     ]
    }
   ],
   "source": [
    "# Question Number 17 :\n",
    "a = [2,1,5,7,9,3]\n",
    "minimum_number = min(a)\n",
    "print(minimum_number)"
   ]
  },
  {
   "cell_type": "code",
   "execution_count": 34,
   "id": "93802574-7731-4232-99c4-fec8fce2231f",
   "metadata": {},
   "outputs": [
    {
     "name": "stdout",
     "output_type": "stream",
     "text": [
      "[1, 4, 9, 16, 25, 36, 49, 64, 81, 100]\n"
     ]
    }
   ],
   "source": [
    "# Question Number 18:\n",
    "squares = [i**2 for i in range(1,11)]\n",
    "print(squares)"
   ]
  },
  {
   "cell_type": "code",
   "execution_count": 9,
   "id": "aba98884-f3ed-4624-8799-1eaf9ed4d574",
   "metadata": {},
   "outputs": [
    {
     "name": "stdout",
     "output_type": "stream",
     "text": [
      "[82, 48, 66, 19, 31, 51, 63, 60, 52, 27]\n"
     ]
    }
   ],
   "source": [
    "# Question Number 19:\n",
    "import random\n",
    "random_numbers = [random.randint(1,100) for i in range(10)]\n",
    "print(random_numbers)"
   ]
  },
  {
   "cell_type": "code",
   "execution_count": 40,
   "id": "50d81df3-c88e-4d4c-ba61-4aedeb850b36",
   "metadata": {},
   "outputs": [
    {
     "name": "stdout",
     "output_type": "stream",
     "text": [
      "[1, 2, 3, 5, 6, 8, 9]\n"
     ]
    }
   ],
   "source": [
    "# Question Number 20 :\n",
    "a = [2,3,5,9,1,2,6,8,3]\n",
    "s = list(set(a))\n",
    "print(s)"
   ]
  },
  {
   "cell_type": "code",
   "execution_count": 47,
   "id": "0f607563-dcd4-4df9-a9c6-c1674863cc78",
   "metadata": {},
   "outputs": [
    {
     "name": "stdout",
     "output_type": "stream",
     "text": [
      "[1, 2, 3, 5, 6, 9]\n"
     ]
    }
   ],
   "source": [
    "# Question Number 21:\n",
    "a=[1,3,6,4,9,2,1,5]\n",
    "b=[5,1,3,9,6,0,2,2]\n",
    "common_element = list(set(a) & set(b))\n",
    "print(common_element)"
   ]
  },
  {
   "cell_type": "code",
   "execution_count": 49,
   "id": "320a8e4b-3a30-489f-b526-4686d6423092",
   "metadata": {},
   "outputs": [
    {
     "name": "stdout",
     "output_type": "stream",
     "text": [
      "[5]\n"
     ]
    }
   ],
   "source": [
    "# Question Number 22 :\n",
    "a=[1,6,4,8,9,3,5]\n",
    "b=[3,6,1,8,4,0,9]\n",
    "difference = list(set(a) - set(b))\n",
    "print(difference)"
   ]
  },
  {
   "cell_type": "code",
   "execution_count": 50,
   "id": "a7a6cfd0-ebc2-42c9-9d4a-3e01d49c0812",
   "metadata": {},
   "outputs": [
    {
     "name": "stdout",
     "output_type": "stream",
     "text": [
      "[1, 2, 6, 9, 4, 5, 2, 1, 5, 7, 4, 3]\n"
     ]
    }
   ],
   "source": [
    "# Question number 23:\n",
    "a=[1,2,6,9,4,5]\n",
    "b=[2,1,5,7,4,3]\n",
    "merge_two_lists = a+b\n",
    "print(merge_two_lists)"
   ]
  },
  {
   "cell_type": "code",
   "execution_count": 53,
   "id": "3e5a48e1-88bc-4a5e-a336-fe87f4c41a6e",
   "metadata": {},
   "outputs": [
    {
     "name": "stdout",
     "output_type": "stream",
     "text": [
      "[1, 16, 36, 4, 9, 64, 81]\n"
     ]
    }
   ],
   "source": [
    "# Question Number 24 :\n",
    "a=[1,4,6,2,3,8,9]\n",
    "b=[i**2 for i in a]\n",
    "print(b)"
   ]
  },
  {
   "cell_type": "code",
   "execution_count": 54,
   "id": "d164655a-5269-42dc-a631-aa59e49ae910",
   "metadata": {},
   "outputs": [
    {
     "name": "stdout",
     "output_type": "stream",
     "text": [
      "[2, 6, 8]\n"
     ]
    }
   ],
   "source": [
    "# Question Number 25:\n",
    "a=[2,6,1,15,7,8,3]\n",
    "b=[i for i in a if i%2==0]\n",
    "print(b)"
   ]
  },
  {
   "cell_type": "code",
   "execution_count": 3,
   "id": "6e736d74-1a7e-4a5a-822d-39e444f0d083",
   "metadata": {},
   "outputs": [
    {
     "name": "stdout",
     "output_type": "stream",
     "text": [
      "[1, 2, 3, 4, 5]\n"
     ]
    }
   ],
   "source": [
    "# Question Number 26:\n",
    "a = [\"1\",\"2\",\"3\",\"4\",\"5\"]\n",
    "convert_list = [int(num) for num in a]\n",
    "print(convert_list)"
   ]
  },
  {
   "cell_type": "code",
   "execution_count": 4,
   "id": "d2211d34-36e6-4ce9-a29e-f01f581fd3e7",
   "metadata": {},
   "outputs": [
    {
     "name": "stdout",
     "output_type": "stream",
     "text": [
      "['1', '2', '3', '4', '5']\n"
     ]
    }
   ],
   "source": [
    "# Question Number 27:\n",
    "a = [1,2,3,4,5]\n",
    "converted_string = [str(num) for num in a]\n",
    "print(converted_string)"
   ]
  },
  {
   "cell_type": "code",
   "execution_count": 10,
   "id": "abcd53d0-3b9b-498f-baba-eda74ad93cee",
   "metadata": {},
   "outputs": [
    {
     "name": "stdout",
     "output_type": "stream",
     "text": [
      "[1, 2, 3, 4, 5, 6, 7, 8, 9, 0]\n"
     ]
    }
   ],
   "source": [
    "# Question Number 28:\n",
    "a = [[1,2],[3,4],[5,6],[7,8],[9,0]]\n",
    "flattened_list = [item for i in a for item in i]\n",
    "print(flattened_list)"
   ]
  },
  {
   "cell_type": "code",
   "execution_count": 16,
   "id": "9b87d4ae-1b20-423b-a259-058116fc4093",
   "metadata": {},
   "outputs": [
    {
     "name": "stdout",
     "output_type": "stream",
     "text": [
      "[0, 1, 1, 2, 3, 5, 8, 13, 21, 34, 55, 89, 144]\n"
     ]
    }
   ],
   "source": [
    "# Question Number 29:\n",
    "fibonacci_numbers = [0,1]\n",
    "for i in range(11):\n",
    "    fibonacci_numbers.append(fibonacci_numbers[-1]+fibonacci_numbers[-2])\n",
    "\n",
    "print(fibonacci_numbers)"
   ]
  },
  {
   "cell_type": "code",
   "execution_count": 25,
   "id": "a2b88218-cdc6-4d7a-919e-0b48fa574e54",
   "metadata": {},
   "outputs": [
    {
     "name": "stdout",
     "output_type": "stream",
     "text": [
      "yes , its sorted\n"
     ]
    }
   ],
   "source": [
    "# Questio Numbers 30 :\n",
    "a = [1,2,3,4,5,6]\n",
    "if a==sorted(a):\n",
    "    print(\"yes , its sorted\")\n",
    "else:\n",
    "    print(\"no , its not sorted\")"
   ]
  },
  {
   "cell_type": "code",
   "execution_count": 9,
   "id": "e8de3828-cb44-4af5-8fd4-d88a2bfe4774",
   "metadata": {},
   "outputs": [
    {
     "name": "stdout",
     "output_type": "stream",
     "text": [
      "[3, 4, 5, 6, 1, 2]\n"
     ]
    }
   ],
   "source": [
    "# Question Number 31:\n",
    "def rotate_list(lst,n):\n",
    "    return lst[n:]+lst[:n]\n",
    "\n",
    "\n",
    "print(rotate_list([1,2,3,4,5,6],2))"
   ]
  },
  {
   "cell_type": "code",
   "execution_count": 18,
   "id": "7d8696bd-78ba-4491-81da-cdd5c7ccd152",
   "metadata": {},
   "outputs": [
    {
     "name": "stdout",
     "output_type": "stream",
     "text": [
      "[5, 6, 1, 2, 3, 4]\n"
     ]
    }
   ],
   "source": [
    "# Question Number 32:\n",
    "def rotate_list(lst,n):\n",
    "    return lst[-n:]+lst[:len(lst)-n]\n",
    "\n",
    "print(rotate_list([1,2,3,4,5,6],2))"
   ]
  },
  {
   "cell_type": "code",
   "execution_count": 13,
   "id": "fa126c16-ee69-4fc8-983f-93c472ef372c",
   "metadata": {},
   "outputs": [
    {
     "name": "stdout",
     "output_type": "stream",
     "text": [
      "[2, 3, 5, 7, 11, 13, 17, 19, 23, 29, 31, 37, 41, 43, 47]\n"
     ]
    }
   ],
   "source": [
    "# Question Number 33:\n",
    "prime_num = []\n",
    "for num in range(2,51):\n",
    "    is_prime = True\n",
    "    for i in range(2,int(num**0.5)+1):\n",
    "        if num%i==0:\n",
    "            is_prime = False\n",
    "    if is_prime:\n",
    "        prime_num.append(num)\n",
    "\n",
    "print(prime_num)"
   ]
  },
  {
   "cell_type": "code",
   "execution_count": 26,
   "id": "4204335a-6dd5-4db3-adcb-af922ff71af5",
   "metadata": {},
   "outputs": [
    {
     "name": "stdout",
     "output_type": "stream",
     "text": [
      "[[1, 2, 3], [4, 5, 6], [7, 8, 9]]\n"
     ]
    }
   ],
   "source": [
    "# Question Number 34:\n",
    "def split_list(lst,n):\n",
    "    return [lst[i:i+n] for i in range(0,len(lst),n)]\n",
    "\n",
    "print(split_list([1,2,3,4,5,6,7,8,9],3))"
   ]
  },
  {
   "cell_type": "code",
   "execution_count": 40,
   "id": "ad889fe7-d0ea-44e8-9135-5ecee6990e06",
   "metadata": {},
   "outputs": [
    {
     "name": "stdout",
     "output_type": "stream",
     "text": [
      "47\n"
     ]
    }
   ],
   "source": [
    "# Question Number 35:\n",
    "def second_largest(n):\n",
    "    unique_num = list(set(n))\n",
    "    if len(unique_num)<2:\n",
    "        return \"list does not have a second largest element\"\n",
    "    else:\n",
    "        unique_num.sort()\n",
    "        return unique_num[-2]\n",
    "\n",
    "print(second_largest([4,8,23,7,95,3,9,47]))\n",
    "        "
   ]
  },
  {
   "cell_type": "code",
   "execution_count": 1,
   "id": "f85863f1-66f7-414f-b0ef-543da74ecc22",
   "metadata": {},
   "outputs": [
    {
     "name": "stdout",
     "output_type": "stream",
     "text": [
      "[1, 4, 9, 16, 25, 36, 49]\n"
     ]
    }
   ],
   "source": [
    "# Question Number 36:\n",
    "a = [1,2,3,4,5,6,7]\n",
    "b = [x**2 for x in a]\n",
    "print(b)"
   ]
  },
  {
   "cell_type": "code",
   "execution_count": 29,
   "id": "f1f500ef-0caf-49b7-85ff-3efba09d8fad",
   "metadata": {},
   "outputs": [
    {
     "name": "stdout",
     "output_type": "stream",
     "text": [
      "{'apple': 0, 'mango': 1, 'grapes': 2, 'banana': 3}\n"
     ]
    }
   ],
   "source": [
    "# Question Number 37:\n",
    "list = ['apple','mango','grapes','banana']\n",
    "dict = {element:index for index,element in enumerate(list)}\n",
    "print(dict)"
   ]
  },
  {
   "cell_type": "code",
   "execution_count": 37,
   "id": "f3aa2936-91de-4bf2-b727-0e7f4d541c4f",
   "metadata": {},
   "outputs": [
    {
     "name": "stdout",
     "output_type": "stream",
     "text": [
      "shuffeled list: [9, 7, 1, 6, 5, 4, 2, 8, 3]\n"
     ]
    }
   ],
   "source": [
    "# Question Number 38:\n",
    "import random\n",
    "list = [1,2,3,4,5,6,7,8,9]\n",
    "random.shuffle(list)\n",
    "print('shuffeled list:',list)"
   ]
  },
  {
   "cell_type": "code",
   "execution_count": 40,
   "id": "51875b7c-d67e-41b7-a220-acf29d3f52b7",
   "metadata": {},
   "outputs": [
    {
     "name": "stdout",
     "output_type": "stream",
     "text": [
      "factorial numbers: [1, 2, 6, 24, 120, 720, 5040, 40320, 362880, 3628800]\n"
     ]
    }
   ],
   "source": [
    "# Question Number 39:\n",
    "import math\n",
    "factorial = [math.factorial(i) for i in range(1,11)]\n",
    "print(\"factorial numbers:\",factorial)"
   ]
  },
  {
   "cell_type": "code",
   "execution_count": 41,
   "id": "f5530b33-dd4c-4775-9244-742b76c00927",
   "metadata": {},
   "outputs": [
    {
     "name": "stdout",
     "output_type": "stream",
     "text": [
      "yes,the lists have at least ane common element occur\n"
     ]
    }
   ],
   "source": [
    "# Question Number 40:\n",
    "a = [1,2,3,4,5]\n",
    "b = [3,8,9,2,7]\n",
    "common_element = set(a)&set(b)\n",
    "if common_element:\n",
    "    print('yes,the lists have at least ane common element occur')\n",
    "else:\n",
    "    print('false')"
   ]
  },
  {
   "cell_type": "code",
   "execution_count": 11,
   "id": "66db9824-8130-46b3-b6d6-3c0d0e275bd3",
   "metadata": {},
   "outputs": [
    {
     "name": "stdout",
     "output_type": "stream",
     "text": [
      "None\n"
     ]
    }
   ],
   "source": [
    "# Question Number 41:\n",
    "a = [1,2,3,4,5]\n",
    "b = a.clear()\n",
    "print(b)"
   ]
  },
  {
   "cell_type": "code",
   "execution_count": 22,
   "id": "87a10865-2d16-46ce-8f04-f5423fbeb264",
   "metadata": {},
   "outputs": [
    {
     "name": "stdout",
     "output_type": "stream",
     "text": [
      "[1, 3, 6, 0, 7, 0, 2]\n"
     ]
    }
   ],
   "source": [
    "# Question number 42:\n",
    "a = [1,3,6,-4,7,-9,2]\n",
    "modified_list = [max(0,num) for num in a]\n",
    "print(modified_list)"
   ]
  },
  {
   "cell_type": "code",
   "execution_count": 23,
   "id": "85d9cde0-4d91-40d9-84b8-5f41d5ec2d8d",
   "metadata": {},
   "outputs": [
    {
     "name": "stdout",
     "output_type": "stream",
     "text": [
      "['hey', 'i', 'am', 'priyanka', 'and', \"what's\", 'your', 'name']\n"
     ]
    }
   ],
   "source": [
    "# Question number 43:\n",
    "s = (\"hey i am priyanka and what's your name\")\n",
    "a = s.split()\n",
    "print(a)"
   ]
  },
  {
   "cell_type": "code",
   "execution_count": 24,
   "id": "62f5a229-ffe9-493b-bd29-f18460ca89e6",
   "metadata": {},
   "outputs": [
    {
     "data": {
      "text/plain": [
       "'hey i am priyanka'"
      ]
     },
     "execution_count": 24,
     "metadata": {},
     "output_type": "execute_result"
    }
   ],
   "source": [
    "# Question Number 44:\n",
    "a = ['hey','i','am','priyanka']\n",
    "' '.join(a)"
   ]
  },
  {
   "cell_type": "code",
   "execution_count": 43,
   "id": "8a37f0d9-ce79-44fe-b424-166dd8ce66fe",
   "metadata": {},
   "outputs": [
    {
     "name": "stdout",
     "output_type": "stream",
     "text": [
      "[2, 4, 8, 16, 32, 64, 128, 256, 512, 1024]\n"
     ]
    }
   ],
   "source": [
    "# Question Number 45:\n",
    "l = [2**n for n in range(1,11)]\n",
    "print(l)"
   ]
  },
  {
   "cell_type": "code",
   "execution_count": 45,
   "id": "4f488252-5530-423d-8adc-8250ad07611f",
   "metadata": {},
   "outputs": [
    {
     "name": "stdout",
     "output_type": "stream",
     "text": [
      "longest string is: grapes\n"
     ]
    }
   ],
   "source": [
    "# Question Number 46:\n",
    "l = ['apple','mango','grapes','banana']\n",
    "longest_string = max(l,key=len)\n",
    "print('longest string is:',longest_string)"
   ]
  },
  {
   "cell_type": "code",
   "execution_count": 47,
   "id": "10e0647f-da8f-4b53-b32c-838d44ddde14",
   "metadata": {},
   "outputs": [
    {
     "name": "stdout",
     "output_type": "stream",
     "text": [
      "shortest string is: red\n"
     ]
    }
   ],
   "source": [
    "# Question Number 47:\n",
    "l = ['apple','mango','grapes','banana','red']\n",
    "shortest_string = min(l,key=len)\n",
    "print('shortest string is:',shortest_string)"
   ]
  },
  {
   "cell_type": "code",
   "execution_count": 1,
   "id": "7e7e3642-f6dc-4bf4-9838-98d91adeb9e3",
   "metadata": {},
   "outputs": [
    {
     "name": "stdout",
     "output_type": "stream",
     "text": [
      "[1, 3, 6, 10, 15]\n"
     ]
    }
   ],
   "source": [
    "# Question number 48:\n",
    "def greatest_triangular_number(n):\n",
    "    tri_num = []\n",
    "    total = 0\n",
    "    for i in range(1,n+1):\n",
    "        total += i\n",
    "        tri_num.append(total)    \n",
    "    return tri_num\n",
    "\n",
    "print(greatest_triangular_number(5))"
   ]
  },
  {
   "cell_type": "code",
   "execution_count": 4,
   "id": "f5421965-c8f5-4ee1-a40d-41b013c109ef",
   "metadata": {},
   "outputs": [
    {
     "name": "stdout",
     "output_type": "stream",
     "text": [
      "True\n"
     ]
    }
   ],
   "source": [
    "# Question Number 49:\n",
    "def is_subsequence(sub,lst):\n",
    "    sub_index = 0\n",
    "    for i in lst:\n",
    "        if i==sub[sub_index]:\n",
    "            sub_index+=1\n",
    "            if sub_index==len(sub):\n",
    "                return True\n",
    "    return False\n",
    "\n",
    "print(is_subsequence([2,3,4],[1,2,3,4,5,6,7,8,9,10]))"
   ]
  },
  {
   "cell_type": "code",
   "execution_count": 40,
   "id": "b45be67f-3c16-4cf2-8344-b3b2714a89ab",
   "metadata": {},
   "outputs": [
    {
     "name": "stdout",
     "output_type": "stream",
     "text": [
      "[1, 2, 5, 4, 3, 6, 7]\n"
     ]
    }
   ],
   "source": [
    "# Question Number 50:\n",
    "l = [1,2,3,4,5,6,7]\n",
    "index1,index2 = 2,4\n",
    "l[index1],l[index2]=l[index2],l[index1]\n",
    "print(l)"
   ]
  },
  {
   "cell_type": "markdown",
   "id": "ebcdc296-e512-4a53-afe0-0efb8e42f07c",
   "metadata": {},
   "source": [
    "### Tuple Based Problems:"
   ]
  },
  {
   "cell_type": "code",
   "execution_count": 28,
   "id": "a9b9c75d-5168-4bd8-bd9c-b40441ea86d1",
   "metadata": {},
   "outputs": [
    {
     "data": {
      "text/plain": [
       "(1, 2, 3, 4, 5)"
      ]
     },
     "execution_count": 28,
     "metadata": {},
     "output_type": "execute_result"
    }
   ],
   "source": [
    "# Question no.1:\n",
    "t = tuple(range(1,6))\n",
    "t"
   ]
  },
  {
   "cell_type": "code",
   "execution_count": 30,
   "id": "bde3c4c3-9f51-4594-9d2e-b9fa635b9410",
   "metadata": {},
   "outputs": [
    {
     "data": {
      "text/plain": [
       "7"
      ]
     },
     "execution_count": 30,
     "metadata": {},
     "output_type": "execute_result"
    }
   ],
   "source": [
    "# Question Number 2:\n",
    "a = (1,5,7,3,5)\n",
    "a[2]"
   ]
  },
  {
   "cell_type": "code",
   "execution_count": 37,
   "id": "700dad96-3eec-499d-82f1-e757cfe1fbfb",
   "metadata": {},
   "outputs": [
    {
     "name": "stdout",
     "output_type": "stream",
     "text": [
      "length of the tuple is: 7\n"
     ]
    }
   ],
   "source": [
    "# Question Number 3:\n",
    "a = (1,2,3,4,5,6,7)\n",
    "length = 0\n",
    "for i in a:\n",
    "    length+=1\n",
    "\n",
    "print('length of the tuple is:', length)\n",
    "    \n",
    "    "
   ]
  },
  {
   "cell_type": "code",
   "execution_count": 40,
   "id": "37c1f8be-a6ed-47cb-8551-5ad5c675a0cf",
   "metadata": {},
   "outputs": [
    {
     "data": {
      "text/plain": [
       "2"
      ]
     },
     "execution_count": 40,
     "metadata": {},
     "output_type": "execute_result"
    }
   ],
   "source": [
    "# Question number 4:\n",
    "a = (1,2,3,4,5,1,6,7,8,9)\n",
    "a.count(1)"
   ]
  },
  {
   "cell_type": "code",
   "execution_count": 45,
   "id": "fcdbaea2-63c5-4536-8186-eb02e504d1fa",
   "metadata": {},
   "outputs": [
    {
     "name": "stdout",
     "output_type": "stream",
     "text": [
      "2\n"
     ]
    }
   ],
   "source": [
    "# Question Number 5:\n",
    "a = [4,2,8,6,8,3,6,8]\n",
    "b = a.index(8)\n",
    "print(b)"
   ]
  },
  {
   "cell_type": "code",
   "execution_count": 46,
   "id": "d361b3a0-cf9d-402c-86c6-41e92d5b1113",
   "metadata": {},
   "outputs": [
    {
     "name": "stdout",
     "output_type": "stream",
     "text": [
      "yes , its exists in tuple\n"
     ]
    }
   ],
   "source": [
    "# Question Number 6:\n",
    "a = [1,2,3,4,5,6]\n",
    "if 4 in a:\n",
    "    print('yes , its exists in tuple')\n",
    "else:\n",
    "    print('no , its not present in tuple')"
   ]
  },
  {
   "cell_type": "code",
   "execution_count": 47,
   "id": "5f48bce0-5a6a-44ed-943f-5534537facfd",
   "metadata": {},
   "outputs": [
    {
     "name": "stdout",
     "output_type": "stream",
     "text": [
      "[1, 2, 3, 4, 5, 6]\n"
     ]
    }
   ],
   "source": [
    "# Question number 7:\n",
    "a = (1,2,3,4,5,6)\n",
    "b = list(a)\n",
    "print(b)"
   ]
  },
  {
   "cell_type": "code",
   "execution_count": 48,
   "id": "8ae7943c-0636-45c6-b447-5e5735f9e47f",
   "metadata": {},
   "outputs": [
    {
     "name": "stdout",
     "output_type": "stream",
     "text": [
      "(1, 2, 3, 4, 5)\n"
     ]
    }
   ],
   "source": [
    "# Question number 8:\n",
    "a = [1,2,3,4,5]\n",
    "b = tuple(a)\n",
    "print(b)"
   ]
  },
  {
   "cell_type": "code",
   "execution_count": 6,
   "id": "344b38a6-5b6b-4ba2-ac93-a8b34c614c17",
   "metadata": {},
   "outputs": [
    {
     "name": "stdout",
     "output_type": "stream",
     "text": [
      "1 2 3 4 5\n"
     ]
    }
   ],
   "source": [
    "# Question Number 9 :\n",
    "tuple_element = (1,2,3,4,5)\n",
    "a,b,c,d,e = tuple_element\n",
    "print(a,\n",
    "      b,\n",
    "      c,\n",
    "      d,\n",
    "      e)"
   ]
  },
  {
   "cell_type": "code",
   "execution_count": 8,
   "id": "5323bacf-707f-4e20-9683-39a1b393eca1",
   "metadata": {},
   "outputs": [
    {
     "name": "stdout",
     "output_type": "stream",
     "text": [
      "(2, 4, 6, 8, 10)\n"
     ]
    }
   ],
   "source": [
    "# Question number 10:\n",
    "b = tuple(i for i in range(1,11) if i%2==0)\n",
    "print(b)"
   ]
  },
  {
   "cell_type": "code",
   "execution_count": 9,
   "id": "84cadfa0-6f9b-4cdb-a673-c4c2760b17ca",
   "metadata": {},
   "outputs": [
    {
     "name": "stdout",
     "output_type": "stream",
     "text": [
      "(1, 3, 5, 7, 9)\n"
     ]
    }
   ],
   "source": [
    "# Question Number 11:\n",
    "a = tuple(i for i in range(1,11) if i%2!=0)\n",
    "print(a)"
   ]
  },
  {
   "cell_type": "code",
   "execution_count": 10,
   "id": "b4431c44-897d-4488-a3d8-34e45ab1194b",
   "metadata": {},
   "outputs": [
    {
     "name": "stdout",
     "output_type": "stream",
     "text": [
      "(1, 2, 3, 4, 5, 6, 7, 8, 9, 1)\n"
     ]
    }
   ],
   "source": [
    "# Question Number 12:\n",
    "a=(1,2,3,4,5)\n",
    "b=(6,7,8,9,1)\n",
    "print(a+b)"
   ]
  },
  {
   "cell_type": "code",
   "execution_count": 13,
   "id": "3a382062-9a2a-4884-96a1-0bbd517e48ac",
   "metadata": {},
   "outputs": [
    {
     "name": "stdout",
     "output_type": "stream",
     "text": [
      "(1, 2, 3, 4, 5, 1, 2, 3, 4, 5, 1, 2, 3, 4, 5)\n"
     ]
    }
   ],
   "source": [
    "# Question Number 13:\n",
    "a = (1,2,3,4,5)\n",
    "print(a*3)"
   ]
  },
  {
   "cell_type": "code",
   "execution_count": 14,
   "id": "ba311feb-4f80-4311-951c-7698356950e6",
   "metadata": {},
   "outputs": [
    {
     "name": "stdout",
     "output_type": "stream",
     "text": [
      "this tuple is empty\n"
     ]
    }
   ],
   "source": [
    "# Question Number 14 :\n",
    "a = ()\n",
    "if len(a)==0:\n",
    "    print('this tuple is empty')\n",
    "else:\n",
    "    print('this tuple is not empty')"
   ]
  },
  {
   "cell_type": "code",
   "execution_count": 19,
   "id": "7b46f0a8-6006-4714-be22-78fea8b319bf",
   "metadata": {},
   "outputs": [
    {
     "name": "stdout",
     "output_type": "stream",
     "text": [
      "(4, 5, 6)\n"
     ]
    }
   ],
   "source": [
    "# Question Number 15 :\n",
    "a = ((1,2,3),(4,5,6),('hey','bro'),('i','am'))\n",
    "b = a[1]\n",
    "print(b)"
   ]
  },
  {
   "cell_type": "code",
   "execution_count": 20,
   "id": "21d12596-cb1a-4250-9beb-46159e6a0742",
   "metadata": {},
   "outputs": [
    {
     "name": "stdout",
     "output_type": "stream",
     "text": [
      "(1, 2, 3)\n"
     ]
    }
   ],
   "source": [
    "# Question Number 16:\n",
    "a = ((1,2,3),('hey','man'))\n",
    "b = a[0]\n",
    "print(b)"
   ]
  },
  {
   "cell_type": "code",
   "execution_count": 23,
   "id": "b618a818-d250-4208-8b37-6c233b9c01c4",
   "metadata": {},
   "outputs": [
    {
     "name": "stdout",
     "output_type": "stream",
     "text": [
      "1\n"
     ]
    }
   ],
   "source": [
    "# Question Number 17 :\n",
    "a = (1)\n",
    "print(a)"
   ]
  },
  {
   "cell_type": "code",
   "execution_count": 24,
   "id": "c9db6a6e-16ce-4257-a5aa-9ce9fa3e8bba",
   "metadata": {},
   "outputs": [
    {
     "name": "stdout",
     "output_type": "stream",
     "text": [
      "this tuples is not equal\n"
     ]
    }
   ],
   "source": [
    "# Question number 18:\n",
    "a = (1,2,3,4)\n",
    "b = (2,1,3,6)\n",
    "if a==b:\n",
    "    print('this tuples is equal')\n",
    "else:\n",
    "    print('this tuples is not equal')"
   ]
  },
  {
   "cell_type": "code",
   "execution_count": 27,
   "id": "f7288175-7153-4d66-a9a8-0c3e1476b41c",
   "metadata": {},
   "outputs": [
    {
     "ename": "NameError",
     "evalue": "name 'a' is not defined",
     "output_type": "error",
     "traceback": [
      "\u001b[1;31m---------------------------------------------------------------------------\u001b[0m",
      "\u001b[1;31mNameError\u001b[0m                                 Traceback (most recent call last)",
      "Cell \u001b[1;32mIn[27], line 4\u001b[0m\n\u001b[0;32m      2\u001b[0m a \u001b[38;5;241m=\u001b[39m (\u001b[38;5;241m1\u001b[39m,\u001b[38;5;241m2\u001b[39m,\u001b[38;5;241m3\u001b[39m,\u001b[38;5;241m4\u001b[39m,\u001b[38;5;241m5\u001b[39m)\n\u001b[0;32m      3\u001b[0m \u001b[38;5;28;01mdel\u001b[39;00m a \n\u001b[1;32m----> 4\u001b[0m \u001b[38;5;28mprint\u001b[39m(\u001b[43ma\u001b[49m)\n",
      "\u001b[1;31mNameError\u001b[0m: name 'a' is not defined"
     ]
    }
   ],
   "source": [
    "# Question Number 19 :\n",
    "a = (1,2,3,4,5)\n",
    "del a \n",
    "print(a)"
   ]
  },
  {
   "cell_type": "code",
   "execution_count": 28,
   "id": "d8e658fe-6daf-44a0-953b-da22fa7794f9",
   "metadata": {},
   "outputs": [
    {
     "name": "stdout",
     "output_type": "stream",
     "text": [
      "(3, 4, 5, 6)\n"
     ]
    }
   ],
   "source": [
    "# Question number 20:\n",
    "a = (1,2,3,4,5,6,7)\n",
    "sliced_tuple = a[2:6]\n",
    "print(sliced_tuple)"
   ]
  },
  {
   "cell_type": "code",
   "execution_count": 29,
   "id": "c75e3cfd-b033-4ba7-8ef9-6ccdfd6f3743",
   "metadata": {},
   "outputs": [
    {
     "name": "stdout",
     "output_type": "stream",
     "text": [
      "85\n"
     ]
    }
   ],
   "source": [
    "# Question Number 21:\n",
    "a = (1,2,3,4,6,46,85,2)\n",
    "b = max(a)\n",
    "print(b)"
   ]
  },
  {
   "cell_type": "code",
   "execution_count": 30,
   "id": "4da7de53-a936-4da3-8d68-6ab6cf29e1cf",
   "metadata": {},
   "outputs": [
    {
     "name": "stdout",
     "output_type": "stream",
     "text": [
      "2\n"
     ]
    }
   ],
   "source": [
    "# Question number 22:\n",
    "a = (4,2,65,7,2,5,66)\n",
    "b = min(a)\n",
    "print(b)"
   ]
  },
  {
   "cell_type": "code",
   "execution_count": 31,
   "id": "651d41b6-2b5a-44c3-a1af-aaa26d1979ce",
   "metadata": {},
   "outputs": [
    {
     "name": "stdout",
     "output_type": "stream",
     "text": [
      "('h', 'e', 'y', ' ', 'i', ' ', 'a', 'm', ' ', 'p', 'r', 'i', 'y', 'a', 'n', 'k', 'a')\n"
     ]
    }
   ],
   "source": [
    "# Question number 23 :\n",
    "a = (\"hey i am priyanka\")\n",
    "b = tuple(a)\n",
    "print(b)"
   ]
  },
  {
   "cell_type": "code",
   "execution_count": 35,
   "id": "c3b77e8d-e507-47b7-8982-462e2740b1e7",
   "metadata": {},
   "outputs": [
    {
     "name": "stdout",
     "output_type": "stream",
     "text": [
      "hey my name is priyanka\n"
     ]
    }
   ],
   "source": [
    "# Question Number 24:\n",
    "a = ('hey','my','name','is','priyanka')\n",
    "b = \" \".join(a)\n",
    "print(b)"
   ]
  },
  {
   "cell_type": "code",
   "execution_count": 36,
   "id": "82d4a675-342e-422b-a0aa-1e1378666aa4",
   "metadata": {},
   "outputs": [
    {
     "name": "stdout",
     "output_type": "stream",
     "text": [
      "(1, 2.4, 'hey', True)\n"
     ]
    }
   ],
   "source": [
    "# Question Number 25:\n",
    "a = (1,2.4,'hey',True)\n",
    "print(a)"
   ]
  },
  {
   "cell_type": "code",
   "execution_count": 37,
   "id": "114681db-c6c8-4ed0-a2a1-42cf723a85d3",
   "metadata": {},
   "outputs": [
    {
     "name": "stdout",
     "output_type": "stream",
     "text": [
      "this tuples is identical\n"
     ]
    }
   ],
   "source": [
    "# Question Number 26:\n",
    "a = (1,2,3)\n",
    "b = (1,2,3)\n",
    "if a==b:\n",
    "    print('this tuples is identical')\n",
    "else:\n",
    "    print('this tuples is not identical')"
   ]
  },
  {
   "cell_type": "code",
   "execution_count": 2,
   "id": "ccfbeec5-bb90-4808-b16a-631110b57cf9",
   "metadata": {},
   "outputs": [
    {
     "name": "stdout",
     "output_type": "stream",
     "text": [
      "(1, 2, 3, 4, 5, 6, 6, 8)\n"
     ]
    }
   ],
   "source": [
    "# Question Number 27:\n",
    "a = (2,6,3,8,4,1,5,6)\n",
    "b = tuple(sorted(a))\n",
    "print(b)"
   ]
  },
  {
   "cell_type": "code",
   "execution_count": 46,
   "id": "925d83bc-a2aa-4073-87a9-d9910eb72dc8",
   "metadata": {},
   "outputs": [
    {
     "name": "stdout",
     "output_type": "stream",
     "text": [
      "('1', '2', '3', '4', '5')\n"
     ]
    }
   ],
   "source": [
    "# Question Number 28 :\n",
    "a = (1,2,3,4,5)\n",
    "b = tuple(str(i) for i in a)\n",
    "print(b)"
   ]
  },
  {
   "cell_type": "code",
   "execution_count": 1,
   "id": "21b3198d-1c41-47f1-8d31-23fb8c8c0838",
   "metadata": {},
   "outputs": [
    {
     "name": "stdout",
     "output_type": "stream",
     "text": [
      "(1, 2, 3, 4)\n"
     ]
    }
   ],
   "source": [
    "# Question Number 29:\n",
    "a = ('1','2','3','4')\n",
    "b = tuple(int(i) for i in a)\n",
    "print(b)"
   ]
  },
  {
   "cell_type": "code",
   "execution_count": 2,
   "id": "bd7661fe-d548-4c3b-8cb7-79e4b13392fb",
   "metadata": {},
   "outputs": [
    {
     "name": "stdout",
     "output_type": "stream",
     "text": [
      "(1, 2, 3, 4, 5, 6, 7, 8, 9, 0)\n"
     ]
    }
   ],
   "source": [
    "# Question Number 30:\n",
    "a = (1,2,3,4,5)\n",
    "b = (6,7,8,9,0)\n",
    "merge_tuples = a+b\n",
    "print(merge_tuples)"
   ]
  },
  {
   "cell_type": "code",
   "execution_count": 3,
   "id": "dd061141-41f2-4165-96eb-af5f63579c50",
   "metadata": {},
   "outputs": [
    {
     "name": "stdout",
     "output_type": "stream",
     "text": [
      "(1, 2, 3, 4)\n"
     ]
    }
   ],
   "source": [
    "# Question Number 31:\n",
    "t=((1,2),(3,4))\n",
    "l=[j for i in t    for j in i]\n",
    "print(tuple(l))"
   ]
  },
  {
   "cell_type": "code",
   "execution_count": 20,
   "id": "78198a19-ee29-43a3-930c-7cbaad6d5523",
   "metadata": {},
   "outputs": [
    {
     "name": "stdout",
     "output_type": "stream",
     "text": [
      "[2, 3, 5, 7, 11]\n"
     ]
    }
   ],
   "source": [
    "# Question Number 32:\n",
    "def primeGenerator(n):\n",
    "    primes = []\n",
    "    i = 2\n",
    "    while len(primes) < n:\n",
    "        for p in primes:\n",
    "            if i % p == 0:\n",
    "                break\n",
    "        else:\n",
    "            primes.append(i)\n",
    "        i += 1\n",
    "    return primes\n",
    "\n",
    "print(primeGenerator(5))"
   ]
  },
  {
   "cell_type": "code",
   "execution_count": 30,
   "id": "5ef9a2f1-12ec-4ac4-b213-2e79a1dd77dd",
   "metadata": {},
   "outputs": [
    {
     "name": "stdout",
     "output_type": "stream",
     "text": [
      "yes , its pallindrome\n"
     ]
    }
   ],
   "source": [
    "# Question Number 33:\n",
    "t1 = (1,2,3,4,5)\n",
    "t2 = (5,4,3,2,1)\n",
    "if t1==t2[ : :-1]:\n",
    "    print('yes , its pallindrome')\n",
    "else:\n",
    "    print('no , its pallindrome')\n",
    "    "
   ]
  },
  {
   "cell_type": "code",
   "execution_count": 29,
   "id": "546bd70a-1443-4577-bdba-eff4b538b203",
   "metadata": {},
   "outputs": [
    {
     "name": "stdout",
     "output_type": "stream",
     "text": [
      "(1, 4, 9, 16, 25)\n"
     ]
    }
   ],
   "source": [
    "# Question Number 34 :\n",
    "t = tuple(i**2 for i in range(1,6))\n",
    "print(t)"
   ]
  },
  {
   "cell_type": "code",
   "execution_count": 37,
   "id": "8097403d-1109-4c95-a447-135197896b34",
   "metadata": {},
   "outputs": [
    {
     "name": "stdout",
     "output_type": "stream",
     "text": [
      "(2, 4, 6, 8)\n"
     ]
    }
   ],
   "source": [
    "# Question Number 35:\n",
    "a = (1,2,3,4,5,6,7,8,9)\n",
    "t = tuple(i for i in a if i%2==0)\n",
    "print(t)"
   ]
  },
  {
   "cell_type": "code",
   "execution_count": 49,
   "id": "a42e105c-a392-4eba-89ce-f6471b4c63d8",
   "metadata": {},
   "outputs": [
    {
     "name": "stdout",
     "output_type": "stream",
     "text": [
      "(1, 4, 9, 16, 25)\n"
     ]
    }
   ],
   "source": [
    "# Question Number 36:\n",
    "a = (1,2,3,4,5)\n",
    "t = tuple(i**2 for i in a)\n",
    "print(t)"
   ]
  },
  {
   "cell_type": "code",
   "execution_count": 10,
   "id": "c4fc18d0-a8f1-4a12-a9e3-3c8f8c5f5d27",
   "metadata": {},
   "outputs": [
    {
     "name": "stdout",
     "output_type": "stream",
     "text": [
      "(29, 19, 17, 42, 50, 21, 37, 36, 21, 2)\n"
     ]
    }
   ],
   "source": [
    "# Question Number 37:\n",
    "import random\n",
    "a = tuple(random.randint(1,51) for i in range(10))\n",
    "print(a)"
   ]
  },
  {
   "cell_type": "code",
   "execution_count": 58,
   "id": "e2fbb8c1-d2bc-4f14-b99d-0116901d4b28",
   "metadata": {},
   "outputs": [
    {
     "name": "stdout",
     "output_type": "stream",
     "text": [
      "yes , its sorted tuple\n"
     ]
    }
   ],
   "source": [
    "# Question Number 38:\n",
    "a = (1,2,3,4,5)\n",
    "if a==tuple(sorted(a)):\n",
    "    print('yes , its sorted tuple')\n",
    "else:\n",
    "    print('no , its not sorted tuple')"
   ]
  },
  {
   "cell_type": "code",
   "execution_count": 19,
   "id": "c1c4957b-20fa-46a2-b4af-f37e34642d5b",
   "metadata": {},
   "outputs": [
    {
     "name": "stdout",
     "output_type": "stream",
     "text": [
      "(3, 4, 5, 6, 1, 2)\n"
     ]
    }
   ],
   "source": [
    "# Question Number 39:\n",
    "def rotate_left(tuple,n):\n",
    "    return tuple[n:]+tuple[:n]\n",
    "\n",
    "print(rotate_left((1,2,3,4,5,6),2))"
   ]
  },
  {
   "cell_type": "code",
   "execution_count": 25,
   "id": "ac16fb9c-2246-4819-93da-f6f29170dbd6",
   "metadata": {},
   "outputs": [
    {
     "name": "stdout",
     "output_type": "stream",
     "text": [
      "(5, 6, 1, 2, 3, 4)\n"
     ]
    }
   ],
   "source": [
    "# Question Number 40:\n",
    "def rotate_right(tuple,n):\n",
    "    return tuple[-n:]+tuple[:-n]\n",
    "\n",
    "print(rotate_right((1,2,3,4,5,6),2))"
   ]
  },
  {
   "cell_type": "code",
   "execution_count": 5,
   "id": "71197abd-b01e-4050-b86e-94f38e207f28",
   "metadata": {},
   "outputs": [
    {
     "name": "stdout",
     "output_type": "stream",
     "text": [
      "(0, 1, 1, 2, 3)\n"
     ]
    }
   ],
   "source": [
    "# Question Number 41:\n",
    "def fibbonacci(n):\n",
    "    fibo = [0,1]\n",
    "    for i in range(2,n):\n",
    "        fibo.append(fibo[-1]+fibo[-2])\n",
    "    return tuple(fibo)\n",
    "\n",
    "print(fibbonacci(5))"
   ]
  },
  {
   "cell_type": "code",
   "execution_count": 31,
   "id": "fdb10528-64ff-4ea6-b907-2f280adcc739",
   "metadata": {},
   "outputs": [
    {
     "name": "stdin",
     "output_type": "stream",
     "text": [
      "enter your elements comma seprated 1,2,3,4\n"
     ]
    },
    {
     "name": "stdout",
     "output_type": "stream",
     "text": [
      "tuple: ('1', '2', '3', '4')\n"
     ]
    }
   ],
   "source": [
    "# Question Number 42 :\n",
    "a = input(\"enter your elements comma seprated\")\n",
    "user_tuple = tuple(a.split(','))\n",
    "print(\"tuple:\",user_tuple)"
   ]
  },
  {
   "cell_type": "code",
   "execution_count": 41,
   "id": "1f3e172d-f44c-48f5-b414-39499e810a0e",
   "metadata": {},
   "outputs": [
    {
     "name": "stdout",
     "output_type": "stream",
     "text": [
      "(1, 2, 6, 4, 5, 3, 7)\n"
     ]
    }
   ],
   "source": [
    "# Question Number 43:\n",
    "t = (1,2,3,4,5,6,7)\n",
    "index1,index2 = 2,5\n",
    "t_list = list(t)\n",
    "t_list[index1],t_list[index2] = t_list[index2],t_list[index1]\n",
    "swap_tuple = tuple(t_list)\n",
    "print(swap_tuple)"
   ]
  },
  {
   "cell_type": "code",
   "execution_count": 32,
   "id": "4b1d6555-259a-4162-ac71-de7f06fea262",
   "metadata": {},
   "outputs": [
    {
     "name": "stdout",
     "output_type": "stream",
     "text": [
      "(5, 4, 3, 2, 1)\n"
     ]
    }
   ],
   "source": [
    "# Question Number 44:\n",
    "a = (1,2,3,4,5)\n",
    "print(a[ : :-1])"
   ]
  },
  {
   "cell_type": "code",
   "execution_count": 74,
   "id": "6e445644-e3cb-43f3-90bb-8b1638d1f576",
   "metadata": {},
   "outputs": [
    {
     "name": "stdout",
     "output_type": "stream",
     "text": [
      "the tuple of 'n' powers of 2 : (32, 32, 32, 32, 32)\n"
     ]
    }
   ],
   "source": [
    "# Question Number 45:\n",
    "n = 5\n",
    "a = tuple(2**n for i in range(n))\n",
    "print(\"the tuple of 'n' powers of 2 :\",a)"
   ]
  },
  {
   "cell_type": "code",
   "execution_count": 12,
   "id": "fa6cfa63-e6d9-4582-90bb-ae90b0c8be93",
   "metadata": {},
   "outputs": [
    {
     "name": "stdout",
     "output_type": "stream",
     "text": [
      "largest tuple is : banana\n"
     ]
    }
   ],
   "source": [
    "# Question Number 46 :\n",
    "a = ('apple','pink','red','banana')\n",
    "b = max(a , key=len)\n",
    "print('largest tuple is :' , b)"
   ]
  },
  {
   "cell_type": "code",
   "execution_count": 19,
   "id": "535716eb-0307-4fc4-8619-2f7ceb1b2b50",
   "metadata": {},
   "outputs": [
    {
     "data": {
      "text/plain": [
       "'banana'"
      ]
     },
     "execution_count": 19,
     "metadata": {},
     "output_type": "execute_result"
    }
   ],
   "source": [
    "# or Question Number 46: \n",
    "t=[]\n",
    "for i in a:\n",
    "    t.append(len(i))\n",
    "\n",
    "a[t.index(max(t))]\n"
   ]
  },
  {
   "cell_type": "code",
   "execution_count": 50,
   "id": "d25ea7e6-f11f-4862-8fe4-9e8e6b793112",
   "metadata": {},
   "outputs": [
    {
     "data": {
      "text/plain": [
       "'red'"
      ]
     },
     "execution_count": 50,
     "metadata": {},
     "output_type": "execute_result"
    }
   ],
   "source": [
    "# Question number 47:\n",
    "a = ('apple','mango','purple','red')\n",
    "l = [len(i) for i in a]\n",
    "a[l.index(min(l))]"
   ]
  },
  {
   "cell_type": "code",
   "execution_count": 7,
   "id": "52afa063-b5ef-4543-bba1-22a7ab1f1491",
   "metadata": {},
   "outputs": [
    {
     "name": "stdout",
     "output_type": "stream",
     "text": [
      "[1, 3, 6, 10, 15]\n"
     ]
    }
   ],
   "source": [
    "# Question number 48:\n",
    "def triangular_num(n):\n",
    "    tri_num = []\n",
    "    total = 0\n",
    "    for i in range(1,n+1):\n",
    "        total+=i\n",
    "        tri_num.append(total)\n",
    "    return tri_num\n",
    "\n",
    "print(triangular_num(5))"
   ]
  },
  {
   "cell_type": "code",
   "execution_count": 6,
   "id": "bd39222d-2522-4f88-b94d-458b25595b20",
   "metadata": {},
   "outputs": [
    {
     "name": "stdout",
     "output_type": "stream",
     "text": [
      "True\n"
     ]
    }
   ],
   "source": [
    "# Question Number 49:\n",
    "t1 = (1,2,3,4,5,6)\n",
    "t2 = (3,5)\n",
    "if all(t2) in t1:\n",
    "    print(True)\n",
    "else:\n",
    "    print(False)\n"
   ]
  },
  {
   "cell_type": "markdown",
   "id": "d5112702-c659-4379-8ad7-fde5a7e6acc4",
   "metadata": {},
   "source": [
    "### Set Based Practice Problem"
   ]
  },
  {
   "cell_type": "code",
   "execution_count": 1,
   "id": "2d27b522-ee00-4c3e-9ac2-b80e1376bbc3",
   "metadata": {},
   "outputs": [
    {
     "name": "stdout",
     "output_type": "stream",
     "text": [
      "{1, 2, 3, 6, 7}\n"
     ]
    }
   ],
   "source": [
    "# Question Number 1:\n",
    "my_set = {1,2,3,6,7,6}\n",
    "print(my_set)"
   ]
  },
  {
   "cell_type": "code",
   "execution_count": 10,
   "id": "6206c6e2-62f1-4bf1-af90-17ca7c84abb3",
   "metadata": {},
   "outputs": [
    {
     "name": "stdout",
     "output_type": "stream",
     "text": [
      "{1, 2, 3, 4, 5, 6}\n"
     ]
    }
   ],
   "source": [
    "# Question Number 2:\n",
    "a = {1,2,3,4,5}\n",
    "a.add(6)\n",
    "print(a)"
   ]
  },
  {
   "cell_type": "code",
   "execution_count": 11,
   "id": "7574dc1a-4d99-48ec-9c62-d53b1d06d561",
   "metadata": {},
   "outputs": [
    {
     "data": {
      "text/plain": [
       "{1, 2, 3, 5}"
      ]
     },
     "execution_count": 11,
     "metadata": {},
     "output_type": "execute_result"
    }
   ],
   "source": [
    "# Question Number 3:\n",
    "a = {1,2,3,4,5}\n",
    "a.remove(4)\n",
    "a"
   ]
  },
  {
   "cell_type": "code",
   "execution_count": 13,
   "id": "dbcc88a9-47da-4c33-84d8-8f87db9bfb06",
   "metadata": {},
   "outputs": [
    {
     "name": "stdout",
     "output_type": "stream",
     "text": [
      "yes , this set exist 3\n"
     ]
    }
   ],
   "source": [
    "# Question Number 4:\n",
    "a = {1,2,3,4,5}\n",
    "if 3 in a:\n",
    "    print('yes , this set exist 3')\n",
    "else:\n",
    "    print('no , this set not exist 3')"
   ]
  },
  {
   "cell_type": "code",
   "execution_count": 21,
   "id": "736359de-f59a-4488-9574-df080d98b2de",
   "metadata": {},
   "outputs": [
    {
     "name": "stdout",
     "output_type": "stream",
     "text": [
      "length of the set is : 7\n"
     ]
    }
   ],
   "source": [
    "# Question Number 5 :\n",
    "a = {1,2,3,4,5,6,7}\n",
    "length = 0\n",
    "for i in a:\n",
    "    length+=1\n",
    "\n",
    "print('length of the set is :',length)"
   ]
  },
  {
   "cell_type": "code",
   "execution_count": 25,
   "id": "6c87e8cc-446b-4f22-94ea-22600afdf8ea",
   "metadata": {},
   "outputs": [
    {
     "name": "stdout",
     "output_type": "stream",
     "text": [
      "set()\n"
     ]
    }
   ],
   "source": [
    "# Question Number 6:\n",
    "a= {1,2,3,4,5}\n",
    "a.clear()\n",
    "print(a)"
   ]
  },
  {
   "cell_type": "code",
   "execution_count": 29,
   "id": "f16cab7f-cb75-4a92-91eb-e7863e875443",
   "metadata": {},
   "outputs": [
    {
     "name": "stdout",
     "output_type": "stream",
     "text": [
      "{2, 4, 6, 8, 10}\n"
     ]
    }
   ],
   "source": [
    "# Question Number 7:\n",
    "e = {i for i in range(1,11) if i%2==0}\n",
    "print(e)"
   ]
  },
  {
   "cell_type": "code",
   "execution_count": 2,
   "id": "d6a213c1-74c2-465f-b7a7-0554f04d0ce7",
   "metadata": {},
   "outputs": [
    {
     "name": "stdout",
     "output_type": "stream",
     "text": [
      "{1, 3, 5, 7, 9}\n"
     ]
    }
   ],
   "source": [
    "# Question Number 8:\n",
    "a = {i for i in range(1,11) if i%2!=0}\n",
    "print(a)"
   ]
  },
  {
   "cell_type": "code",
   "execution_count": 4,
   "id": "b4979dc8-d107-4ca3-b446-5c57068e512f",
   "metadata": {},
   "outputs": [
    {
     "name": "stdout",
     "output_type": "stream",
     "text": [
      "{1, 2, 3, 4, 5, 6, 7, 8}\n"
     ]
    }
   ],
   "source": [
    "# Question Number 9:\n",
    "a = {1,2,3,4}\n",
    "b = {5,6,7,8}\n",
    "union_set = a.union(b)\n",
    "print(union_set)"
   ]
  },
  {
   "cell_type": "code",
   "execution_count": 5,
   "id": "35d75bb7-9b38-4bec-84cc-52baf8aaf089",
   "metadata": {},
   "outputs": [
    {
     "name": "stdout",
     "output_type": "stream",
     "text": [
      "{3, 4}\n"
     ]
    }
   ],
   "source": [
    "# Question Number 10:\n",
    "a = {1,2,3,4}\n",
    "b = {3,4,5,6}\n",
    "intersection = a.intersection(b)\n",
    "print(intersection)"
   ]
  },
  {
   "cell_type": "code",
   "execution_count": 6,
   "id": "49b6da3a-5da1-48a2-9bb7-1e54c143c0b1",
   "metadata": {},
   "outputs": [
    {
     "name": "stdout",
     "output_type": "stream",
     "text": [
      "{3, 4, 5}\n"
     ]
    }
   ],
   "source": [
    "# Question Number 11:\n",
    "a = {1,2,3,4,5}\n",
    "b = {1,2,6,7,8}\n",
    "difference_set = a.difference(b)\n",
    "print(difference_set)"
   ]
  },
  {
   "cell_type": "code",
   "execution_count": 8,
   "id": "0b858bb4-1c79-4b0b-b7f9-54340ef53de8",
   "metadata": {},
   "outputs": [
    {
     "name": "stdout",
     "output_type": "stream",
     "text": [
      "True\n"
     ]
    }
   ],
   "source": [
    "# Question Number 12:\n",
    "a = {1,2}\n",
    "b = {1,2,8,9}\n",
    "subset_of_sets = a.issubset(b)\n",
    "print(subset_of_sets)"
   ]
  },
  {
   "cell_type": "code",
   "execution_count": 9,
   "id": "206d00ce-033f-4182-8676-2470ab2163ef",
   "metadata": {},
   "outputs": [
    {
     "name": "stdout",
     "output_type": "stream",
     "text": [
      "True\n"
     ]
    }
   ],
   "source": [
    "# Question Number 13:\n",
    "a = {1,2,3,4,5}\n",
    "b = {1,2}\n",
    "superset_of_sets = a.issuperset(b)\n",
    "print(superset_of_sets)"
   ]
  },
  {
   "cell_type": "code",
   "execution_count": 10,
   "id": "77c753b2-d635-46a0-b67f-20dee6a69ef4",
   "metadata": {},
   "outputs": [
    {
     "name": "stdout",
     "output_type": "stream",
     "text": [
      "{1, 2, 3, 4, 5}\n"
     ]
    }
   ],
   "source": [
    "# Question Number 14:\n",
    "l = [1,2,3,4,5]\n",
    "set = set(l)\n",
    "print(set)"
   ]
  },
  {
   "cell_type": "code",
   "execution_count": 11,
   "id": "87bc5723-30db-4cf9-bd48-6c2142207ead",
   "metadata": {},
   "outputs": [
    {
     "name": "stdout",
     "output_type": "stream",
     "text": [
      "[1, 2, 3, 4, 5]\n"
     ]
    }
   ],
   "source": [
    "# Question Number 15:\n",
    "s = {1,2,3,4,5}\n",
    "list = list(s)\n",
    "print(list)"
   ]
  },
  {
   "cell_type": "code",
   "execution_count": 28,
   "id": "8df86e3e-9c4b-4b11-b183-ce1be4020974",
   "metadata": {},
   "outputs": [
    {
     "data": {
      "text/plain": [
       "{1, 2, 3, 4, 5, 7, 8, 9}"
      ]
     },
     "execution_count": 28,
     "metadata": {},
     "output_type": "execute_result"
    }
   ],
   "source": [
    "# Question Number 16 :\n",
    "e = {1,2,3,4,5,6,7,8,9}\n",
    "e.remove(random.randint(0,len(e)))\n",
    "e"
   ]
  },
  {
   "cell_type": "code",
   "execution_count": 20,
   "id": "cf212d6f-cbcc-4776-856e-72a1a5633d37",
   "metadata": {},
   "outputs": [
    {
     "name": "stdout",
     "output_type": "stream",
     "text": [
      "pop the element:1\n",
      "updated set:{2, 3, 4, 5}\n"
     ]
    }
   ],
   "source": [
    "# Question Number 17:\n",
    "a = {1,2,3,4,5}\n",
    "pop_the_element = a.pop()\n",
    "print(f\"pop the element:{pop_the_element}\")\n",
    "print(f\"updated set:{a}\")"
   ]
  },
  {
   "cell_type": "code",
   "execution_count": 35,
   "id": "d090fffc-fc94-4031-92e8-31c6c5a3037a",
   "metadata": {},
   "outputs": [
    {
     "name": "stdout",
     "output_type": "stream",
     "text": [
      "False no common element occur into given sets\n",
      "False no common element occur into given sets\n",
      "False no common element occur into given sets\n",
      "False no common element occur into given sets\n"
     ]
    }
   ],
   "source": [
    "# Question Number 18:\n",
    "a = {1,2,3,4}\n",
    "b = {5,6,7,8}\n",
    "for i in b:\n",
    "    if i in a:\n",
    "        print(True , \"yes common element occur into given sets\")\n",
    "    else:\n",
    "        print(False , \"no common element occur into given sets\")"
   ]
  },
  {
   "cell_type": "code",
   "execution_count": 38,
   "id": "afd3719d-f740-4177-8162-2db33a313499",
   "metadata": {},
   "outputs": [
    {
     "name": "stdout",
     "output_type": "stream",
     "text": [
      "True\n"
     ]
    }
   ],
   "source": [
    "# or question Number 18:\n",
    "a = {1,2,3,4}\n",
    "b = {5,7,8,9}\n",
    "common_element = a.isdisjoint(b)\n",
    "print(common_element)"
   ]
  },
  {
   "cell_type": "code",
   "execution_count": 41,
   "id": "1d55ff47-41f9-423b-ac0d-0ec71c3e69b3",
   "metadata": {},
   "outputs": [
    {
     "name": "stdout",
     "output_type": "stream",
     "text": [
      "{1, 2, 5, 7, 8, 9}\n"
     ]
    }
   ],
   "source": [
    "# Question Number 19:\n",
    "a = {1,2,3,4,5}\n",
    "b = {3,4,7,8,9}\n",
    "symmetric_difference = a.symmetric_difference(b)\n",
    "print(symmetric_difference)"
   ]
  },
  {
   "cell_type": "code",
   "execution_count": 44,
   "id": "6b4e76c4-cbae-484c-b214-838d0b48c1bd",
   "metadata": {},
   "outputs": [
    {
     "name": "stdout",
     "output_type": "stream",
     "text": [
      "{1, 2, 3, 4, 5, 6, 7, 8}\n"
     ]
    }
   ],
   "source": [
    "# Question Number 20:\n",
    "a = {1,2,3,4}\n",
    "b = {1,2,5,6,7,8}\n",
    "update_set = a.update(b)\n",
    "print(a)"
   ]
  },
  {
   "cell_type": "code",
   "execution_count": 45,
   "id": "a35295b5-9408-4730-a82b-a0037dff41c3",
   "metadata": {},
   "outputs": [
    {
     "name": "stdout",
     "output_type": "stream",
     "text": [
      "yes,its identical\n"
     ]
    }
   ],
   "source": [
    "# Question Number 22:\n",
    "a = {1,2,3,4}\n",
    "b = {1,2,3,4}\n",
    "if a==b:\n",
    "    print('yes,its identical')\n",
    "else:\n",
    "    print('no,its not identical')"
   ]
  },
  {
   "cell_type": "code",
   "execution_count": 49,
   "id": "4660fc56-c7b6-4678-9e70-e204bab358d3",
   "metadata": {},
   "outputs": [
    {
     "name": "stdout",
     "output_type": "stream",
     "text": [
      "frozenset({1, 2, 3, 4, 5})\n"
     ]
    }
   ],
   "source": [
    "# Question Number 23:\n",
    "a = {1,2,3,4,5}\n",
    "b = frozenset(a)\n",
    "print(b)"
   ]
  },
  {
   "cell_type": "code",
   "execution_count": 51,
   "id": "8bc7c7dd-6aa6-4db6-909a-ce8f0a3992f1",
   "metadata": {},
   "outputs": [
    {
     "name": "stdout",
     "output_type": "stream",
     "text": [
      "yes , this set is disjoint\n"
     ]
    }
   ],
   "source": [
    "# Question Number 24:\n",
    "a = {1,2,3,4}\n",
    "b = {9,5,6,7}\n",
    "disjoint = a.isdisjoint(b)\n",
    "if disjoint==True:\n",
    "    print('yes , this set is disjoint')\n",
    "else:\n",
    "    print('no , this set is not disjoint')"
   ]
  },
  {
   "cell_type": "code",
   "execution_count": 52,
   "id": "1ef927f2-838e-4c03-84b8-755e6f2ba2e2",
   "metadata": {},
   "outputs": [
    {
     "name": "stdout",
     "output_type": "stream",
     "text": [
      "{1, 4, 9, 16, 25}\n"
     ]
    }
   ],
   "source": [
    "# Question Number 25:\n",
    "a = {i**2 for i in range(1,6)}\n",
    "print(a)"
   ]
  },
  {
   "cell_type": "code",
   "execution_count": 53,
   "id": "f6ed09fd-f451-40fa-ba34-afc9c88f5e33",
   "metadata": {},
   "outputs": [
    {
     "name": "stdout",
     "output_type": "stream",
     "text": [
      "{8, 2, 4, 6}\n"
     ]
    }
   ],
   "source": [
    "# Question Number 26:\n",
    "a = {1,2,3,4,5,6,7,8,9}\n",
    "even_no = {i for i in a if i%2==0}\n",
    "print(even_no)"
   ]
  },
  {
   "cell_type": "code",
   "execution_count": 54,
   "id": "e4ae8123-a291-440c-9e87-e44da6574699",
   "metadata": {},
   "outputs": [
    {
     "name": "stdout",
     "output_type": "stream",
     "text": [
      "{2, 4, 6, 8, 10}\n"
     ]
    }
   ],
   "source": [
    "# Question Number 27:\n",
    "a = {1,2,3,4,5}\n",
    "multiply_by_2 = {i*2 for i in a}\n",
    "print(multiply_by_2)"
   ]
  },
  {
   "cell_type": "code",
   "execution_count": 60,
   "id": "338a15c8-bfde-4d05-9d58-2d1be16083cc",
   "metadata": {},
   "outputs": [
    {
     "name": "stdout",
     "output_type": "stream",
     "text": [
      "{36, 38, 50, 26, 31}\n"
     ]
    }
   ],
   "source": [
    "# Question Number 28:\n",
    "import random\n",
    "r = {random.randint(1,51) for i in range(5)}\n",
    "print(r)"
   ]
  },
  {
   "cell_type": "code",
   "execution_count": 55,
   "id": "421ed264-e767-4982-8a4e-b528b8ac65ff",
   "metadata": {},
   "outputs": [
    {
     "name": "stdout",
     "output_type": "stream",
     "text": [
      "given set is empty\n"
     ]
    }
   ],
   "source": [
    "# Question Number 29:\n",
    "a = {}\n",
    "if len(a)==0:\n",
    "    print('given set is empty')\n",
    "else:\n",
    "    print('given set is not empty')"
   ]
  },
  {
   "cell_type": "code",
   "execution_count": 59,
   "id": "46ceaa18-59b6-4d8b-85f0-3f54290be097",
   "metadata": {},
   "outputs": [
    {
     "data": {
      "text/plain": [
       "{1, 3, 4, 5}"
      ]
     },
     "execution_count": 59,
     "metadata": {},
     "output_type": "execute_result"
    }
   ],
   "source": [
    "# Question Number 31:\n",
    "a = {1,2,3,4,5}\n",
    "a.discard(2)\n",
    "a"
   ]
  },
  {
   "cell_type": "code",
   "execution_count": 60,
   "id": "432d4bc1-50db-4fbe-bcd0-42bc3288df6b",
   "metadata": {},
   "outputs": [
    {
     "name": "stdout",
     "output_type": "stream",
     "text": [
      "yes , given sets are equal\n"
     ]
    }
   ],
   "source": [
    "# Question Number 32:\n",
    "a = {1,2,3,4,5}\n",
    "b = {1,2,3,4,5}\n",
    "if a==b:\n",
    "    print('yes , given sets are equal')\n",
    "else:\n",
    "    print('no , given sets are not equal')"
   ]
  },
  {
   "cell_type": "code",
   "execution_count": 1,
   "id": "67b080cf-ca5d-4299-ba37-d5c255c910e9",
   "metadata": {},
   "outputs": [
    {
     "name": "stdout",
     "output_type": "stream",
     "text": [
      "{'h', 'l', 'o', 'e'}\n"
     ]
    }
   ],
   "source": [
    "# Question Number 33:\n",
    "a = \"hello\"\n",
    "b = set(a)\n",
    "print(b)"
   ]
  },
  {
   "cell_type": "code",
   "execution_count": 2,
   "id": "729599a2-85bd-414b-b6e2-d2dc56fa8246",
   "metadata": {},
   "outputs": [
    {
     "name": "stdout",
     "output_type": "stream",
     "text": [
      "{1, 2, 3, 4}\n"
     ]
    }
   ],
   "source": [
    "# Question Number 34:\n",
    "a = {'1','2','3','4'}\n",
    "int = {int(i) for i in a}\n",
    "print(int)"
   ]
  },
  {
   "cell_type": "code",
   "execution_count": 66,
   "id": "f9b034ff-71c7-48de-a369-b5c160607525",
   "metadata": {},
   "outputs": [
    {
     "name": "stdout",
     "output_type": "stream",
     "text": [
      "{'2', '4', '3', '5', '1'}\n"
     ]
    }
   ],
   "source": [
    "# Question Number 35:\n",
    "a = {1,2,3,4,5}\n",
    "string = {str(i) for i in a}\n",
    "print(string)"
   ]
  },
  {
   "cell_type": "code",
   "execution_count": 3,
   "id": "4a84addb-2879-4fb6-a2fa-7b0015c6a62e",
   "metadata": {},
   "outputs": [
    {
     "name": "stdout",
     "output_type": "stream",
     "text": [
      "{1, 2, 3, 4, 5}\n"
     ]
    }
   ],
   "source": [
    "# Question Number 36:\n",
    "t =  (1,2,3,4,5)\n",
    "s = set(t)\n",
    "print(s)"
   ]
  },
  {
   "cell_type": "code",
   "execution_count": 17,
   "id": "8408910b-2060-4535-a8d3-762b78d31064",
   "metadata": {},
   "outputs": [
    {
     "name": "stdout",
     "output_type": "stream",
     "text": [
      "(1, 2, 3, 4, 5)\n"
     ]
    }
   ],
   "source": [
    "# Question Numbr 37:\n",
    "s = {1,2,3,4,5}\n",
    "t = tuple(s)\n",
    "print(t)"
   ]
  },
  {
   "cell_type": "code",
   "execution_count": 6,
   "id": "bb4fdd16-e98d-49b1-8b8a-f1b9b68412d9",
   "metadata": {},
   "outputs": [
    {
     "name": "stdout",
     "output_type": "stream",
     "text": [
      "78\n"
     ]
    }
   ],
   "source": [
    "# Question Number 38:\n",
    "a = {1,2,5,6,3,4,78}\n",
    "b = max(a)\n",
    "print(b)"
   ]
  },
  {
   "cell_type": "code",
   "execution_count": 24,
   "id": "0d1daebe-fdb9-4634-9f38-a4a4a2d054c2",
   "metadata": {},
   "outputs": [
    {
     "name": "stdout",
     "output_type": "stream",
     "text": [
      "1\n"
     ]
    }
   ],
   "source": [
    "# Question Number 39:\n",
    "a = {1,2,3,4,5,6,7}\n",
    "b = min(a)\n",
    "print(b)"
   ]
  },
  {
   "cell_type": "code",
   "execution_count": 3,
   "id": "36d7a6e5-4e7f-4032-8051-8d16f1b6ab1b",
   "metadata": {},
   "outputs": [
    {
     "name": "stdin",
     "output_type": "stream",
     "text": [
      "enter the elements of set by space seprated 1 2 3 4 5\n"
     ]
    },
    {
     "name": "stdout",
     "output_type": "stream",
     "text": [
      "{'2', '4', '1', '5', '3'}\n"
     ]
    }
   ],
   "source": [
    "# Question Number 40:\n",
    "a = input('enter the elements of set by space seprated')\n",
    "l = a.split( )\n",
    "set = set(l)\n",
    "print(set)"
   ]
  },
  {
   "cell_type": "code",
   "execution_count": 111,
   "id": "9725cf28-8b53-422e-973a-9729acff48fe",
   "metadata": {},
   "outputs": [
    {
     "name": "stdout",
     "output_type": "stream",
     "text": [
      "False\n"
     ]
    }
   ],
   "source": [
    "# Question Number 41:\n",
    "a = {1,2,3}\n",
    "b = {4,5,6}\n",
    "intersection = a.intersection(b)\n",
    "if intersection=={}:\n",
    "    print(True)\n",
    "else:\n",
    "    print(False)"
   ]
  },
  {
   "cell_type": "code",
   "execution_count": 2,
   "id": "2da7c3e2-d0f2-47c3-865b-368b16a556dc",
   "metadata": {},
   "outputs": [
    {
     "name": "stdout",
     "output_type": "stream",
     "text": [
      "unique list is: [1, 2, 3, 4, 5]\n"
     ]
    }
   ],
   "source": [
    "# Question Number 43:\n",
    "l = [1,2,3,4,2,3,5]\n",
    "s = list(set(l))\n",
    "print('unique list is:',s)"
   ]
  },
  {
   "cell_type": "code",
   "execution_count": 79,
   "id": "63d11bfa-36e9-42a6-a0f0-d9f53804f5bc",
   "metadata": {},
   "outputs": [
    {
     "name": "stdout",
     "output_type": "stream",
     "text": [
      "Yes , sets have the same element\n"
     ]
    }
   ],
   "source": [
    "# Question Number 44:\n",
    "a = {1,2,3,4}\n",
    "b = {1,2,3,4}\n",
    "if a==b:\n",
    "    print('Yes , sets have the same element')\n",
    "else:\n",
    "    print('No , sets have not same element')"
   ]
  },
  {
   "cell_type": "code",
   "execution_count": 88,
   "id": "eea7f5a9-0fb4-4806-9244-b6c8a9df8deb",
   "metadata": {},
   "outputs": [
    {
     "name": "stdout",
     "output_type": "stream",
     "text": [
      "{32, 64, 2, 128, 4, 256, 512, 1024, 8, 16}\n"
     ]
    }
   ],
   "source": [
    "# Question Number 45:\n",
    "a = {2**n for n in range(1,11)}\n",
    "print(a)"
   ]
  },
  {
   "cell_type": "code",
   "execution_count": 1,
   "id": "15e77d99-3e06-4871-9053-22b2ff79a7b4",
   "metadata": {},
   "outputs": [
    {
     "name": "stdout",
     "output_type": "stream",
     "text": [
      "{1, 2}\n"
     ]
    }
   ],
   "source": [
    "# Question Number 46:\n",
    "a = {1,2,3,4,5}\n",
    "b = [1,2,7,8,9]\n",
    "common_element = a.intersection(set(b))\n",
    "print(common_element)"
   ]
  },
  {
   "cell_type": "code",
   "execution_count": 90,
   "id": "0c1e6494-1518-4c93-9c29-d64cdb1e3b7b",
   "metadata": {},
   "outputs": [
    {
     "name": "stdout",
     "output_type": "stream",
     "text": [
      "True\n"
     ]
    }
   ],
   "source": [
    "# Question Number 48:\n",
    "a = {1,2,3,4,5,6,7,8,9,0}\n",
    "b = {5,6}\n",
    "if b.issubset(a):\n",
    "    print(True)\n",
    "else:\n",
    "    print(False)"
   ]
  },
  {
   "cell_type": "code",
   "execution_count": 100,
   "id": "2f1e4985-d15c-47a8-b2d3-220d4df00687",
   "metadata": {},
   "outputs": [
    {
     "name": "stdout",
     "output_type": "stream",
     "text": [
      "{0, 1}\n"
     ]
    }
   ],
   "source": [
    "# Question Number 49:\n",
    "alternating_set = {1 if i%2==0 else 0 for i in range(100)}\n",
    "print(alternating_set)"
   ]
  },
  {
   "cell_type": "code",
   "execution_count": 5,
   "id": "64514685-10cd-497a-9b3d-6339067e620d",
   "metadata": {},
   "outputs": [
    {
     "name": "stdout",
     "output_type": "stream",
     "text": [
      "{1, 2, 3, 4, 5, 6, 7, 8, 9}\n"
     ]
    }
   ],
   "source": [
    "# Question Number 50:\n",
    "a = {1,2,3}\n",
    "b = {4,5,6}\n",
    "c = {7,8,9}\n",
    "merge_sets = a.union(b,c)\n",
    "print(merge_sets)"
   ]
  },
  {
   "cell_type": "code",
   "execution_count": null,
   "id": "de16c790-49d9-4c4b-9f72-a47e05e73a3b",
   "metadata": {},
   "outputs": [],
   "source": []
  },
  {
   "cell_type": "code",
   "execution_count": null,
   "id": "c1964370-cb4e-4367-acbb-7fd431f51171",
   "metadata": {},
   "outputs": [],
   "source": []
  },
  {
   "cell_type": "code",
   "execution_count": null,
   "id": "8d4561de-6b3e-4437-875b-51c5ede35b14",
   "metadata": {},
   "outputs": [],
   "source": []
  },
  {
   "cell_type": "code",
   "execution_count": null,
   "id": "70078ecd-5bb8-44b4-880a-8774202a16c2",
   "metadata": {},
   "outputs": [],
   "source": []
  },
  {
   "cell_type": "code",
   "execution_count": null,
   "id": "952072ab-389f-43ae-8fb4-69184913a110",
   "metadata": {},
   "outputs": [],
   "source": []
  },
  {
   "cell_type": "code",
   "execution_count": null,
   "id": "bdd0a9bb-88fd-475f-9c46-b00b44773cea",
   "metadata": {},
   "outputs": [],
   "source": []
  }
 ],
 "metadata": {
  "kernelspec": {
   "display_name": "Python 3 (ipykernel)",
   "language": "python",
   "name": "python3"
  },
  "language_info": {
   "codemirror_mode": {
    "name": "ipython",
    "version": 3
   },
   "file_extension": ".py",
   "mimetype": "text/x-python",
   "name": "python",
   "nbconvert_exporter": "python",
   "pygments_lexer": "ipython3",
   "version": "3.11.5"
  }
 },
 "nbformat": 4,
 "nbformat_minor": 5
}
