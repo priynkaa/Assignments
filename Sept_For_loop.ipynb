{
 "cells": [
  {
   "cell_type": "markdown",
   "id": "77599fef-8068-48fd-b872-df7539453b10",
   "metadata": {},
   "source": [
    "### Basic Level Questions :"
   ]
  },
  {
   "cell_type": "code",
   "execution_count": 11,
   "id": "6c52480d-d5b0-4356-a5f4-a90e8124f6ce",
   "metadata": {},
   "outputs": [
    {
     "name": "stdout",
     "output_type": "stream",
     "text": [
      "1\n",
      "2\n",
      "3\n",
      "4\n",
      "5\n",
      "6\n",
      "7\n",
      "8\n",
      "9\n",
      "10\n"
     ]
    }
   ],
   "source": [
    "# Question Number 1:\n",
    "for i in range(1,11):\n",
    "    print(i)"
   ]
  },
  {
   "cell_type": "code",
   "execution_count": 14,
   "id": "576d28bf-42bc-4037-a4da-daa251baf27a",
   "metadata": {},
   "outputs": [
    {
     "name": "stdout",
     "output_type": "stream",
     "text": [
      "sum of list is: 1\n",
      "sum of list is: 3\n",
      "sum of list is: 6\n",
      "sum of list is: 10\n",
      "sum of list is: 15\n",
      "sum of list is: 21\n",
      "sum of list is: 28\n",
      "sum of list is: 36\n",
      "sum of list is: 45\n",
      "sum of list is: 55\n"
     ]
    }
   ],
   "source": [
    "# Question Number 2:\n",
    "l = [1,2,3,4,5,6,7,8,9,10]\n",
    "sum_list = 0\n",
    "for i in l:\n",
    "    sum_list+=i\n",
    "    print(\"sum of list is:\",sum_list)"
   ]
  },
  {
   "cell_type": "code",
   "execution_count": 23,
   "id": "45d08bbf-e62b-4083-8f65-3fffaac6b767",
   "metadata": {},
   "outputs": [
    {
     "name": "stdout",
     "output_type": "stream",
     "text": [
      "aknayirp ma i yeh"
     ]
    }
   ],
   "source": [
    "# Question Number 3:\n",
    "s = \"hey i am priyanka\"\n",
    "for i in reversed(s):\n",
    "    print(i,end='')"
   ]
  },
  {
   "cell_type": "code",
   "execution_count": 2,
   "id": "26a759d4-74a4-4feb-8c69-e08391bc34aa",
   "metadata": {},
   "outputs": [
    {
     "name": "stdout",
     "output_type": "stream",
     "text": [
      "5 * 1 = 5\n",
      "5 * 2 = 10\n",
      "5 * 3 = 15\n",
      "5 * 4 = 20\n",
      "5 * 5 = 25\n",
      "5 * 6 = 30\n",
      "5 * 7 = 35\n",
      "5 * 8 = 40\n",
      "5 * 9 = 45\n",
      "5 * 10 = 50\n"
     ]
    }
   ],
   "source": [
    "# Question Number 5:\n",
    "n = 5\n",
    "for i in range(1,11):\n",
    "    product = n*i\n",
    "    print(n,'*',i,'=',product)"
   ]
  },
  {
   "cell_type": "code",
   "execution_count": 10,
   "id": "0eaa441d-7c45-4411-82fb-71f0cf7492f8",
   "metadata": {},
   "outputs": [
    {
     "name": "stdout",
     "output_type": "stream",
     "text": [
      "(0, 1)\n"
     ]
    }
   ],
   "source": [
    "# Question Number 6:\n",
    "def count_even_odd(numbers):\n",
    "    even_count=0\n",
    "    odd_count=0\n",
    "    for i in numbers:\n",
    "        if i%2==0:\n",
    "            even_count+=1\n",
    "        else:\n",
    "            odd_count+=1\n",
    "            return even_count,odd_count\n",
    "\n",
    "print(count_even_odd([1,2,3,4,5,6,7,8,9]))"
   ]
  },
  {
   "cell_type": "code",
   "execution_count": 11,
   "id": "ded12061-bb37-42de-9ce7-804548897626",
   "metadata": {},
   "outputs": [
    {
     "name": "stdout",
     "output_type": "stream",
     "text": [
      "1\n",
      "4\n",
      "9\n",
      "16\n",
      "25\n"
     ]
    }
   ],
   "source": [
    "# Question Number 7:\n",
    "for i in range(1,6):\n",
    "    print(i**2)"
   ]
  },
  {
   "cell_type": "code",
   "execution_count": 1,
   "id": "58ec0ee5-1c7d-41c4-b51e-0a8ac5d7da47",
   "metadata": {},
   "outputs": [
    {
     "name": "stdout",
     "output_type": "stream",
     "text": [
      "17\n"
     ]
    }
   ],
   "source": [
    "# Question Number 8:\n",
    "s = \"hey i am priyanka\"\n",
    "length = 0\n",
    "for i in s:\n",
    "    length+=1\n",
    "\n",
    "print(length)"
   ]
  },
  {
   "cell_type": "code",
   "execution_count": 14,
   "id": "d41700cb-889a-47f3-86ab-5136e46c4385",
   "metadata": {},
   "outputs": [
    {
     "name": "stdout",
     "output_type": "stream",
     "text": [
      "3.0\n"
     ]
    }
   ],
   "source": [
    "# Question Number 9:\n",
    "l = [1,2,3,4,5]\n",
    "s = sum(l)\n",
    "for i in l:\n",
    "    average = s/len(l)\n",
    "\n",
    "print(average)"
   ]
  },
  {
   "cell_type": "code",
   "execution_count": 20,
   "id": "ade96714-2160-41f1-9075-b9a67fbd6240",
   "metadata": {},
   "outputs": [
    {
     "name": "stdout",
     "output_type": "stream",
     "text": [
      "[0, 1, 1, 2, 3]\n"
     ]
    }
   ],
   "source": [
    "# Question Number 10:\n",
    "n = 5\n",
    "f = [0,1]\n",
    "for i in range(2,n):\n",
    "    num = f[-1]+f[-2]\n",
    "    f.append(num)\n",
    "\n",
    "print(f)"
   ]
  },
  {
   "cell_type": "markdown",
   "id": "3cc86eae-8e21-4b03-b303-32217478b4b6",
   "metadata": {},
   "source": [
    "### intermediate level:"
   ]
  },
  {
   "cell_type": "code",
   "execution_count": 22,
   "id": "dbc0393a-3d62-464e-bec2-ffe5b5f3fe64",
   "metadata": {},
   "outputs": [
    {
     "name": "stdout",
     "output_type": "stream",
     "text": [
      "duplicates occur in given list\n"
     ]
    }
   ],
   "source": [
    "# Question Number 11:\n",
    "def duplicate_items(lst):\n",
    "    a = set()\n",
    "    for i in lst:\n",
    "        if i in a:\n",
    "            return \"No duplicates occur in given list\"\n",
    "        else:\n",
    "            return \"duplicates occur in given list\"\n",
    "\n",
    "print(duplicate_items([1,3,4,6,5,1,23,5,6,3,1,2,5]))"
   ]
  },
  {
   "cell_type": "code",
   "execution_count": 16,
   "id": "60714ed1-5c55-4259-b0f3-1e6fe6913f91",
   "metadata": {},
   "outputs": [
    {
     "name": "stdout",
     "output_type": "stream",
     "text": [
      "11\n",
      "13\n",
      "17\n",
      "19\n"
     ]
    }
   ],
   "source": [
    "# Question Number 12:\n",
    "def prime_numbers(start,end):\n",
    "    for num in range(start,end+1):\n",
    "        if num>1:\n",
    "            for i in range(2,num):\n",
    "                if (num%i)==0:\n",
    "                    break\n",
    "            else:\n",
    "                print(num)\n",
    "\n",
    "prime_numbers(10,20)"
   ]
  },
  {
   "cell_type": "code",
   "execution_count": 17,
   "id": "07fd6c32-9b6a-4b43-8643-d94fa9dc5fac",
   "metadata": {},
   "outputs": [
    {
     "name": "stdout",
     "output_type": "stream",
     "text": [
      "the num of vowels in given string is : 6\n"
     ]
    }
   ],
   "source": [
    "# Question Number 13:\n",
    "def count_vowels(input_string):\n",
    "    vowels = \"aeiouAEIOU\"\n",
    "    count = 0\n",
    "    for q in input_string:\n",
    "        if q in vowels:\n",
    "            count+=1\n",
    "    return count\n",
    "\n",
    "result = count_vowels(\"hey i am priyanka\")\n",
    "print(f\"the num of vowels in given string is : {result}\")"
   ]
  },
  {
   "cell_type": "code",
   "execution_count": 21,
   "id": "b2a9582f-8fb8-4277-ae0e-235905df7044",
   "metadata": {},
   "outputs": [
    {
     "name": "stdout",
     "output_type": "stream",
     "text": [
      "[1, 2, 3, 4, 6, 7, 8, 9]\n"
     ]
    }
   ],
   "source": [
    "# Question Number 15:\n",
    "def remove_specific_element(lst,element):\n",
    "    new_list = []\n",
    "    for i in lst:\n",
    "        if i!=element:\n",
    "            new_list.append(i)\n",
    "    return new_list\n",
    "\n",
    "print(remove_specific_element([1,2,3,4,5,6,7,8,9],5))"
   ]
  },
  {
   "cell_type": "code",
   "execution_count": 1,
   "id": "0fb4e49e-3924-41ef-a507-810dd757c2a0",
   "metadata": {},
   "outputs": [
    {
     "name": "stdout",
     "output_type": "stream",
     "text": [
      "1 * 1 = 1\n",
      "1 * 2 = 2\n",
      "1 * 3 = 3\n",
      "1 * 4 = 4\n",
      "1 * 5 = 5\n",
      "1 * 6 = 6\n",
      "1 * 7 = 7\n",
      "1 * 8 = 8\n",
      "1 * 9 = 9\n",
      "1 * 10 = 10\n",
      "2 * 1 = 2\n",
      "2 * 2 = 4\n",
      "2 * 3 = 6\n",
      "2 * 4 = 8\n",
      "2 * 5 = 10\n",
      "2 * 6 = 12\n",
      "2 * 7 = 14\n",
      "2 * 8 = 16\n",
      "2 * 9 = 18\n",
      "2 * 10 = 20\n",
      "3 * 1 = 3\n",
      "3 * 2 = 6\n",
      "3 * 3 = 9\n",
      "3 * 4 = 12\n",
      "3 * 5 = 15\n",
      "3 * 6 = 18\n",
      "3 * 7 = 21\n",
      "3 * 8 = 24\n",
      "3 * 9 = 27\n",
      "3 * 10 = 30\n",
      "4 * 1 = 4\n",
      "4 * 2 = 8\n",
      "4 * 3 = 12\n",
      "4 * 4 = 16\n",
      "4 * 5 = 20\n",
      "4 * 6 = 24\n",
      "4 * 7 = 28\n",
      "4 * 8 = 32\n",
      "4 * 9 = 36\n",
      "4 * 10 = 40\n",
      "5 * 1 = 5\n",
      "5 * 2 = 10\n",
      "5 * 3 = 15\n",
      "5 * 4 = 20\n",
      "5 * 5 = 25\n",
      "5 * 6 = 30\n",
      "5 * 7 = 35\n",
      "5 * 8 = 40\n",
      "5 * 9 = 45\n",
      "5 * 10 = 50\n"
     ]
    }
   ],
   "source": [
    "# Question Number 16:\n",
    "for i in range(1,6):\n",
    "    for j in range(1,11):\n",
    "        product = i*j\n",
    "        print(i,'*',j,'=',product)"
   ]
  },
  {
   "cell_type": "code",
   "execution_count": 3,
   "id": "1e2512b1-d0ae-4389-9512-5521b86cb9c5",
   "metadata": {},
   "outputs": [
    {
     "ename": "TypeError",
     "evalue": "can't multiply sequence by non-int of type 'float'",
     "output_type": "error",
     "traceback": [
      "\u001b[1;31m---------------------------------------------------------------------------\u001b[0m",
      "\u001b[1;31mTypeError\u001b[0m                                 Traceback (most recent call last)",
      "Cell \u001b[1;32mIn[3], line 4\u001b[0m\n\u001b[0;32m      2\u001b[0m F \u001b[38;5;241m=\u001b[39m [\u001b[38;5;241m247\u001b[39m,\u001b[38;5;241m156\u001b[39m,\u001b[38;5;241m358\u001b[39m,\u001b[38;5;241m273\u001b[39m,\u001b[38;5;241m453\u001b[39m]\n\u001b[0;32m      3\u001b[0m \u001b[38;5;28;01mfor\u001b[39;00m C \u001b[38;5;129;01min\u001b[39;00m F:\n\u001b[1;32m----> 4\u001b[0m     C \u001b[38;5;241m=\u001b[39m \u001b[43m(\u001b[49m\u001b[38;5;241;43m5\u001b[39;49m\u001b[38;5;241;43m/\u001b[39;49m\u001b[38;5;241;43m9\u001b[39;49m\u001b[43m)\u001b[49m\u001b[38;5;241;43m*\u001b[39;49m\u001b[43mF\u001b[49m\u001b[38;5;241m-\u001b[39m\u001b[38;5;241m32\u001b[39m\n\u001b[0;32m      6\u001b[0m \u001b[38;5;28mprint\u001b[39m(C)\n",
      "\u001b[1;31mTypeError\u001b[0m: can't multiply sequence by non-int of type 'float'"
     ]
    }
   ],
   "source": [
    "# Question Number 17:\n",
    "F = [247,156,358,273,453]\n",
    "for C in F:\n",
    "    C = (5/9)*F-32\n",
    "\n",
    "print(C)"
   ]
  },
  {
   "cell_type": "code",
   "execution_count": 1,
   "id": "d6c4f6ce-077b-4fd2-966c-e4d3005f30f4",
   "metadata": {},
   "outputs": [
    {
     "name": "stdout",
     "output_type": "stream",
     "text": [
      "common elements is: [1, 2, 5, 8, 9, 5, 6]\n"
     ]
    }
   ],
   "source": [
    "# Question Number 18:\n",
    "a = [1,2,5,8,9,4,5,6,7]\n",
    "b = [3,6,9,0,1,2,8,5,3]\n",
    "common_elements = []\n",
    "for i in a:\n",
    "    if i in b:\n",
    "        common_elements.append(i)\n",
    "\n",
    "print('common elements is:',common_elements)"
   ]
  },
  {
   "cell_type": "code",
   "execution_count": 15,
   "id": "c78fcc49-4051-413d-8f18-6929db61233e",
   "metadata": {},
   "outputs": [
    {
     "name": "stdout",
     "output_type": "stream",
     "text": [
      "* \n",
      "* * \n",
      "* * * \n",
      "* * * * \n",
      "* * * * * \n"
     ]
    }
   ],
   "source": [
    "# Question Number 19:\n",
    "for i in range(5):\n",
    "    for j in range(i+1):\n",
    "        print(\"*\",end=' ')\n",
    "    print()"
   ]
  },
  {
   "cell_type": "code",
   "execution_count": 39,
   "id": "56616ee6-8e0d-48c6-ab3f-b580190f966b",
   "metadata": {},
   "outputs": [
    {
     "name": "stdout",
     "output_type": "stream",
     "text": [
      "6\n"
     ]
    }
   ],
   "source": [
    "# Question Number 20:\n",
    "def find_gcd(a,b):\n",
    "    if b>a:\n",
    "        a,b=b,a\n",
    "    for i in range(b,0,-1):\n",
    "        if (a%i==0) and (b%i==0):\n",
    "            return i\n",
    "\n",
    "print(find_gcd(48,18))"
   ]
  },
  {
   "cell_type": "markdown",
   "id": "1690c9db-6195-44cd-8728-b520e14bb72c",
   "metadata": {},
   "source": [
    "### Advance Level:"
   ]
  },
  {
   "cell_type": "code",
   "execution_count": 8,
   "id": "26a74609-7062-443b-938e-08f97f9394f4",
   "metadata": {},
   "outputs": [
    {
     "name": "stdout",
     "output_type": "stream",
     "text": [
      "[6, 15, 24]\n"
     ]
    }
   ],
   "source": [
    "# Question Number 21:\n",
    "def sum_of_digit(numbers):\n",
    "    return [sum(int(digit) for digit in str(num)) for num in numbers]\n",
    "\n",
    "print(sum_of_digit([123,456,789]))"
   ]
  },
  {
   "cell_type": "code",
   "execution_count": 21,
   "id": "54c07eba-cc10-4c05-baef-d9337375425c",
   "metadata": {},
   "outputs": [
    {
     "name": "stdout",
     "output_type": "stream",
     "text": [
      "[3, 7]\n"
     ]
    }
   ],
   "source": [
    "# Question Number 22:\n",
    "def prime_factors(n):\n",
    "    return [i for i in range(2,n+1) if n%i==0 and all(i%j!=0 for j in range(2,int(i**0.5)+1))]\n",
    "\n",
    "print(prime_factors(21))"
   ]
  },
  {
   "cell_type": "code",
   "execution_count": 24,
   "id": "73592c7a-4225-4cc9-bdf7-9907e2f8cdfb",
   "metadata": {},
   "outputs": [
    {
     "name": "stdout",
     "output_type": "stream",
     "text": [
      "[1, 2, 3, 5, 7, 9, 8, 4]\n"
     ]
    }
   ],
   "source": [
    "# Question Number 23:\n",
    "l = [1,2,3,2,5,7,9,8,3,5,7,9,2,5,5,4,7,5]\n",
    "unique_element = []\n",
    "a = [unique_element.append(i) for i in l if i not in unique_element]\n",
    "print(unique_element)"
   ]
  },
  {
   "cell_type": "code",
   "execution_count": 26,
   "id": "a1920c16-053b-47bd-ac8e-2af41509d3ba",
   "metadata": {},
   "outputs": [
    {
     "name": "stdout",
     "output_type": "stream",
     "text": [
      "[1, 2, 3, 4, 5, 6, 7, 8, 9, 11, 22, 33, 44, 55, 66, 77, 88, 99]\n"
     ]
    }
   ],
   "source": [
    "# Question Number 24:\n",
    "def list_pallindrome(start,end):\n",
    "    return [i for i in range(start,end+1) if str(i)==str(i)[::-1]]\n",
    "\n",
    "print(list_pallindrome(1,100))"
   ]
  },
  {
   "cell_type": "code",
   "execution_count": 33,
   "id": "707a5e85-7d0e-4f2a-aa54-cff302d2344d",
   "metadata": {},
   "outputs": [
    {
     "name": "stdout",
     "output_type": "stream",
     "text": [
      "sum of even numbers: 30\n",
      "sum of odd numbers: 25\n"
     ]
    }
   ],
   "source": [
    "# Question Number 26:\n",
    "num = [1,2,3,4,5,6,7,8,9,10]\n",
    "sum_even = sum([i for i in num if i%2==0])\n",
    "sum_odd = sum([i for i in num if i%2!=0])\n",
    "print('sum of even numbers:',sum_even)\n",
    "print('sum of odd numbers:',sum_odd)"
   ]
  },
  {
   "cell_type": "code",
   "execution_count": 34,
   "id": "f61237f4-b791-45ad-b80a-ba15e66de2e6",
   "metadata": {},
   "outputs": [
    {
     "name": "stdout",
     "output_type": "stream",
     "text": [
      "[1, 9, 25, 49, 81]\n"
     ]
    }
   ],
   "source": [
    "# Question Numbr 27:\n",
    "a = [i**2 for i in range(1,11) if i%2!=0]\n",
    "print(a)"
   ]
  },
  {
   "cell_type": "code",
   "execution_count": 39,
   "id": "fd3a4982-16d4-4f12-9bc7-9ba2ad6d5bd7",
   "metadata": {},
   "outputs": [
    {
     "name": "stdout",
     "output_type": "stream",
     "text": [
      "{'a': 1, 'b': 2, 'c': 3}\n"
     ]
    }
   ],
   "source": [
    "# Question Number 28:\n",
    "a = ['a','b','c']\n",
    "b = [1,2,3]\n",
    "combine_list = {a[i]:b[i] for i in range(min(len(a),len(b)))}\n",
    "print(combine_list)"
   ]
  },
  {
   "cell_type": "code",
   "execution_count": 16,
   "id": "48d14c25-333c-44ad-ae52-354f49093946",
   "metadata": {},
   "outputs": [
    {
     "name": "stdout",
     "output_type": "stream",
     "text": [
      "['e', 'a', 'i', 'o', 'u', 'a', 'e']\n"
     ]
    }
   ],
   "source": [
    "# Question Number 29:\n",
    "def extract_vowels(str):\n",
    "    vowels = ['a','e','i','o','u']\n",
    "    return [i for i in str if i.lower() in vowels]\n",
    "\n",
    "print(extract_vowels('hey what is your name'))"
   ]
  },
  {
   "cell_type": "code",
   "execution_count": 22,
   "id": "6a62fef6-9357-47ee-922f-7ac4e9888cb8",
   "metadata": {},
   "outputs": [
    {
     "name": "stdout",
     "output_type": "stream",
     "text": [
      "['123', '456', '789']\n"
     ]
    }
   ],
   "source": [
    "# Question Number 30:\n",
    "l = ['abc123','456def','g78h9i']\n",
    "a = [''.join(i for i in str if i.isdigit()) for str in l]\n",
    "print(a)"
   ]
  },
  {
   "cell_type": "markdown",
   "id": "c877f123-74f3-4c21-bcea-28a2dc5eb1f6",
   "metadata": {},
   "source": [
    "### Challenge level:"
   ]
  },
  {
   "cell_type": "code",
   "execution_count": null,
   "id": "8403304b-7dd6-4cab-83f6-2b11b89f5b87",
   "metadata": {},
   "outputs": [],
   "source": [
    "# Question Number 31:\n"
   ]
  },
  {
   "cell_type": "code",
   "execution_count": null,
   "id": "a3602d6e-35d0-4bd1-a3fa-860e600cfda0",
   "metadata": {},
   "outputs": [],
   "source": []
  },
  {
   "cell_type": "code",
   "execution_count": null,
   "id": "70dd93a8-c99e-417b-9a9e-dbd2479b3845",
   "metadata": {},
   "outputs": [],
   "source": []
  },
  {
   "cell_type": "code",
   "execution_count": null,
   "id": "1dce8a77-6a42-433c-ad18-7343ba8c2f5b",
   "metadata": {},
   "outputs": [],
   "source": []
  },
  {
   "cell_type": "code",
   "execution_count": null,
   "id": "2b0e1119-8765-4c2d-b229-7c7dd70d5f92",
   "metadata": {},
   "outputs": [],
   "source": []
  },
  {
   "cell_type": "code",
   "execution_count": null,
   "id": "3dd3e5d6-3276-43ca-8e55-90e20ff80324",
   "metadata": {},
   "outputs": [],
   "source": []
  },
  {
   "cell_type": "code",
   "execution_count": null,
   "id": "32ae07e8-42ca-454b-b47b-7192568429e0",
   "metadata": {},
   "outputs": [],
   "source": []
  },
  {
   "cell_type": "code",
   "execution_count": null,
   "id": "f0cad960-9caa-44b1-bfce-0487cfdf565e",
   "metadata": {},
   "outputs": [],
   "source": []
  },
  {
   "cell_type": "code",
   "execution_count": null,
   "id": "28fd5227-3f2d-478b-a4b4-394b0fe095aa",
   "metadata": {},
   "outputs": [],
   "source": []
  },
  {
   "cell_type": "code",
   "execution_count": null,
   "id": "fc8e6ca6-a95d-42b8-85c3-26dcadaac5b2",
   "metadata": {},
   "outputs": [],
   "source": []
  },
  {
   "cell_type": "code",
   "execution_count": null,
   "id": "f71f3251-ab20-4c9f-92eb-06a1470fdd53",
   "metadata": {},
   "outputs": [],
   "source": []
  },
  {
   "cell_type": "code",
   "execution_count": null,
   "id": "21cb7713-db45-4dba-b9fe-0722c3669b4d",
   "metadata": {},
   "outputs": [],
   "source": []
  },
  {
   "cell_type": "code",
   "execution_count": null,
   "id": "cbe4be20-af52-47af-b324-206972359873",
   "metadata": {},
   "outputs": [],
   "source": []
  },
  {
   "cell_type": "code",
   "execution_count": null,
   "id": "b4b8b70a-16b7-45d6-a552-0c2d96dbf2ca",
   "metadata": {},
   "outputs": [],
   "source": []
  },
  {
   "cell_type": "code",
   "execution_count": null,
   "id": "330b0dc9-a8d2-456c-8a07-def25b156fa0",
   "metadata": {},
   "outputs": [],
   "source": []
  },
  {
   "cell_type": "code",
   "execution_count": null,
   "id": "fc83d40f-d851-480f-aa6c-94eb34d8922e",
   "metadata": {},
   "outputs": [],
   "source": []
  },
  {
   "cell_type": "code",
   "execution_count": null,
   "id": "39cad6e9-a97b-471a-8043-b0703b79806b",
   "metadata": {},
   "outputs": [],
   "source": []
  },
  {
   "cell_type": "code",
   "execution_count": null,
   "id": "7a406929-6807-4790-939e-f0a922328ad9",
   "metadata": {},
   "outputs": [],
   "source": []
  },
  {
   "cell_type": "code",
   "execution_count": null,
   "id": "ec921fe7-cca7-4aee-bfa5-707c7219a1dd",
   "metadata": {},
   "outputs": [],
   "source": []
  },
  {
   "cell_type": "code",
   "execution_count": null,
   "id": "b220edaf-1473-441f-8653-caaed864ea05",
   "metadata": {},
   "outputs": [],
   "source": []
  },
  {
   "cell_type": "code",
   "execution_count": null,
   "id": "c82b3d77-5ca8-420a-a329-efa6bd1fa767",
   "metadata": {},
   "outputs": [],
   "source": []
  },
  {
   "cell_type": "code",
   "execution_count": null,
   "id": "52536bd0-efc3-4253-b19d-4838e8c96901",
   "metadata": {},
   "outputs": [],
   "source": []
  },
  {
   "cell_type": "code",
   "execution_count": null,
   "id": "37b9e0e7-2079-4c73-99e1-2018a64a5cf7",
   "metadata": {},
   "outputs": [],
   "source": []
  },
  {
   "cell_type": "code",
   "execution_count": null,
   "id": "e30c7670-c0e9-42ca-bb1e-46fb60ecdff7",
   "metadata": {},
   "outputs": [],
   "source": []
  },
  {
   "cell_type": "code",
   "execution_count": null,
   "id": "c9eed86b-6422-41cc-a4f9-ebfa27b57502",
   "metadata": {},
   "outputs": [],
   "source": []
  },
  {
   "cell_type": "code",
   "execution_count": null,
   "id": "7ea7404b-063c-4677-90cf-16d3fc1aa90b",
   "metadata": {},
   "outputs": [],
   "source": []
  },
  {
   "cell_type": "code",
   "execution_count": null,
   "id": "2797fe13-b820-4462-900f-14032968be12",
   "metadata": {},
   "outputs": [],
   "source": []
  },
  {
   "cell_type": "code",
   "execution_count": null,
   "id": "e2ac9ee4-1cbb-48ab-8553-adb09d9161f1",
   "metadata": {},
   "outputs": [],
   "source": []
  },
  {
   "cell_type": "code",
   "execution_count": null,
   "id": "780d87b8-cfcb-4479-b6f2-a2f3e9aaf741",
   "metadata": {},
   "outputs": [],
   "source": []
  },
  {
   "cell_type": "code",
   "execution_count": null,
   "id": "a3747905-a6a4-47ad-8a5f-b2a952d93548",
   "metadata": {},
   "outputs": [],
   "source": []
  },
  {
   "cell_type": "code",
   "execution_count": null,
   "id": "37ee0ee4-7594-425a-9897-6346e2c97202",
   "metadata": {},
   "outputs": [],
   "source": []
  },
  {
   "cell_type": "code",
   "execution_count": null,
   "id": "352d88fa-d871-4b3b-810b-affd584d0c28",
   "metadata": {},
   "outputs": [],
   "source": []
  },
  {
   "cell_type": "code",
   "execution_count": null,
   "id": "68266321-a353-4a8e-aed3-4ff74d5a82e1",
   "metadata": {},
   "outputs": [],
   "source": []
  },
  {
   "cell_type": "code",
   "execution_count": null,
   "id": "858374ef-a395-4b5c-bdf6-ba201bb56a49",
   "metadata": {},
   "outputs": [],
   "source": []
  },
  {
   "cell_type": "code",
   "execution_count": null,
   "id": "8a690972-7e9c-4622-901d-83e62f404947",
   "metadata": {},
   "outputs": [],
   "source": []
  },
  {
   "cell_type": "code",
   "execution_count": null,
   "id": "29b926b7-a49b-4e0d-95b5-a664408c3dd1",
   "metadata": {},
   "outputs": [],
   "source": []
  },
  {
   "cell_type": "code",
   "execution_count": null,
   "id": "c75a094e-1364-4d0c-8bec-a483ad7a9841",
   "metadata": {},
   "outputs": [],
   "source": []
  },
  {
   "cell_type": "code",
   "execution_count": null,
   "id": "5a7ce12b-69c1-4e9e-bcca-63a4d10b18a1",
   "metadata": {},
   "outputs": [],
   "source": []
  },
  {
   "cell_type": "code",
   "execution_count": null,
   "id": "68ce5f55-cc1e-4c0a-9849-a233d6c309ca",
   "metadata": {},
   "outputs": [],
   "source": []
  },
  {
   "cell_type": "code",
   "execution_count": null,
   "id": "cc6b44eb-e0dd-493b-8949-1582754f6349",
   "metadata": {},
   "outputs": [],
   "source": []
  },
  {
   "cell_type": "code",
   "execution_count": null,
   "id": "7692fbf0-9c66-48dc-a199-cce2be5ebfdc",
   "metadata": {},
   "outputs": [],
   "source": []
  },
  {
   "cell_type": "code",
   "execution_count": null,
   "id": "f03051e4-9a60-442a-bcb7-fe57940fc22a",
   "metadata": {},
   "outputs": [],
   "source": []
  },
  {
   "cell_type": "code",
   "execution_count": null,
   "id": "cd6812ba-edea-46a8-930a-905631ed2f7f",
   "metadata": {},
   "outputs": [],
   "source": []
  }
 ],
 "metadata": {
  "kernelspec": {
   "display_name": "Python 3 (ipykernel)",
   "language": "python",
   "name": "python3"
  },
  "language_info": {
   "codemirror_mode": {
    "name": "ipython",
    "version": 3
   },
   "file_extension": ".py",
   "mimetype": "text/x-python",
   "name": "python",
   "nbconvert_exporter": "python",
   "pygments_lexer": "ipython3",
   "version": "3.11.5"
  }
 },
 "nbformat": 4,
 "nbformat_minor": 5
}
