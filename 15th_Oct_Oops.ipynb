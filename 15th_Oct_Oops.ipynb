{
 "cells": [
  {
   "cell_type": "markdown",
   "id": "52d8f3f7-90a0-4013-a6b6-13c155055dae",
   "metadata": {},
   "source": [
    "### OOPS:"
   ]
  },
  {
   "cell_type": "markdown",
   "id": "e069f546-9a46-46a6-abcb-f1a28a18d17a",
   "metadata": {},
   "source": [
    "## CONSTRUCTOR:"
   ]
  },
  {
   "cell_type": "code",
   "execution_count": 2,
   "id": "05e1ac56-5078-4cf2-8ff2-78f89f753866",
   "metadata": {},
   "outputs": [],
   "source": [
    "# Question Number 1:\n",
    "# Define constuctor = In python,A constructor is a special method used to intialize an object when it is created. the Constructor method is called __init__().\n",
    "# Purose of constructor = It initialize the attribute of the classes.\n",
    "# Usage of constructor = When you create an instances of the classes,python automatically calls the __init__ method to intialize the object.The self parameter in the __init__ method refers to the instance being created."
   ]
  },
  {
   "cell_type": "code",
   "execution_count": 7,
   "id": "6b99d7f5-b582-4096-869f-4b3127f0f20d",
   "metadata": {},
   "outputs": [
    {
     "name": "stdout",
     "output_type": "stream",
     "text": [
      "Dog name is Unknown and age is 0\n",
      "Dog name is puppy and age is 2\n"
     ]
    }
   ],
   "source": [
    "# Question Number 2:\n",
    "# Parameterless Constructor : A Parameterless Constructor is a constructor that does not take any arguments(except for self).It initialize the object with default values.\n",
    "class dog:\n",
    "    def __init__(self):\n",
    "        self.name = \"Unknown\"\n",
    "        self.age = 0\n",
    "        \n",
    "    def info(self):\n",
    "        print(f\"Dog name is {self.name} and age is {self.age}\")\n",
    "\n",
    "Dog = dog()\n",
    "Dog.info()\n",
    "\n",
    "# Parameterized Constructor : A Parameterized Constructor take one or more arguments to initialize the object with specific values provide at the time of object creation.\n",
    "class dog:\n",
    "    def __init__(self,name,age):\n",
    "        self.name = name\n",
    "        self.age = age\n",
    "    def info(self):\n",
    "        print(f\"Dog name is {self.name} and age is {self.age}\")\n",
    "\n",
    "Dog = dog('puppy',2)\n",
    "Dog.info()"
   ]
  },
  {
   "cell_type": "code",
   "execution_count": 12,
   "id": "32459e06-0ae6-418c-8e04-07abe46bcf36",
   "metadata": {},
   "outputs": [
    {
     "name": "stdout",
     "output_type": "stream",
     "text": [
      "Car brand is Toyoto of model corolla in year 2020 is launch.\n"
     ]
    }
   ],
   "source": [
    "# Question Number 3:\n",
    "# Define constuctor = In python,A constructor is a special method used to intialize an object when it is created. the Constructor method is called __init__().\n",
    "class Car:\n",
    "    def __init__(self,brand,model,year):\n",
    "        self.brand = brand\n",
    "        self.model = model\n",
    "        self.year = year\n",
    "    def info(self):\n",
    "        print(f\"Car brand is {self.brand} of model {self.model} in year {self.year} is launch.\")\n",
    "\n",
    "car = Car('Toyoto','corolla',2020)\n",
    "car.info()"
   ]
  },
  {
   "cell_type": "code",
   "execution_count": null,
   "id": "ac3ca39d-bd3f-42b9-8da2-46483584aaa6",
   "metadata": {},
   "outputs": [],
   "source": [
    "# Question number 4:\n",
    "# Define __init__ = In python , A __init__ is a special method that is used as a constructor to intialize an object when it is created.\n",
    "# Role of __init__ method in constructor = is to intialize the attributes of the object with the values provided when it is created AND it performs any setup needed for the object to function properly."
   ]
  },
  {
   "cell_type": "code",
   "execution_count": 14,
   "id": "c6bb3be7-e460-4284-904c-77e581b90142",
   "metadata": {},
   "outputs": [
    {
     "name": "stdout",
     "output_type": "stream",
     "text": [
      "My name is Priyanka and i am 18 years old.\n"
     ]
    }
   ],
   "source": [
    "# Question number 5:\n",
    "class Person:\n",
    "    def __init__(self,name,age):\n",
    "        self.name = name\n",
    "        self.age = age\n",
    "    def info(self):\n",
    "        print(f\"My name is {self.name} and i am {self.age} years old.\")\n",
    "\n",
    "person = Person('Priyanka',18)\n",
    "person.info()"
   ]
  },
  {
   "cell_type": "code",
   "execution_count": 20,
   "id": "9ef59d49-77f9-4d8b-b78b-c7148e8e19e3",
   "metadata": {},
   "outputs": [
    {
     "name": "stdout",
     "output_type": "stream",
     "text": [
      "My name is Bob and i am 25 years old.\n"
     ]
    }
   ],
   "source": [
    "# Question Number 6:\n",
    "# In Python , you do not typically call a constructor explicity as it is automatically called when to create a new instance of the class. However , you can call a constructor explicity by using the class name directly to create an instance.\n",
    "class Person:\n",
    "    def __init__(self,name,age):\n",
    "        self.name = name\n",
    "        self.age = age\n",
    "    def info(self):\n",
    "        print(f\"My name is {self.name} and i am {self.age} years old.\")\n",
    "        \n",
    "person1 = Person.__init__(Person('Temprory',5),\"priya\",18)      #Here, 'Person.__init__' is Explicity called.The first parameter should be an instance of the person class. However,This is not the recommened way to create objects in python. instead of this yo use instantiate the object directly.\n",
    "\n",
    "\n",
    "person2 = Person('Bob',25)\n",
    "person2.info()"
   ]
  },
  {
   "cell_type": "code",
   "execution_count": 21,
   "id": "443ff792-3984-4383-95df-7bce2999c49d",
   "metadata": {},
   "outputs": [
    {
     "name": "stdout",
     "output_type": "stream",
     "text": [
      "My name is Priya and i am 18 years old.\n",
      "Happy Birthday! You are now 19 years old\n"
     ]
    }
   ],
   "source": [
    "# Question Number 7:\n",
    "# 'self parameter' = self allows the constructor to intialize instance attibutes and other methods to access or modify these attributes. Using 'self' helps we able to differentiate between instance attributes or local variables.\n",
    "class Person:\n",
    "    def __init__(self,name,age):\n",
    "        self.name = name               #self.name and self.age access the insatnce attributes within these methods.\n",
    "        self.age = age\n",
    "    def info(self):\n",
    "        print(f\"My name is {self.name} and i am {self.age} years old.\")\n",
    "    def Birthday(self):\n",
    "        self.age+=1\n",
    "        print(f\"Happy Birthday! You are now {self.age} years old\")\n",
    "\n",
    "person = Person('Priya',18)\n",
    "person.info()\n",
    "person.Birthday()"
   ]
  },
  {
   "cell_type": "code",
   "execution_count": 2,
   "id": "ec68a11b-61c6-47c1-b003-bd09a41aa286",
   "metadata": {},
   "outputs": [
    {
     "name": "stdout",
     "output_type": "stream",
     "text": [
      "<__main__.Animal object at 0x0000011328ECDD10>\n"
     ]
    }
   ],
   "source": [
    "# Question number 8:\n",
    "# Default Constructor = is a contructor that does not take any aruments(except self).If you don't explicity define a constructor in your class,python provides a default constructor that doesn't intialize the attributes.  \n",
    "# when are Default construtor used = 1) No Explicit constructor defined = if a class does not have __init__ method,python used a default constructor.\n",
    "#                                    2) Simple classes = For very simple classes where no intialization of attributes is needed,then you go at the default constructor.\n",
    "#                                    3) Inheritance = when a subclass does not define its own constructor , th default constructor of the superclass is used.\n",
    "class Animal:\n",
    "    pass\n",
    "\n",
    "animal = Animal()\n",
    "print(animal)"
   ]
  },
  {
   "cell_type": "code",
   "execution_count": 3,
   "id": "d1ab3594-2381-46a9-911a-f36948e9bd7d",
   "metadata": {},
   "outputs": [
    {
     "name": "stdout",
     "output_type": "stream",
     "text": [
      "Area of the rectangle is : 20\n"
     ]
    }
   ],
   "source": [
    "# Question number 9:\n",
    "class Rectangle():\n",
    "    def __init__(self,width,height):\n",
    "        self.width = width\n",
    "        self.height = height\n",
    "    def Area(self):\n",
    "        return self.width*self.height\n",
    "\n",
    "rectangle = Rectangle(4,5)\n",
    "area = rectangle.Area()\n",
    "print(f\"Area of the rectangle is : {area}\")"
   ]
  },
  {
   "cell_type": "code",
   "execution_count": 4,
   "id": "b0c04a07-28e3-4511-8230-992b65a360eb",
   "metadata": {},
   "outputs": [
    {
     "name": "stdout",
     "output_type": "stream",
     "text": [
      "Area of rectangle is : 20\n",
      "Area of square is : 25\n"
     ]
    }
   ],
   "source": [
    "# Question Number 10:\n",
    "# Multiple constructor = You can acheive similar funtionality using class methods , often named __init__ for the primary constructor and addtional class methods to handle different constructor scenarios. These class methods are typically defined using the DECORATOR.\n",
    "class Rectangle:\n",
    "    def __init__(self,width,length):\n",
    "        self.width = width\n",
    "        self.length = length\n",
    "    @classmethod\n",
    "    def Square_area(cls,side_length):\n",
    "        return cls(side_length,side_length)\n",
    "\n",
    "    def Calculate_area(self):\n",
    "        return self.width*self.length\n",
    "\n",
    "rect = Rectangle(4,5)\n",
    "print(f\"Area of rectangle is : {rect.Calculate_area()}\")\n",
    "\n",
    "square = Rectangle.Square_area(5)\n",
    "print(f\"Area of square is : {square.Calculate_area()}\")"
   ]
  },
  {
   "cell_type": "code",
   "execution_count": 3,
   "id": "e390d633-5566-4700-bb27-c2663d5b4ae7",
   "metadata": {},
   "outputs": [
    {
     "name": "stdout",
     "output_type": "stream",
     "text": [
      "Hello!\n",
      "Hello,Priya!\n",
      "Hello,Priya! You are 18 years old.\n"
     ]
    }
   ],
   "source": [
    "# Question Number 11:\n",
    "# Method overloading = Having multiple methods with the same name but different parameters. Python does not support it directly but you can use default arguments or *args or **kwargs to achieve similar funtionality.\n",
    "# Method overloading related to constructor = Constructor is special methods which is used to intialize the objects when they are created. In python,constructor is always named __init__ BUT python does not support mutiple constructors with different parameters directly. So, you use default values or variable length arguments to handle different intialization scenarios.\n",
    "# Example of method overloading :-\n",
    "class Person:\n",
    "    def greet(self,name=None,age=None):\n",
    "        if name and age:\n",
    "            print(f\"Hello,{name}! You are {age} years old.\")\n",
    "        elif name:\n",
    "            print(f\"Hello,{name}!\")\n",
    "        else:\n",
    "            print(f\"Hello!\")\n",
    "\n",
    "person = Person()\n",
    "person.greet()\n",
    "person.greet('Priya')\n",
    "person.greet('Priya',18)"
   ]
  },
  {
   "cell_type": "code",
   "execution_count": 4,
   "id": "87a34f43-2118-4610-862e-15ae0fb50afb",
   "metadata": {},
   "outputs": [
    {
     "name": "stdout",
     "output_type": "stream",
     "text": [
      "Parent intialized with name : Alice\n",
      "Child intialized with name : Alice and age : 30\n"
     ]
    }
   ],
   "source": [
    "# Question Number 12:\n",
    "# Super() = The super() function in python is used to call a method from the parent class to child class. This is especially used in constructor when you want to intialize the parent class before adding any child-speific intialiazation. The super() can helps to make code more maintainable.\n",
    "# Example :-\n",
    "class Parent:\n",
    "    def __init__(self,name):\n",
    "        self.name = name\n",
    "        print(f\"Parent intialized with name : {self.name}\")\n",
    "class child(Parent):\n",
    "    def __init__(self,name,age):\n",
    "        super().__init__(name)\n",
    "        self.age = age\n",
    "        print(f\"Child intialized with name : {self.name} and age : {age}\")\n",
    "\n",
    "child_instance = child('Alice',30)"
   ]
  },
  {
   "cell_type": "code",
   "execution_count": 2,
   "id": "c2b0912c-db43-41eb-9217-d8048ded9c79",
   "metadata": {},
   "outputs": [
    {
     "name": "stdout",
     "output_type": "stream",
     "text": [
      "Tittle : Beauty of nature\n",
      "Author : Georage  orwell\n",
      "Published_year : 1949\n"
     ]
    }
   ],
   "source": [
    "# Question Number 13:\n",
    "class Book:\n",
    "    def __init__(self,tittle,author,published_year):\n",
    "        self.tittle = tittle\n",
    "        self.author = author\n",
    "        self.published_year = published_year\n",
    "    def display_details(self):\n",
    "        print(f\"Tittle : {self.tittle}\")\n",
    "        print(f\"Author : {self.author}\")\n",
    "        print(f\"Published_year : {self.published_year}\")\n",
    "\n",
    "book = Book('Beauty of nature','Georage  orwell',1949)\n",
    "book.display_details()"
   ]
  },
  {
   "cell_type": "code",
   "execution_count": 13,
   "id": "946fd0ea-24fe-498c-aca3-b0066cd9322d",
   "metadata": {},
   "outputs": [
    {
     "name": "stdout",
     "output_type": "stream",
     "text": [
      "Author : Georage Orwell\n",
      "Title : 1949\n",
      "Published_year : 1999\n",
      "Author : Georage Orwell\n",
      "Title : 1949\n",
      "Published_year : 2000\n"
     ]
    }
   ],
   "source": [
    "# Question number 14:\n",
    "# CONSTRUCTOR: 1)Purpose = A constructor is a special method used to intialize a newly created object. it set up the intial state of the object by assigning values to its attributes.\n",
    "#              2)Naming = The constructor method is always named \"__init__\".\n",
    "#              3)Inovation = The constructor is automatically callled when a new instance of the class is created,using the class name followed by parenthese.{eg: obj = Classname()}\n",
    "#              4)Return Value = Construtcor do not have a return value. They implicity return \"None\" because their purpose is to intialize the object,not to produce a value.\n",
    "#              5)Usage = Used to setup intial values for instance attributes and perform any setup tasks required when an object is created.\n",
    "# REGULAR METHOD : 1)Purpose = Regular methods perform opertion on the object attributs or provide funtionality related to the object. They can be used to modify the object state,information or prform other task. \n",
    "#                  2)Naming = Regular methods can have any valid python name that follows the naming convention\n",
    "#                  3)Inovation = Regular methods are called explicity on an instance of the class.{eg: obj.method_name()}\n",
    "#                  4)Return Value = Regular methods can return values. They can return any type of values or None if no return statemet is provided.\n",
    "#                  5)Usage = Used to implement the behavior and functionality of the object.\n",
    "\n",
    "#EXAMPLE :-\n",
    "class Book:\n",
    "    def __init__(self,author,title,published_year):        #Here Constructor is used to intialze the object's state.\n",
    "        self.author = author\n",
    "        self.title = title\n",
    "        self.published_year = published_year\n",
    "    def display_details(self):\n",
    "        print(f\"Author : {self.author}\")\n",
    "        print(f\"Title : {self.title}\")\n",
    "        print(f\"Published_year : {self.published_year}\")\n",
    "    def update_published_year(self,new_year):\n",
    "        self.published_year = new_year\n",
    "\n",
    "book = Book('Georage Orwell','1949',1999)\n",
    "book.display_details()\n",
    "book.update_published_year(2000)\n",
    "book.display_details()"
   ]
  },
  {
   "cell_type": "code",
   "execution_count": null,
   "id": "b82922ab-b207-40e9-add5-d45bda701e2c",
   "metadata": {},
   "outputs": [],
   "source": [
    "# Question Number 15:\n",
    "# The 'self' parameter in python is a reference to the instance of the class being created. It is used to access and intialize instance variables in the class. When defining instance methods,including the consructor(__init__) self is the first parameter which is we write. self parameter is used to bind the passed arguments to the instance variables. This ensure that each instance of the class has its own set of attributes."
   ]
  },
  {
   "cell_type": "code",
   "execution_count": 1,
   "id": "a625a258-832e-4c1a-ae2c-44a9049776f6",
   "metadata": {},
   "outputs": [
    {
     "name": "stdout",
     "output_type": "stream",
     "text": [
      "first instance\n"
     ]
    }
   ],
   "source": [
    "# Question Number 16:\n",
    "# To prevent a class from having multiple instances, you can use the \"Singleton\" pattern. This pattern ensures that only one instance of the class is created and used throught the program. In simple terms,it makes sure that whenever you try to create a new instance , it gives you the existing one instead.\n",
    "class Singleton:\n",
    "    instance = None\n",
    "    def __new__(cls,*args,**kwargs):\n",
    "        if cls.instance is None:\n",
    "            cls.instance = super(Singleton,cls).__new__(cls)\n",
    "            return cls.instance\n",
    "    def __init__(self,value):\n",
    "        if not hasattr(self,'intialized'):\n",
    "            self.value = value\n",
    "            self.intialized = True\n",
    "\n",
    "singleton1 = Singleton('first instance')\n",
    "print(singleton1.value)"
   ]
  },
  {
   "cell_type": "code",
   "execution_count": 5,
   "id": "351eac26-7b2d-46f1-8bf3-d874dae2b56b",
   "metadata": {},
   "outputs": [
    {
     "name": "stdout",
     "output_type": "stream",
     "text": [
      "Subjects enrolled\n",
      "hindi\n",
      "English\n",
      "Maths\n",
      "chemistry\n",
      "physics\n"
     ]
    }
   ],
   "source": [
    "# Question number 17:\n",
    "class Student: \n",
    "    def __init__(self,subjects):\n",
    "        self.subjects = subjects\n",
    "    def display_subjects(self):\n",
    "        print('Subjects enrolled')\n",
    "        for subject in self.subjects:\n",
    "            print(subject)\n",
    "\n",
    "student = Student(['hindi','English','Maths','chemistry','physics'])\n",
    "student.display_subjects()"
   ]
  },
  {
   "cell_type": "code",
   "execution_count": 8,
   "id": "3b7a41ff-5ad8-4b02-97ac-2514a6fec1c7",
   "metadata": {},
   "outputs": [
    {
     "name": "stdout",
     "output_type": "stream",
     "text": [
      "My name is Priyanka\n",
      "Resources Priyanka is relesed\n"
     ]
    }
   ],
   "source": [
    "# Question Number 18:\n",
    "# __del__ method : The __del__ method in python also known as \"destructor\",its a special method that is called when an object is about to be destroyed. Its primay purpose is to perform any necessary cleanup.\n",
    "# Relation With constructor : The __del__ method compliments the __init__ method(constructor) in a class. While the constructor intialize an object and setup its initial state on the other side the decorator clean up the onject before it is removed from memory.\n",
    "# Example:-\n",
    "class Resources:\n",
    "    def __init__(self,name):\n",
    "        self.name = name\n",
    "        print(f\"My name is {self.name}\")\n",
    "    def __del__(self):\n",
    "        print(f\"Resources {self.name} is relesed\")\n",
    "\n",
    "resources = Resources('Priyanka')\n",
    "del resources"
   ]
  },
  {
   "cell_type": "code",
   "execution_count": 9,
   "id": "816b3b99-f739-43be-be62-41f8bd44c694",
   "metadata": {},
   "outputs": [
    {
     "name": "stdout",
     "output_type": "stream",
     "text": [
      "Person  initialized : Name=Priya and Age:18\n",
      "Student initialized: Student ID=20110170100\n"
     ]
    }
   ],
   "source": [
    "# Question number 19:\n",
    "# Use of constructor chaining : It's refers to the process  where the subclass constructor calls the constructor of superclass.This ensure that the superclass is properly itialized before the subclass add its own intialitizations.\n",
    "# Example:-\n",
    "class Person:\n",
    "    def __init__(self,name,age):\n",
    "        self.name = name\n",
    "        self.age = age\n",
    "        print(f\"Person  initialized : Name={self.name} and Age:{self.age}\")\n",
    "class Student(Person):\n",
    "    def __init__(self,name,age,student_id):\n",
    "        super().__init__(name,age)\n",
    "        self.student_id = student_id\n",
    "        print(f\"Student initialized: Student ID={self.student_id}\")\n",
    "\n",
    "student = Student('Priya',18,\"20110170100\") "
   ]
  },
  {
   "cell_type": "code",
   "execution_count": 12,
   "id": "063d6637-e9ba-4436-9dc6-1e4a17620001",
   "metadata": {},
   "outputs": [
    {
     "name": "stdout",
     "output_type": "stream",
     "text": [
      "Car make : Toyoto\n",
      "Car model : corolla\n"
     ]
    }
   ],
   "source": [
    "# Question Number 20:\n",
    "class Car:\n",
    "    def __init__(self,make,model):\n",
    "        self.make = make\n",
    "        self.model = model\n",
    "    def display_car_information(self):\n",
    "        print(f\"Car make : {self.make}\")\n",
    "        print(f\"Car model : {self.model}\")\n",
    "\n",
    "car = Car(\"Toyoto\",\"corolla\")\n",
    "car.display_car_information()"
   ]
  },
  {
   "cell_type": "markdown",
   "id": "5b827587-d615-4e7a-9338-4c5480bc5c73",
   "metadata": {},
   "source": [
    "## INHERITANCE :-"
   ]
  },
  {
   "cell_type": "code",
   "execution_count": 2,
   "id": "56f09856-8b05-4a0f-81af-53f6d46d141a",
   "metadata": {},
   "outputs": [
    {
     "name": "stdout",
     "output_type": "stream",
     "text": [
      "Jacky says woof!\n",
      "buddy says Meow!\n"
     ]
    }
   ],
   "source": [
    "# Question Number 1:\n",
    "# Inheritance = is a fundamental concept, that allows a class(child or derived class) to inherit attributes and methods from another class(parent or base class). this make code reusable and due to this we have not require to rewriting the code again.\n",
    "# EXAMPLE:\n",
    "class Animal:\n",
    "    def __init__(self,name):\n",
    "        self.name = name\n",
    "    def speak(self):\n",
    "        pass\n",
    "class Dog(Animal):\n",
    "    def speak(self):\n",
    "        return f\"{self.name} says woof!\"\n",
    "class Cat(Animal):\n",
    "    def speak(self):\n",
    "        return f\"{self.name} says Meow!\"\n",
    "\n",
    "dog = Dog('Jacky')\n",
    "cat = Cat('buddy')\n",
    "\n",
    "print(dog.speak())\n",
    "print(cat.speak())"
   ]
  },
  {
   "cell_type": "code",
   "execution_count": 4,
   "id": "ba738011-90b4-41a7-8bfb-0619164f6614",
   "metadata": {},
   "outputs": [
    {
     "name": "stdout",
     "output_type": "stream",
     "text": [
      "puppy says woof!\n",
      "walking\n",
      "swimming\n",
      "quacking\n"
     ]
    }
   ],
   "source": [
    "# Question number 2:\n",
    "# SINGLE INHERTANCE = It's occurs when a child class inherit from only one parent class. This is a simplest form of inheritance.\n",
    "# EXAMPLE:\n",
    "class Animal:\n",
    "    def __init__(self,name):\n",
    "        self.name = name\n",
    "    def speak(self):\n",
    "        pass\n",
    "class Dog(Animal):\n",
    "    def speak(self):\n",
    "        return f\"{self.name} says woof!\"\n",
    "\n",
    "dog = Dog('puppy')\n",
    "print(dog.speak())\n",
    "\n",
    "# MULTIPLE INHERITANCE = It's occurs when a child class inherit from more than one parent class.\n",
    "# EXAMPLE:\n",
    "class walkable:\n",
    "    def walk(self):\n",
    "        return 'walking'\n",
    "class swimmable:\n",
    "    def swim(self):\n",
    "        return 'swimming'\n",
    "class Duck(walkable,swimmable):\n",
    "    def quack(self):\n",
    "        return 'quacking'\n",
    "\n",
    "duck = Duck()\n",
    "print(duck.walk())\n",
    "print(duck.swim())\n",
    "print(duck.quack())"
   ]
  },
  {
   "cell_type": "code",
   "execution_count": 9,
   "id": "e415d44e-5b32-4981-9563-13c3e0638ecf",
   "metadata": {},
   "outputs": [
    {
     "name": "stdout",
     "output_type": "stream",
     "text": [
      "Brand:Toyoto,Color:black,Speed:120Km/h\n"
     ]
    }
   ],
   "source": [
    "# Question Number 3:\n",
    "class Vehicle:\n",
    "    def __init__(self,color,speed):\n",
    "        self.color = color\n",
    "        self.speed = speed\n",
    "    def display_details(self):\n",
    "        return f\"Color:{self.color},Speed:{self.speed}Km/h\"\n",
    "class Car(Vehicle):\n",
    "    def __init__(self,brand,color,speed):\n",
    "        super().__init__(color,speed)\n",
    "        self.brand = brand\n",
    "    def display_details(self):\n",
    "        return f\"Brand:{self.brand},Color:{self.color},Speed:{self.speed}Km/h\"\n",
    "\n",
    "car = Car('Toyoto','black',120)\n",
    "print(car.display_details())"
   ]
  },
  {
   "cell_type": "code",
   "execution_count": 11,
   "id": "c3112031-d205-4137-abf3-038414ba9af3",
   "metadata": {},
   "outputs": [
    {
     "name": "stdout",
     "output_type": "stream",
     "text": [
      "Color:Blue,Speed:100Km/h\n",
      "Brand:Toyoto,Color:black,Speed:120Km/h\n"
     ]
    }
   ],
   "source": [
    "# Question number 4:\n",
    "# Method overiding = is a feature in oops that allows a subclass to provide specific implementation of a method that is already define in its superclass.\n",
    "# EXAMPLE:\n",
    "class Vehicle:\n",
    "    def __init__(self,color,speed):\n",
    "        self.color = color\n",
    "        self.speed = speed\n",
    "    def display_details(self):\n",
    "        return f\"Color:{self.color},Speed:{self.speed}Km/h\"\n",
    "class Car(Vehicle):\n",
    "    def __init__(self,brand,color,speed):\n",
    "        super().__init__(color,speed)\n",
    "        self.brand = brand\n",
    "    def display_details(self):\n",
    "        return f\"Brand:{self.brand},Color:{self.color},Speed:{self.speed}Km/h\"\n",
    "\n",
    "vehicle = Vehicle('Blue',100)\n",
    "print(vehicle.display_details())\n",
    "\n",
    "car = Car('Toyoto','black',120)\n",
    "print(car.display_details())"
   ]
  },
  {
   "cell_type": "code",
   "execution_count": 14,
   "id": "490f8a57-ebed-4e84-b2a9-e4f6d8d94f26",
   "metadata": {},
   "outputs": [
    {
     "name": "stdout",
     "output_type": "stream",
     "text": [
      "Name : Priyanka , Age : 18\n",
      "Name : priya , Age : 20 , Student_id : 2011017010\n"
     ]
    }
   ],
   "source": [
    "# Question Number 5:\n",
    "# You can access the method and attributes of a parent class from child class  by using the 'super()' function . The super() function returns a temporary object of the superclass that allows you to call its method.\n",
    "# EXAMPLE:\n",
    "class Person:\n",
    "    def __init__(self,name,age):\n",
    "        self.name = name\n",
    "        self.age = age\n",
    "    def display_details(self):\n",
    "        return f\"Name : {self.name} , Age : {self.age}\"\n",
    "class Student(Person):\n",
    "    def __init__(self,name,age,student_id):\n",
    "        super().__init__(name,age)\n",
    "        self.student_id = student_id\n",
    "    def display_details(self):\n",
    "        return f\"Name : {self.name} , Age : {self.age} , Student_id : {self.student_id}\"\n",
    "\n",
    "person = Person('Priyanka',18)\n",
    "print(person.display_details())\n",
    "\n",
    "student = Student('priya',20,'2011017010')\n",
    "print(student.display_details())"
   ]
  },
  {
   "cell_type": "code",
   "execution_count": 6,
   "id": "87a6a789-1344-42c3-af77-6eb23fa57d84",
   "metadata": {},
   "outputs": [
    {
     "name": "stdout",
     "output_type": "stream",
     "text": [
      "Name : Alice , Salary : 50000\n",
      "Name : bob , Salary : 70000 , Department : Sales\n"
     ]
    }
   ],
   "source": [
    "# Question Number 6:\n",
    "# Use of 'super()' function in python inheritance = It's used to call a method from a parent class to child class. It allows the child class to modify the behaviour of the parent class method while still maintaining a refernece to the parent class.\n",
    "# When and Why it is used = 1) We use super() funtion to intialization beacase it ensure that the parent class is properly intialized when a child class is instainated.\n",
    "#                           2) We use super() funtion to extending or modifying functionality. To add addtional behaviour to a method in a child class to make code more usable.\n",
    "#                           3) We use super() funtion to avoiding hard-coding to avoids the need of hardcode that's making the code more maintainable.\n",
    "# EXAMPLE :\n",
    "class Employee:\n",
    "    def __init__(self,name,salary):\n",
    "        self.name = name\n",
    "        self.salary = salary\n",
    "    def display_info(self):\n",
    "        return f\"Name : {self.name} , Salary : {self.salary}\"\n",
    "class Manager(Employee):\n",
    "    def __init__(self,name,salary,department):\n",
    "        super().__init__(name,salary)\n",
    "        self.department = department\n",
    "    def display_info(self):\n",
    "        return f\"Name : {self.name} , Salary : {self.salary} , Department : {self.department}\"\n",
    "\n",
    "employee = Employee('Alice',50000)\n",
    "print(employee.display_info())\n",
    "\n",
    "manager = Manager('bob',70000,'Sales')\n",
    "print(manager.display_info())"
   ]
  },
  {
   "cell_type": "code",
   "execution_count": 8,
   "id": "6b9b35e1-8fee-4129-9827-cd44a322bc62",
   "metadata": {},
   "outputs": [
    {
     "name": "stdout",
     "output_type": "stream",
     "text": [
      "Woof!\n",
      "Meow!\n"
     ]
    }
   ],
   "source": [
    "# Question number 7:\n",
    "class Animal:\n",
    "    def speak(self):\n",
    "        pass\n",
    "class Dog(Animal):\n",
    "    def speak(self):\n",
    "        return 'Woof!'\n",
    "class Cat(Animal):\n",
    "    def speak(self):\n",
    "        return 'Meow!'\n",
    "\n",
    "dog = Dog()\n",
    "print(dog.speak())\n",
    "\n",
    "cat = Cat()\n",
    "print(cat.speak())"
   ]
  },
  {
   "cell_type": "code",
   "execution_count": 5,
   "id": "fd61ce6a-50e2-4acd-ba08-c3fa65fd8bfd",
   "metadata": {},
   "outputs": [
    {
     "name": "stdout",
     "output_type": "stream",
     "text": [
      "True\n",
      "False\n",
      "True\n",
      "True\n"
     ]
    }
   ],
   "source": [
    "# Question Number 8:\n",
    "# isinstance() function : It's is used to check if an object is an instance of a specific class or tuple of classes. It returns 'True' if the object is a instance of the class or any sub-class, otherwise it gives 'False'. \n",
    "# Role of 'isinstance()' function : 1) For checking : it allows to verify the object , it ensure that it is instance of a particular class or not.\n",
    "#                                   2) Conditional Logic : it is often used is contional statement to execute different code path based on the type of object.\n",
    "# ExAMPLE:\n",
    "class Animal:\n",
    "    def speak(self):\n",
    "        pass\n",
    "class Dog(Animal):\n",
    "    def speak(self):\n",
    "        return 'Woof!'\n",
    "class Cat(Animal):\n",
    "    def speak(self):\n",
    "        return 'Meow!'\n",
    "\n",
    "dog = Dog()\n",
    "cat = Cat()\n",
    "\n",
    "print(isinstance(dog,Dog))\n",
    "print(isinstance(cat,Dog))\n",
    "print(isinstance(cat,Cat))\n",
    "print(isinstance(cat,Animal))"
   ]
  },
  {
   "cell_type": "code",
   "execution_count": 2,
   "id": "e2bcb3fb-4f84-4153-afa1-2d4407bebd84",
   "metadata": {},
   "outputs": [
    {
     "name": "stdout",
     "output_type": "stream",
     "text": [
      "True\n",
      "False\n",
      "True\n"
     ]
    }
   ],
   "source": [
    "# Question Number 9:\n",
    "# issubclass() = The issubclass() function in python is used to check if a class is a subclass of another class or not. It returns \"True\" if the class is subclass of another class, otherwise it gives \"False\". This function is paticularly in inheritance.\n",
    "# EXAMPLE:\n",
    "class Animal:\n",
    "    pass\n",
    "class Dog(Animal):\n",
    "    pass\n",
    "class Cat(Animal):\n",
    "    pass\n",
    "class Bunny(Animal):\n",
    "    pass\n",
    "\n",
    "print(issubclass(Dog,Animal))\n",
    "print(issubclass(Cat,Dog))\n",
    "print(issubclass(Bunny,Animal))"
   ]
  },
  {
   "cell_type": "code",
   "execution_count": null,
   "id": "1aaf45f1-dbe2-4b44-b427-901804fbf012",
   "metadata": {},
   "outputs": [],
   "source": [
    "# Question Number 10:\n",
    "# Constructor inheritance = The concept of constructor inheritance is arises by the use of '__init__' method in python which is called Constructor in python. When a child class inherit from parent class, it can call the parent class constructor using the 'super()' function which is ensure that the parent class is properly intialized before adding its own logic."
   ]
  },
  {
   "cell_type": "code",
   "execution_count": 13,
   "id": "e013f42e-2cdb-4299-9561-d220afc38be1",
   "metadata": {},
   "outputs": [
    {
     "name": "stdout",
     "output_type": "stream",
     "text": [
      "78.53981633974483\n",
      "15\n"
     ]
    }
   ],
   "source": [
    "# Question Number 11:\n",
    "class Shape:\n",
    "    def area(self):\n",
    "        pass\n",
    "\n",
    "import math\n",
    "class Circle(Shape):\n",
    "    def __init__(self,radius):\n",
    "        self.radius = radius\n",
    "    def area(self):\n",
    "        return math.pi*self.radius**2\n",
    "class Rectangle(Shape):\n",
    "    def __init__(self,length,width):\n",
    "        self.length = length\n",
    "        self.width = width\n",
    "    def area(self):\n",
    "        return self.length*self.width\n",
    "\n",
    "circle = Circle(5)\n",
    "print(circle.area())\n",
    "\n",
    "rectangle = Rectangle(5,3)\n",
    "print(rectangle.area())"
   ]
  },
  {
   "cell_type": "code",
   "execution_count": 2,
   "id": "2ca09e97-fd05-45ea-b257-ddae739dbec7",
   "metadata": {},
   "outputs": [
    {
     "name": "stdout",
     "output_type": "stream",
     "text": [
      "Bark\n",
      "Meow\n"
     ]
    }
   ],
   "source": [
    "# Question number 12:\n",
    "# Abstarct base classes(ABC) : in pyhton provide a way to create a 'blueprint' for other classes. This bluepint defines method that must be created within any chid classes built from the ABC. \n",
    "# ABC related to inheritance and its used : Any subclass inheriting from an ABC must implement all of its abstract methods. \n",
    "# EXAMPLE :\n",
    "from abc import ABC, abstractmethod\n",
    "class Animal:\n",
    "    @abstractmethod\n",
    "    def sound(self):\n",
    "        pass\n",
    "class Dog(Animal):\n",
    "    def sound(self):\n",
    "        return \"Bark\"\n",
    "class Cat(Animal):\n",
    "    def sound(self):\n",
    "        return \"Meow\"\n",
    "\n",
    "dog = Dog()\n",
    "print(dog.sound())\n",
    "\n",
    "cat = Cat()\n",
    "print(cat.sound())"
   ]
  },
  {
   "cell_type": "code",
   "execution_count": 19,
   "id": "a18adde1-23f2-4e8f-a68e-8a39d6650d1c",
   "metadata": {},
   "outputs": [
    {
     "name": "stdout",
     "output_type": "stream",
     "text": [
      "This method is private\n"
     ]
    }
   ],
   "source": [
    "# Question Number 13:\n",
    "# In pyhton, you can prevent a child class from modifying certain attributes or methods inherited from a parent class by making those attributes and methods 'private' and 'final'.\n",
    "# 1) Private : Private attributes and methods are not directly accessible outside the class in which they are defined. This is done by prefixing the attributes and methods name with double underscore '__'.\n",
    "# EXAMPLE:\n",
    "class Parent:\n",
    "    def __init__(self):\n",
    "        self.__private_attributes = 'This is private'\n",
    "    def __private_method(self):\n",
    "        return \"This method is private\"\n",
    "    def public_method(self):\n",
    "        return self.__private_method()\n",
    "class Child(Parent):\n",
    "    def __init__(self):\n",
    "        super().__init__()\n",
    "    def __private_meth(self):\n",
    "        return \"Trying to override\"\n",
    "\n",
    "child = Child()\n",
    "print(child.public_method())"
   ]
  },
  {
   "cell_type": "code",
   "execution_count": 6,
   "id": "b479eaf0-b76a-4ecc-af5d-960d6c3e27ec",
   "metadata": {},
   "outputs": [
    {
     "name": "stdout",
     "output_type": "stream",
     "text": [
      "Name : Bunny , Salary : 70000\n",
      "Name : Alice , Salary : 90000 , Department : Sales\n"
     ]
    }
   ],
   "source": [
    "# Question Number 14:\n",
    "class Employee:\n",
    "    def __init__(self,name,salary):\n",
    "        self.name = name\n",
    "        self.salary = salary\n",
    "    def display_info(self):\n",
    "        return f\"Name : {self.name} , Salary : {self.salary}\"\n",
    "class Manager(Employee):\n",
    "    def __init__(self,name,salary,department):\n",
    "        self.department = department\n",
    "        super().__init__(name,salary)\n",
    "    def display_info(self):\n",
    "        return f\"Name : {self.name} , Salary : {self.salary} , Department : {self.department}\"\n",
    "\n",
    "employee = Employee('Bunny',70000)\n",
    "print(employee.display_info())\n",
    "\n",
    "manager = Manager('Alice',90000,'Sales')\n",
    "print(manager.display_info())"
   ]
  },
  {
   "cell_type": "code",
   "execution_count": null,
   "id": "df26e0cb-5aae-4e66-91d0-be6fe1e88ed4",
   "metadata": {},
   "outputs": [],
   "source": [
    "# Question Number 15:\n",
    "# Method Overloading : It's refers to defining multiple methods with same name but different parameters in the same class.\n",
    "# Difference between overloading and overriding:\n",
    "# Overloading : 1)It's refers to defining multiple methods with same name but different parameters in the same class.\n",
    "#               2)General python not support this but you can use deafault arguments(*args and **kwargs) to achieve similar effect.\n",
    "# Overriding  : 1)Involves a subclass providing a specific implementation for a method that is already defined in parent class:\n",
    "#               2)Allows the subclass to modify the behavior of the parent class method."
   ]
  },
  {
   "cell_type": "code",
   "execution_count": null,
   "id": "7e726f3e-68ec-455d-939c-2a9f7b3a82ec",
   "metadata": {},
   "outputs": [],
   "source": [
    "# Question Number 16:\n",
    "# The '__init__' method in pyhton called a constructor. It's main purpose to intialize the attributes of object when it is created. When a class inherit from other class(parent class) the child class can use it's own '__init__()' method to initialize its own attributes of object. It also call the parent class'__init__' method to itialize parent class attributes by using 'super().__init__()'.This ensures that both the parent and child class can intialize their respective atributes."
   ]
  },
  {
   "cell_type": "code",
   "execution_count": 8,
   "id": "22fbb018-c6aa-4b0e-b94c-dcc5cfe395f6",
   "metadata": {},
   "outputs": [
    {
     "name": "stdout",
     "output_type": "stream",
     "text": [
      "Eagle is flying high in the sky!\n",
      "Sparrow is flying close to the ground!\n"
     ]
    }
   ],
   "source": [
    "# Question Number 17:\n",
    "class Bird:\n",
    "    def fly(self):\n",
    "        pass\n",
    "class Eagle(Bird):\n",
    "    def fly(self):\n",
    "        return \"Eagle is flying high in the sky!\"\n",
    "class Sparrow(Bird):\n",
    "    def fly(self):\n",
    "        return \"Sparrow is flying close to the ground!\"\n",
    "\n",
    "eagle = Eagle()\n",
    "print(eagle.fly())\n",
    "\n",
    "sparrow = Sparrow()\n",
    "print(sparrow.fly())"
   ]
  },
  {
   "cell_type": "code",
   "execution_count": 23,
   "id": "0d04a2f5-42bc-494d-8f10-209c25f01140",
   "metadata": {},
   "outputs": [
    {
     "name": "stdout",
     "output_type": "stream",
     "text": [
      "Hello! from B\n",
      "[<class '__main__.D'>, <class '__main__.B'>, <class '__main__.C'>, <class '__main__.A'>, <class 'object'>]\n"
     ]
    }
   ],
   "source": [
    "# Question Number 18:\n",
    "# Diamond problem in multiple inheritance : It occurs when a class inherit from two or more than two classes that have a common ancestor. This is create a confusion about which path follow to reach common ancestor.\n",
    "# How pyhton address it : pyhton use a method called \"Method resolution order(MRO)\" to solve this solution. MRO is a rule that python follows to decide the order to look for methods and atttributes. It ensure that each class only called once to avoiding confusion. You cna see the MRO of any classes by using 'mro()' method or '__mro__' attribute.\n",
    "# EXAMPLE:\n",
    "class A:\n",
    "    def greet(self):\n",
    "        return 'Hello! from A'\n",
    "class B(A):\n",
    "    def greet(self):\n",
    "        return 'Hello! from B'\n",
    "class C(A):\n",
    "    def greet(self):\n",
    "        return 'Hello! from C'\n",
    "class D(B,C):\n",
    "    pass\n",
    "\n",
    "d = D()\n",
    "print(d.greet())\n",
    "print(D.mro())"
   ]
  },
  {
   "cell_type": "code",
   "execution_count": 5,
   "id": "8a5b260d-a656-4e21-88b7-c28ca58c468c",
   "metadata": {},
   "outputs": [
    {
     "name": "stdout",
     "output_type": "stream",
     "text": [
      "Engine started\n",
      "Toyota\n",
      "Corolla\n",
      "4\n",
      "Corolla\n",
      "155\n",
      "Engine started\n",
      "toyoto\n"
     ]
    }
   ],
   "source": [
    "# Question Number 19:\n",
    "# 'Is-a' relationship in inheritance : it's arises when one class is inherits from another class. It means the subclass is a specific type of the parent class.\n",
    "# EXAMPLE:\n",
    "class Vehicle:\n",
    "    def __init__(self,make,model):\n",
    "        self.make = make\n",
    "        self.model = model\n",
    "    def start_engine(self):\n",
    "        return 'Engine started'\n",
    "class Car(Vehicle):\n",
    "    def __init__(self,make,model,doors):\n",
    "        super().__init__(make,model)\n",
    "        self.doors = doors\n",
    "\n",
    "car = Car('Toyota','Corolla',4)    # we have a class 'Vehicle' and subclass 'Car'. A car is a type of vehicle. So,this relationship can be described as \"Car is a Vehicle.\"\n",
    "print(car.start_engine())\n",
    "print(car.make)\n",
    "print(car.model)\n",
    "print(car.doors)\n",
    "\n",
    "# 'Has-a' relationship in inheritance : It's arises when one class contains an instance of another class as member. It means that one class \"has\" another class as part of its attributes, this relationship is represented using composition. \n",
    "class Engine:\n",
    "    def __init__(self,horsepower):\n",
    "        self.horsepower = horsepower\n",
    "    def start(self):\n",
    "        return 'Engine started'\n",
    "class Car:\n",
    "    def __init__(self,horsepower,make,model):\n",
    "        self.make = make\n",
    "        self.model = model\n",
    "        self.engine = Engine(horsepower)       #we have a class 'Engine' and a class 'Car'. A car \"has an\" engine, So this relationship can be described as \"Car has an Engine\".\n",
    "        \n",
    "\n",
    "car = Car('toyoto','Corolla',155)\n",
    "print(car.make)\n",
    "print(car.model)\n",
    "print(car.engine.start())\n",
    "print(car.engine.horsepower)"
   ]
  },
  {
   "cell_type": "code",
   "execution_count": 11,
   "id": "ab2bef82-92e1-401b-99fa-66febb89176e",
   "metadata": {},
   "outputs": [
    {
     "name": "stdout",
     "output_type": "stream",
     "text": [
      "Name : Alice , Age : 20, Student_id : 20110170189, Subject : Data scienec\n",
      "Alice study in major Data scienec\n",
      "Name : Dr.robert , Age : 45, Employee_id : 5637282, Department : Mathematics\n",
      "Dr.robert teach in Mathematics department.\n"
     ]
    }
   ],
   "source": [
    "# Question number 20:\n",
    "class Person:\n",
    "    def __init__(self,name,age):\n",
    "        self.name = name\n",
    "        self.age = age\n",
    "    def display_info(self):\n",
    "        return f\"Name : {self.name} , Age : {self.age}\"\n",
    "class Student(Person):\n",
    "    def __init__(self,name,age,student_id,subject):\n",
    "        self.student_id = student_id\n",
    "        self.subject = subject\n",
    "        super().__init__(name,age)\n",
    "    def display_info(self):\n",
    "        return f\"Name : {self.name} , Age : {self.age}, Student_id : {self.student_id}, Subject : {self.subject}\"\n",
    "    def study(self):\n",
    "        return f\"{self.name} study in major {self.subject}\"\n",
    "class Professor(Person):\n",
    "    def __init__(self,name,age,employee_id,department):\n",
    "        self.employee_id = employee_id\n",
    "        self.department = department\n",
    "        super().__init__(name,age)\n",
    "    def display_info(self):\n",
    "        return f\"Name : {self.name} , Age : {self.age}, Employee_id : {self.employee_id}, Department : {self.department}\"\n",
    "    def Teach(self):\n",
    "        return f\"{self.name} teach in {self.department} department.\"\n",
    "\n",
    "student = Student('Alice',20,'20110170189','Data scienec')\n",
    "print(student.display_info())\n",
    "print(student.study())\n",
    "\n",
    "professor = Professor('Dr.robert',45,'5637282','Mathematics')\n",
    "print(professor.display_info())\n",
    "print(professor.Teach())"
   ]
  },
  {
   "cell_type": "markdown",
   "id": "3792e592-b0c4-47c6-96ac-564d1aadecf7",
   "metadata": {},
   "source": [
    "## ENCAPSULATION:"
   ]
  },
  {
   "cell_type": "code",
   "execution_count": null,
   "id": "5d473c94-8aeb-4251-b282-d4b5c420eff4",
   "metadata": {},
   "outputs": [],
   "source": [
    "# Question Number 1:\n",
    "# ENCAPSULATION : It's refers to the bundling of data(attributes) and method(functions) in one class. Encapsualtion is like hiding the complexity and details of how things works inside the class. It allows you to expose only what necessary ,keeping the inner working hidden from outside.\n",
    "# Role in OOPS  : 1) Data hiding = Encapsulation hides the internal state of object from outside world. This ensure that the object internal represention can be changed without affecting the code that uses the object.\n",
    "#                 2) Modularity = By bundling data and methods  into classes, encapsulation promotes modularity. Each class is a self-contained module that can be devloped,tested and debugged independently.\n",
    "#                 3) Maintanence and flexibility.\n",
    "#                 4) Security."
   ]
  },
  {
   "cell_type": "code",
   "execution_count": null,
   "id": "451cc72c-7f2e-44fc-84bc-6f7675f7c12c",
   "metadata": {},
   "outputs": [],
   "source": [
    "# Question Number 2:\n",
    "# KEY PRINCIPLE OF ENCAPSULATION: 1) Encapsulation involes combining data(attributes) and methods(function) that operate on the data in a single class.\n",
    "#                                 2) Acess control : PUBLIC MEMBERS = These are accessible from anywhere both inside and outside of the class. In python, the members are public by default.\n",
    "#                                                    PROTECTED MEMBERS = These are use for internally and it can be accessed within the class and its sub-class. In pyhton, a single underscore \"_\" before the member name singnifies that it is 'protective member'.\n",
    "#                                                    PRIVATE MEMBERS = These are only accessible within the class where they are defined. IN pyhton, a double underscore \"__\" before the member name indicates that it is private member. It make harder  to access these members from outside the class.\n",
    "#                                 3) ABSTRACTION = Data hiding allows the internal details of the object implementation to be hidden from the outside world. Users of object interact with it through a well defined interface, without needing to know its internal workings."
   ]
  },
  {
   "cell_type": "code",
   "execution_count": 3,
   "id": "483bdea4-dea6-433e-883e-b322254b9ac6",
   "metadata": {},
   "outputs": [
    {
     "name": "stdout",
     "output_type": "stream",
     "text": [
      "Priyanka\n",
      "18\n",
      "87001567321\n"
     ]
    }
   ],
   "source": [
    "# Question Number 3:\n",
    "# To acheive encapsulation by using protected and private members to control the accessibility of attributes and method within a class.\n",
    "# EXAMPLE:\n",
    "class Person:\n",
    "    def __init__(self,name,age,phone_num):\n",
    "        self.name = name\n",
    "        self._age = age\n",
    "        self.__phone_num = phone_num\n",
    "    def get_phone_num(self):\n",
    "        return self.__phone_num\n",
    "\n",
    "person = Person('Priyanka',18,87001567321)\n",
    "print(person.name)\n",
    "print(person._age)\n",
    "print(person.get_phone_num())"
   ]
  },
  {
   "cell_type": "code",
   "execution_count": null,
   "id": "20a46fcd-6388-4085-880f-ecd2e190d9ae",
   "metadata": {},
   "outputs": [],
   "source": [
    "# Question Number 4:\n",
    "# PUBLIC ACCESS MODIFIER:    1) convention = Not required any underscore.\n",
    "#                            2) Accessibility = It's access from both inside and outside of the class.\n",
    "#                            3) Use case = It's used when you want attributes and methods to access from any part of the programe.\n",
    "# PROTECTED ACCESS MODIFIER: 1) Convention = single\"_\" underscore required.\n",
    "#                            2) Accessibility = It's accessed within the class and subclass but it is accessed from outside from the class But it is generally not recommended to use.\n",
    "#                            3) Use case = It's used when you want to access internal members but still allow inheritance.\n",
    "# PRIVATE ACCESS MODIFIER:   1) Convention = double\"__\" underscore required.\n",
    "#                            2) Accessibility = It's only accessed within the class.This are not directly access from outside the class. It's make harder to access from outside. \n",
    "#                            3) Use as = It's used when you want strictly hide internal implementation details and prevent from access and modify directly.  "
   ]
  },
  {
   "cell_type": "code",
   "execution_count": 1,
   "id": "03ac1e86-ef68-43f6-b4d9-f783a19baeef",
   "metadata": {},
   "outputs": [
    {
     "name": "stdout",
     "output_type": "stream",
     "text": [
      "Alice\n",
      "Bunny\n"
     ]
    }
   ],
   "source": [
    "# Question Number 5:\n",
    "class Person:\n",
    "    def __init__(self,name):\n",
    "        self.__name = name\n",
    "    def get_name(self):\n",
    "        return self.__name\n",
    "    def set_name(self,name):\n",
    "        self.__name = name\n",
    "\n",
    "person = Person('Alice')\n",
    "print(person.get_name())\n",
    "\n",
    "person.set_name('Bunny')\n",
    "print(person.get_name())"
   ]
  },
  {
   "cell_type": "code",
   "execution_count": 7,
   "id": "977be6b9-bdb4-4c38-af5d-4b6dd0957dbe",
   "metadata": {},
   "outputs": [
    {
     "name": "stdout",
     "output_type": "stream",
     "text": [
      "Alice\n",
      "Bunny\n"
     ]
    }
   ],
   "source": [
    "# Question number 6:\n",
    "# GETTER METHOD = is used to read and get the value of a private variable.\n",
    "# SETTER METHOD = is used to write and set the value of a private vriable.\n",
    "# Getter and Setter methods are used to control access to the attributes of a class, promoting encapsulation by :\n",
    "# 1) Control = The class control how the attributs are accessed and modified through getter and setter method.\n",
    "# 2) Validation = The settter methods checks to ensure that only valid values are asigned to the attributes.\n",
    "# EXAMPLE:\n",
    "class Person:\n",
    "    def __init__(self,name):\n",
    "        self.__name = name\n",
    "    def get_name(self):\n",
    "        return self.__name\n",
    "    def set_name(self,name):\n",
    "        self.__name = name\n",
    "\n",
    "person = Person('Alice')\n",
    "print(person.get_name())\n",
    "\n",
    "person.set_name('Bunny')\n",
    "print(person.get_name())"
   ]
  },
  {
   "cell_type": "code",
   "execution_count": 18,
   "id": "efd1f7b6-e50c-49b0-8b1a-9f0aaeee27f0",
   "metadata": {},
   "outputs": [
    {
     "name": "stdout",
     "output_type": "stream",
     "text": [
      "10\n",
      "10\n"
     ]
    }
   ],
   "source": [
    "# Question number 7:\n",
    "# \"MANGLING\" = It's a way to make class atttributes(variables and methods) more private by changing thier name in a way that makes them harder to access from outside the class.   \n",
    "class Myclass:\n",
    "    def __init__(self,value):\n",
    "        self.__private_attribute = value\n",
    "    def __private_method(self):\n",
    "        return self.__private_attribute\n",
    "    def get_private_attribute(self):\n",
    "        return self.__private_attribute\n",
    "\n",
    "obj = Myclass(10)\n",
    "print(obj._Myclass__private_attribute)\n",
    "print(obj.get_private_attribute())"
   ]
  },
  {
   "cell_type": "code",
   "execution_count": 5,
   "id": "04e13ab2-b232-453a-a53f-2b1a0947054a",
   "metadata": {},
   "outputs": [
    {
     "name": "stdout",
     "output_type": "stream",
     "text": [
      "Account Number : 1345678910\n",
      "Intial Balance : 2000\n",
      "Deposite 1500 and New balance is 3500\n",
      "Withdraw amount is 2500 and New balance is 1000\n",
      "Final Balance : 1000\n"
     ]
    }
   ],
   "source": [
    "# Question Number 8:\n",
    "class Bankaccount:\n",
    "    def __init__(self,acc_number,balance=0):\n",
    "        self.__acc_number = acc_number\n",
    "        self.__balance = balance          \n",
    "    def Deposite_money(self,amount):\n",
    "        if amount>0: \n",
    "            self.__balance += amount\n",
    "            print(f\"Deposite {amount} and New balance is {self.__balance}\")\n",
    "        else:\n",
    "            print('Deposite amount must be positive.')\n",
    "    def Withdraw_money(self,amount):\n",
    "         if amount>0 and amount<=self.__balance:\n",
    "             self.__balance -= amount\n",
    "             print(f\"Withdraw amount is {amount} and New balance is {self.__balance}\")\n",
    "         else:\n",
    "             print('Insufficent money, please check your balance')\n",
    "    def get_balance(self):\n",
    "        return self.__balance\n",
    "    def get_acc_num(self):\n",
    "        return self.__acc_number\n",
    "\n",
    "account = Bankaccount(1345678910,2000)\n",
    "print(f\"Account Number : {account.get_acc_num()}\")\n",
    "print(f\"Intial Balance : {account.get_balance()}\")\n",
    "\n",
    "account.Deposite_money(1500)\n",
    "account.Withdraw_money(2500)\n",
    "print(f\"Final Balance : {account.get_balance()}\")"
   ]
  },
  {
   "cell_type": "code",
   "execution_count": 28,
   "id": "c6076f96-31d2-475b-939a-559978382963",
   "metadata": {},
   "outputs": [
    {
     "name": "stdout",
     "output_type": "stream",
     "text": [
      "10\n",
      "10\n",
      "50\n"
     ]
    }
   ],
   "source": [
    "# Question Number 10:\n",
    "# In python, private attributes are defined with a double underscore. These attributes are not directly access from outside the class due to name mangling. They can still access using name mangling convention which involves prefixing the attributes name with _ClassName.\n",
    "# EXAMPLE:\n",
    "class ExampleClass:\n",
    "    def __init__(self,value):\n",
    "        self.__private_attribute = value\n",
    "    def get_private_attribute(self):\n",
    "        return self.__private_attribute\n",
    "    def set_private_attribute(self):\n",
    "        return self.__private_attribute\n",
    "\n",
    "example = ExampleClass(10)\n",
    "print(example._ExampleClass__private_attribute)\n",
    "print(example.get_private_attribute())\n",
    "\n",
    "example._ExampleClass__private_attribute = 50\n",
    "print(example._ExampleClass__private_attribute)"
   ]
  },
  {
   "cell_type": "code",
   "execution_count": 3,
   "id": "1f15fa03-d7fb-4f5d-899e-d30ea6d0ee73",
   "metadata": {},
   "outputs": [
    {
     "name": "stdout",
     "output_type": "stream",
     "text": [
      "Alice has been enrolled in Mathematics\n",
      "Bunny has been enrolled in Mathematics\n",
      "Student ID : A24272,Name : Alice , Age : 20\n",
      "Employee ID : S98978095,Name : Mr.Sam , Age : 40\n",
      "('Course Name : Mathematics', 'Teacher : Mr.Sam', 'Students : AliceBunny')\n"
     ]
    }
   ],
   "source": [
    "# Question Number 11:\n",
    "class Person:\n",
    "    def __init__(self,name,age):\n",
    "        self.__name = name\n",
    "        self.__age = age\n",
    "    def get_name(self):\n",
    "        return self.__name\n",
    "    def get_age(self):\n",
    "        return self.__age\n",
    "    def get_info(self):\n",
    "        return f\"Name : {self.__name} , Age : {self.__age}\"\n",
    "class Student(Person):\n",
    "    def __init__(self,name,age,student_id):\n",
    "        self.__student_id = student_id\n",
    "        super().__init__(name,age)\n",
    "    def get_student_id(self):\n",
    "        return self.__student_id\n",
    "    def get_info(self):\n",
    "        return f\"Student ID : {self.__student_id},{super().get_info()}\"\n",
    "class Teacher(Person):\n",
    "    def __init__(self,name,age,employee_id):\n",
    "        self.__employee_id = employee_id\n",
    "        super().__init__(name,age)\n",
    "    def get_employee_id(self):\n",
    "        return self.__employee_id\n",
    "    def get_info(self):\n",
    "        return f\"Employee ID : {self.__employee_id},{super().get_info()}\"\n",
    "class Courses(Person):\n",
    "    def __init__(self,course_name,teacher):\n",
    "        self.__course_name = course_name\n",
    "        self.__teacher = teacher\n",
    "        self.__students = []\n",
    "    def enroll_student(self,student):\n",
    "        if isinstance(student,Student):\n",
    "            self.__students.append(student)\n",
    "            print(f\"{student.get_name()} has been enrolled in {self.__course_name}\")\n",
    "        else:\n",
    "            print(\"Invalid student object\")\n",
    "    def get_course_info(self):\n",
    "        student_names = [student.get_name() for student in self.__students]\n",
    "        return (f\"Course Name : {self.__course_name}\", f\"Teacher : {self.__teacher.get_name()}\", f\"Students : {''.join(student_names)}\")\n",
    "\n",
    "student1 = Student('Alice',20,'A24272')\n",
    "student2 = Student('Bunny',19,'B97783jungkook')\n",
    "teacher = Teacher('Mr.Sam',40,'S98978095')\n",
    "courses = Courses('Mathematics',teacher)\n",
    "courses.enroll_student(student1)\n",
    "courses.enroll_student(student2)\n",
    "\n",
    "print(student1.get_info())\n",
    "print(teacher.get_info())\n",
    "print(courses.get_course_info())"
   ]
  },
  {
   "cell_type": "code",
   "execution_count": 6,
   "id": "008a0d3d-8fec-4c89-a49f-45e9ecd64d37",
   "metadata": {},
   "outputs": [
    {
     "name": "stdout",
     "output_type": "stream",
     "text": [
      "3000\n"
     ]
    }
   ],
   "source": [
    "# Question number 13:\n",
    "# Data hiding = is a concept in oops which is used to hide internal object details from outside access. This is ensure that the internal object is not directly accessible from external code.\n",
    "# Importance of data hiding in Encapsulation:\n",
    "# 1) Protection Of internal state = Data hiding protects an internal data from harmful modification. \n",
    "# 2) Implementation independance.\n",
    "# 3) Encapsulation of complexity.\n",
    "# 4) Improved code maintainability.\n",
    "# 5) Enhanced security.\n",
    "# EXAMPLE:\n",
    "class Bankaccount:\n",
    "    def __init__(self,acc_num,balance=0):\n",
    "        self.__acc_num = acc_num\n",
    "        self.__balance = balance\n",
    "    def Deposite(self,amount):\n",
    "        if amount>0:\n",
    "            self.__balance += amount\n",
    "        else:\n",
    "            print('Amount must be positive.')\n",
    "    def Withdraw(self):\n",
    "        if 0<amount<=self.__balance:\n",
    "            self.__balance -= amount\n",
    "        else:\n",
    "            print('Invalid amount')\n",
    "    def get_balance(self):\n",
    "        return self.__balance\n",
    "\n",
    "account = Bankaccount('123456789',2000)\n",
    "account.Deposite(1000)\n",
    "print(account.get_balance())"
   ]
  },
  {
   "cell_type": "code",
   "execution_count": null,
   "id": "8f2c7f49-96e7-4e0e-a5c8-467cadf11b6e",
   "metadata": {},
   "outputs": [],
   "source": []
  },
  {
   "cell_type": "code",
   "execution_count": 2,
   "id": "a9b55e8f-8050-4bb7-8313-2b5c2e05fc51",
   "metadata": {},
   "outputs": [
    {
     "name": "stdout",
     "output_type": "stream",
     "text": [
      "50000\n",
      "123456789\n"
     ]
    },
    {
     "ename": "TypeError",
     "evalue": "unsupported operand type(s) for /: 'str' and 'int'",
     "output_type": "error",
     "traceback": [
      "\u001b[1;31m---------------------------------------------------------------------------\u001b[0m",
      "\u001b[1;31mTypeError\u001b[0m                                 Traceback (most recent call last)",
      "Cell \u001b[1;32mIn[2], line 25\u001b[0m\n\u001b[0;32m     23\u001b[0m \u001b[38;5;28mprint\u001b[39m(employee\u001b[38;5;241m.\u001b[39mget_salary())\n\u001b[0;32m     24\u001b[0m \u001b[38;5;28mprint\u001b[39m(employee\u001b[38;5;241m.\u001b[39mget_employee_id())\n\u001b[1;32m---> 25\u001b[0m \u001b[38;5;28mprint\u001b[39m(\u001b[43memployee\u001b[49m\u001b[38;5;241;43m.\u001b[39;49m\u001b[43mCalculate_yearly_Bonus\u001b[49m\u001b[43m(\u001b[49m\u001b[38;5;241;43m10\u001b[39;49m\u001b[43m)\u001b[49m)\n",
      "Cell \u001b[1;32mIn[2], line 17\u001b[0m, in \u001b[0;36mEmployee.Calculate_yearly_Bonus\u001b[1;34m(self, bonus_percentage)\u001b[0m\n\u001b[0;32m     15\u001b[0m \u001b[38;5;28;01mdef\u001b[39;00m \u001b[38;5;21mCalculate_yearly_Bonus\u001b[39m(\u001b[38;5;28mself\u001b[39m,bonus_percentage):\n\u001b[0;32m     16\u001b[0m     \u001b[38;5;28;01mif\u001b[39;00m \u001b[38;5;241m0\u001b[39m\u001b[38;5;241m<\u001b[39mbonus_percentage\u001b[38;5;241m<\u001b[39m\u001b[38;5;241m=\u001b[39m\u001b[38;5;241m100\u001b[39m:\n\u001b[1;32m---> 17\u001b[0m         bonus \u001b[38;5;241m=\u001b[39m \u001b[43m(\u001b[49m\u001b[38;5;28;43mself\u001b[39;49m\u001b[38;5;241;43m.\u001b[39;49m\u001b[43m__salary\u001b[49m\u001b[38;5;241;43m*\u001b[39;49m\u001b[43mbonus_percentage\u001b[49m\u001b[43m)\u001b[49m\u001b[38;5;241;43m/\u001b[39;49m\u001b[38;5;241;43m100\u001b[39;49m\n\u001b[0;32m     18\u001b[0m         \u001b[38;5;28;01mreturn\u001b[39;00m bonus\n\u001b[0;32m     19\u001b[0m     \u001b[38;5;28;01melse\u001b[39;00m:\n",
      "\u001b[1;31mTypeError\u001b[0m: unsupported operand type(s) for /: 'str' and 'int'"
     ]
    }
   ],
   "source": [
    "# Question Number 14:\n",
    "class Employee:\n",
    "    def __init__(self,salary,employee_id):\n",
    "        self.__salary = salary\n",
    "        self.__employee_id = employee_id\n",
    "    def get_salary(self):\n",
    "        return self.__salary\n",
    "    def get_employee_id(self):\n",
    "        return self.__employee_id\n",
    "    def set_salary(self,salary):\n",
    "        if salary>=0:\n",
    "            self.__salary = salary\n",
    "        else:\n",
    "            print('Salary must be positive number')\n",
    "    def Calculate_yearly_Bonus(self,bonus_percentage):\n",
    "        if 0<bonus_percentage<=100:\n",
    "            bonus = (self.__salary*bonus_percentage)/100\n",
    "            return bonus\n",
    "        else:\n",
    "            print('Bonus Percenatage must be between 0 and 100')\n",
    "\n",
    "employee = Employee('50000','123456789')\n",
    "print(employee.get_salary())\n",
    "print(employee.get_employee_id())\n",
    "print(employee.Calculate_yearly_Bonus(10))"
   ]
  },
  {
   "cell_type": "code",
   "execution_count": null,
   "id": "373ba532-29ae-4900-aa0f-e846a204e423",
   "metadata": {},
   "outputs": [],
   "source": []
  },
  {
   "cell_type": "code",
   "execution_count": null,
   "id": "37c5e0f9-acfe-4c66-91b5-350874e56eac",
   "metadata": {},
   "outputs": [],
   "source": []
  },
  {
   "cell_type": "code",
   "execution_count": null,
   "id": "1161fd92-90da-4cdd-99cc-f0602fd8be1f",
   "metadata": {},
   "outputs": [],
   "source": []
  },
  {
   "cell_type": "code",
   "execution_count": null,
   "id": "36a707e4-e277-4830-8669-42a1cf9e7e04",
   "metadata": {},
   "outputs": [],
   "source": []
  },
  {
   "cell_type": "code",
   "execution_count": null,
   "id": "34a33153-34ff-45c5-9a22-14e3e6c6e4ae",
   "metadata": {},
   "outputs": [],
   "source": []
  },
  {
   "cell_type": "code",
   "execution_count": null,
   "id": "2e7d6259-a193-48bb-8186-b7e6ca61c71e",
   "metadata": {},
   "outputs": [],
   "source": []
  },
  {
   "cell_type": "code",
   "execution_count": null,
   "id": "cbdd5a97-53ba-4305-b240-3e1cceaa86a7",
   "metadata": {},
   "outputs": [],
   "source": []
  },
  {
   "cell_type": "code",
   "execution_count": null,
   "id": "33e39b94-aa8f-4b21-ad6c-76e82823bd63",
   "metadata": {},
   "outputs": [],
   "source": []
  },
  {
   "cell_type": "code",
   "execution_count": null,
   "id": "e2e0ff34-d398-4e6b-8a8c-a1dd0bb34017",
   "metadata": {},
   "outputs": [],
   "source": []
  },
  {
   "cell_type": "code",
   "execution_count": null,
   "id": "4d3ffa01-7a4d-4560-ab39-bd33100fee6a",
   "metadata": {},
   "outputs": [],
   "source": []
  },
  {
   "cell_type": "code",
   "execution_count": null,
   "id": "e5bc0069-fca0-40dc-a1ee-bfde1224749a",
   "metadata": {},
   "outputs": [],
   "source": []
  },
  {
   "cell_type": "code",
   "execution_count": null,
   "id": "911246ae-bb4b-40ab-9039-6399ff60e64d",
   "metadata": {},
   "outputs": [],
   "source": []
  },
  {
   "cell_type": "code",
   "execution_count": null,
   "id": "37e1949b-d2cc-4dfc-af00-f51f0bab3fe6",
   "metadata": {},
   "outputs": [],
   "source": []
  },
  {
   "cell_type": "code",
   "execution_count": null,
   "id": "81e508b5-8676-48c5-a521-4a224ac8cd68",
   "metadata": {},
   "outputs": [],
   "source": []
  },
  {
   "cell_type": "code",
   "execution_count": null,
   "id": "503f49c9-645a-408c-b416-975cab2ca30e",
   "metadata": {},
   "outputs": [],
   "source": []
  },
  {
   "cell_type": "code",
   "execution_count": null,
   "id": "fafd1897-f9ce-4e7d-a92c-874984109492",
   "metadata": {},
   "outputs": [],
   "source": []
  },
  {
   "cell_type": "code",
   "execution_count": null,
   "id": "76b8982d-354d-4369-b1f6-cfb4655cdfe0",
   "metadata": {},
   "outputs": [],
   "source": []
  },
  {
   "cell_type": "code",
   "execution_count": null,
   "id": "e2d3d687-fed7-4514-9923-d012ff9c1d42",
   "metadata": {},
   "outputs": [],
   "source": []
  },
  {
   "cell_type": "code",
   "execution_count": null,
   "id": "74ddd207-8e9f-4cbe-88b3-9959397b776e",
   "metadata": {},
   "outputs": [],
   "source": []
  },
  {
   "cell_type": "code",
   "execution_count": null,
   "id": "58ca202e-787a-4c79-b67b-3278247edf76",
   "metadata": {},
   "outputs": [],
   "source": []
  },
  {
   "cell_type": "code",
   "execution_count": null,
   "id": "e5716e3d-c8b6-480e-8d45-7088657c8aa8",
   "metadata": {},
   "outputs": [],
   "source": []
  },
  {
   "cell_type": "code",
   "execution_count": null,
   "id": "b541d210-a2b2-496d-a7a0-018bbee608cf",
   "metadata": {},
   "outputs": [],
   "source": []
  },
  {
   "cell_type": "code",
   "execution_count": null,
   "id": "2b87e258-5aaa-43c8-bbea-04a18706a96a",
   "metadata": {},
   "outputs": [],
   "source": []
  },
  {
   "cell_type": "code",
   "execution_count": null,
   "id": "43ebcb38-d2d5-4019-9356-66492ce5a5e4",
   "metadata": {},
   "outputs": [],
   "source": []
  },
  {
   "cell_type": "code",
   "execution_count": null,
   "id": "2e0e42ff-daff-4916-9535-e405217ca90b",
   "metadata": {},
   "outputs": [],
   "source": []
  },
  {
   "cell_type": "code",
   "execution_count": null,
   "id": "5cab7fc3-3fb7-4940-bcab-000e3bf7c1e3",
   "metadata": {},
   "outputs": [],
   "source": []
  },
  {
   "cell_type": "code",
   "execution_count": null,
   "id": "420959c5-dce6-49a0-bcef-1a21328a010a",
   "metadata": {},
   "outputs": [],
   "source": []
  },
  {
   "cell_type": "code",
   "execution_count": null,
   "id": "51c487a3-39e9-47d6-9ee5-bb68194df4ad",
   "metadata": {},
   "outputs": [],
   "source": []
  },
  {
   "cell_type": "code",
   "execution_count": null,
   "id": "d9580eec-5a4f-42e5-8d01-7d7b5c2872e4",
   "metadata": {},
   "outputs": [],
   "source": []
  },
  {
   "cell_type": "code",
   "execution_count": null,
   "id": "a9c547f4-c14f-466c-8fcd-27e2908d1271",
   "metadata": {},
   "outputs": [],
   "source": []
  },
  {
   "cell_type": "code",
   "execution_count": null,
   "id": "a449dda0-b8de-42b4-856c-5490f7d75bdb",
   "metadata": {},
   "outputs": [],
   "source": []
  },
  {
   "cell_type": "code",
   "execution_count": null,
   "id": "163dca1f-49a0-4a7a-b274-45debe072694",
   "metadata": {},
   "outputs": [],
   "source": []
  },
  {
   "cell_type": "code",
   "execution_count": null,
   "id": "42052857-0307-41e2-96b8-b3175c085e2a",
   "metadata": {},
   "outputs": [],
   "source": []
  },
  {
   "cell_type": "code",
   "execution_count": null,
   "id": "8d409948-e377-4b3d-a59f-8c1c4e20ae64",
   "metadata": {},
   "outputs": [],
   "source": []
  },
  {
   "cell_type": "code",
   "execution_count": null,
   "id": "e5e39448-095d-41d1-b56a-3f700cab8c8b",
   "metadata": {},
   "outputs": [],
   "source": []
  },
  {
   "cell_type": "code",
   "execution_count": null,
   "id": "6d628eca-8b9a-4cc7-afc3-fdaf1e926a20",
   "metadata": {},
   "outputs": [],
   "source": []
  },
  {
   "cell_type": "code",
   "execution_count": null,
   "id": "56f4465e-2a1c-4a93-8462-288496e3c00d",
   "metadata": {},
   "outputs": [],
   "source": []
  },
  {
   "cell_type": "code",
   "execution_count": null,
   "id": "87916a1b-e04e-4244-8b08-4b5bad45f351",
   "metadata": {},
   "outputs": [],
   "source": []
  },
  {
   "cell_type": "code",
   "execution_count": null,
   "id": "31d4ffdb-61ce-46a4-ba16-af6db4437b68",
   "metadata": {},
   "outputs": [],
   "source": []
  },
  {
   "cell_type": "code",
   "execution_count": null,
   "id": "72234ca9-0555-4238-92c9-79df80af8bb9",
   "metadata": {},
   "outputs": [],
   "source": []
  },
  {
   "cell_type": "code",
   "execution_count": null,
   "id": "a9854a77-341b-4a8b-a53c-9794d081f126",
   "metadata": {},
   "outputs": [],
   "source": []
  },
  {
   "cell_type": "code",
   "execution_count": null,
   "id": "b63ac7f2-5c0d-4130-9dc5-61e663a5ed29",
   "metadata": {},
   "outputs": [],
   "source": []
  },
  {
   "cell_type": "code",
   "execution_count": null,
   "id": "d7a5108b-3b9a-4c4a-917b-6cd5a030d7cc",
   "metadata": {},
   "outputs": [],
   "source": []
  },
  {
   "cell_type": "code",
   "execution_count": null,
   "id": "18f8c675-6cb5-4a6d-a74d-89c2d20b46a2",
   "metadata": {},
   "outputs": [],
   "source": []
  },
  {
   "cell_type": "code",
   "execution_count": null,
   "id": "cda1c738-94fc-48a8-85b9-a152531680a3",
   "metadata": {},
   "outputs": [],
   "source": []
  },
  {
   "cell_type": "code",
   "execution_count": null,
   "id": "37951675-a4f0-4a17-8bc5-7aadc7c276ad",
   "metadata": {},
   "outputs": [],
   "source": []
  },
  {
   "cell_type": "code",
   "execution_count": null,
   "id": "6c4874de-de71-4f7b-bb07-7ff6e0cd85ba",
   "metadata": {},
   "outputs": [],
   "source": []
  },
  {
   "cell_type": "code",
   "execution_count": null,
   "id": "caf8d502-94fe-4d57-bd90-ac5919d45bf4",
   "metadata": {},
   "outputs": [],
   "source": []
  },
  {
   "cell_type": "code",
   "execution_count": null,
   "id": "137dcdbc-e5b2-4485-9218-70afc4ec468d",
   "metadata": {},
   "outputs": [],
   "source": []
  },
  {
   "cell_type": "code",
   "execution_count": null,
   "id": "c7500ad0-6c3e-47ec-b461-505e6fd2b994",
   "metadata": {},
   "outputs": [],
   "source": []
  },
  {
   "cell_type": "code",
   "execution_count": null,
   "id": "a5614562-9341-4ce4-a187-90c7fa6daa18",
   "metadata": {},
   "outputs": [],
   "source": []
  },
  {
   "cell_type": "code",
   "execution_count": null,
   "id": "5d6a1797-5969-4d5c-966d-be4da00e8f32",
   "metadata": {},
   "outputs": [],
   "source": []
  },
  {
   "cell_type": "code",
   "execution_count": null,
   "id": "1fa00001-53cf-42fc-b917-03026f86af45",
   "metadata": {},
   "outputs": [],
   "source": []
  },
  {
   "cell_type": "code",
   "execution_count": null,
   "id": "6bd5fbb2-382f-41d5-ab30-9a8a7ebdbfa2",
   "metadata": {},
   "outputs": [],
   "source": []
  },
  {
   "cell_type": "code",
   "execution_count": null,
   "id": "048141f9-4883-4f5e-96db-ad25d228b122",
   "metadata": {},
   "outputs": [],
   "source": []
  },
  {
   "cell_type": "code",
   "execution_count": null,
   "id": "4042e982-bfa2-45b0-a44e-17783e72815b",
   "metadata": {},
   "outputs": [],
   "source": []
  },
  {
   "cell_type": "code",
   "execution_count": null,
   "id": "8ea994c8-bc88-4c0f-a04e-b7a3e75e187e",
   "metadata": {},
   "outputs": [],
   "source": []
  },
  {
   "cell_type": "code",
   "execution_count": null,
   "id": "abad3a04-8e15-4e35-887b-0f19b52e49b6",
   "metadata": {},
   "outputs": [],
   "source": []
  },
  {
   "cell_type": "code",
   "execution_count": null,
   "id": "8a4b4c5b-8a68-4dac-add1-ba72ff2227ca",
   "metadata": {},
   "outputs": [],
   "source": []
  },
  {
   "cell_type": "code",
   "execution_count": null,
   "id": "a99df716-53c9-48e5-b837-a73fd7060495",
   "metadata": {},
   "outputs": [],
   "source": []
  },
  {
   "cell_type": "code",
   "execution_count": null,
   "id": "8e8e31a5-61ba-4cf6-adb4-20f3f6f9043e",
   "metadata": {},
   "outputs": [],
   "source": []
  },
  {
   "cell_type": "code",
   "execution_count": null,
   "id": "725d1370-dff0-41b1-938d-1290dec7e5f8",
   "metadata": {},
   "outputs": [],
   "source": []
  },
  {
   "cell_type": "code",
   "execution_count": null,
   "id": "a9ea124a-c6aa-435c-8084-047e9bfaf9be",
   "metadata": {},
   "outputs": [],
   "source": []
  },
  {
   "cell_type": "code",
   "execution_count": null,
   "id": "4ae51c3c-c1a8-4a4b-9979-08d6a117ac58",
   "metadata": {},
   "outputs": [],
   "source": []
  },
  {
   "cell_type": "code",
   "execution_count": null,
   "id": "ee07e8b2-bd98-4af9-a625-c87ce6000a5f",
   "metadata": {},
   "outputs": [],
   "source": []
  },
  {
   "cell_type": "code",
   "execution_count": null,
   "id": "3b5fffd6-3ba8-4b80-b1f1-f9ce3a1980d9",
   "metadata": {},
   "outputs": [],
   "source": []
  },
  {
   "cell_type": "code",
   "execution_count": null,
   "id": "2560e9b8-ea86-4600-a19f-1d584468b8ac",
   "metadata": {},
   "outputs": [],
   "source": []
  },
  {
   "cell_type": "code",
   "execution_count": null,
   "id": "2117e5a6-f686-4862-b2e6-e86655c90e5a",
   "metadata": {},
   "outputs": [],
   "source": []
  },
  {
   "cell_type": "code",
   "execution_count": null,
   "id": "425313de-2681-4c30-b40d-fb838524b142",
   "metadata": {},
   "outputs": [],
   "source": []
  },
  {
   "cell_type": "code",
   "execution_count": null,
   "id": "0fce3aae-aa49-44cf-b5e3-0267e3d55749",
   "metadata": {},
   "outputs": [],
   "source": []
  },
  {
   "cell_type": "code",
   "execution_count": null,
   "id": "f5a09113-37d6-420a-b075-e289383b1c91",
   "metadata": {},
   "outputs": [],
   "source": []
  },
  {
   "cell_type": "code",
   "execution_count": null,
   "id": "9eae7b9f-aa79-4263-bc62-7162231ed37d",
   "metadata": {},
   "outputs": [],
   "source": []
  },
  {
   "cell_type": "code",
   "execution_count": null,
   "id": "3582f539-588b-4502-83ac-bf152d67a1ab",
   "metadata": {},
   "outputs": [],
   "source": []
  }
 ],
 "metadata": {
  "kernelspec": {
   "display_name": "Python 3 (ipykernel)",
   "language": "python",
   "name": "python3"
  },
  "language_info": {
   "codemirror_mode": {
    "name": "ipython",
    "version": 3
   },
   "file_extension": ".py",
   "mimetype": "text/x-python",
   "name": "python",
   "nbconvert_exporter": "python",
   "pygments_lexer": "ipython3",
   "version": "3.11.5"
  }
 },
 "nbformat": 4,
 "nbformat_minor": 5
}
