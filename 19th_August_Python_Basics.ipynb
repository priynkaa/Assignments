{
 "cells": [
  {
   "cell_type": "markdown",
   "id": "02e0d128-3706-43da-a1b3-63795a9033f0",
   "metadata": {},
   "source": [
    "\n",
    "### pyathon basic variables "
   ]
  },
  {
   "cell_type": "code",
   "execution_count": 1,
   "id": "61c44910-21f3-4e43-8ace-4e248315c297",
   "metadata": {},
   "outputs": [
    {
     "name": "stdout",
     "output_type": "stream",
     "text": [
      "36 28\n"
     ]
    }
   ],
   "source": [
    "# question number 1 \n",
    "x,y=28,36               #defining two variables at ones for concise code\n",
    "x,y=y,x                 #swaping variables x=y,y=x\n",
    "print(x,y)"
   ]
  },
  {
   "cell_type": "code",
   "execution_count": 6,
   "id": "8f011282-30f7-43be-bf37-d262fbfb6a84",
   "metadata": {},
   "outputs": [
    {
     "name": "stdin",
     "output_type": "stream",
     "text": [
      "Enter length of the rectangle:  9\n",
      "Enter width of the rectangle:  5\n"
     ]
    },
    {
     "name": "stdout",
     "output_type": "stream",
     "text": [
      "Area of the rectangle is 45\n"
     ]
    }
   ],
   "source": [
    "#Question number 2 \n",
    "length = int(input('Enter length of the rectangle: ')) #by default input() function return a string so, im using int() function to convert string to ineteger\n",
    "width = int(input('Enter width of the rectangle: '))\n",
    "Area = length*width                                    #area of the rectange= L*W\n",
    "print('Area of the rectangle is '+str(Area))           #casting integer Area to stirng using str() function\n",
    "                                                       #because we cant concatenate string with integer"
   ]
  },
  {
   "cell_type": "code",
   "execution_count": 10,
   "id": "61011b07-11a0-4c2b-b260-e9f847f897de",
   "metadata": {},
   "outputs": [
    {
     "name": "stdin",
     "output_type": "stream",
     "text": [
      "Enter calsius value:  33\n"
     ]
    },
    {
     "name": "stdout",
     "output_type": "stream",
     "text": [
      "91.4 ℉\n"
     ]
    }
   ],
   "source": [
    "# Question number 3\n",
    "C = int(input('Enter calsius value: '))\n",
    "F = (9/5)*C+32                                        #formula of converting celsius to fahrenheit=(9/5)*C+32 \n",
    "print(str(F)+' ℉')"
   ]
  },
  {
   "cell_type": "markdown",
   "id": "45b184a8-9091-4490-a24c-0e1e97a71ead",
   "metadata": {},
   "source": [
    "### String based questions "
   ]
  },
  {
   "cell_type": "code",
   "execution_count": 13,
   "id": "5a4506e0-9206-4bf9-aa31-17543cb582c1",
   "metadata": {},
   "outputs": [
    {
     "name": "stdin",
     "output_type": "stream",
     "text": [
      " apple\n"
     ]
    },
    {
     "name": "stdout",
     "output_type": "stream",
     "text": [
      "5\n"
     ]
    }
   ],
   "source": [
    "#question number 1 \n",
    "x = input()\n",
    "length = len(x)                                      #using len() funtion to count the length of string \n",
    "print(length)"
   ]
  },
  {
   "cell_type": "code",
   "execution_count": 2,
   "id": "847fb7dc-2dcf-40de-a277-85803650e1c0",
   "metadata": {},
   "outputs": [
    {
     "name": "stdin",
     "output_type": "stream",
     "text": [
      "write your sentence and I will retrns the number of vowels inside it:  santosh\n"
     ]
    },
    {
     "name": "stdout",
     "output_type": "stream",
     "text": [
      "a: 1 e: 0 i: 0 o: 1 u: 0\n"
     ]
    }
   ],
   "source": [
    "#Question number 2\n",
    "x = input('write your sentence and I will retrns the number of vowels inside it: ').lower()\n",
    "a=x.count('a')                                      #using count() function to count (a,e,i,o,u) in user input string \n",
    "e=x.count('e')\n",
    "i=x.count('i')\n",
    "o=x.count('o')\n",
    "u=x.count('u')\n",
    "print(\"a:\",a,\"e:\",e,\"i:\",i,\"o:\",o,\"u:\",u)"
   ]
  },
  {
   "cell_type": "code",
   "execution_count": 37,
   "id": "a44429d5-93ab-4fc7-b8fc-6e7dfeb0a217",
   "metadata": {},
   "outputs": [
    {
     "name": "stdin",
     "output_type": "stream",
     "text": [
      " priyanka\n"
     ]
    },
    {
     "name": "stdout",
     "output_type": "stream",
     "text": [
      "aknayirp\n"
     ]
    }
   ],
   "source": [
    "#Question number 3 \n",
    "x =input()\n",
    "R=x[::-1]                                   #using string slicing to print the reversed string \n",
    "print(R)"
   ]
  },
  {
   "cell_type": "code",
   "execution_count": 4,
   "id": "036f976b-95f8-4bd1-8bac-58eabe741974",
   "metadata": {},
   "outputs": [
    {
     "name": "stdin",
     "output_type": "stream",
     "text": [
      "write your word madam\n"
     ]
    },
    {
     "name": "stdout",
     "output_type": "stream",
     "text": [
      "its palindrome\n"
     ]
    }
   ],
   "source": [
    "#question number = 4\n",
    "x=input(\"write your word: \")                  #by default input fucntion return input in string format \n",
    "if x==x[::-1]:                               #condition to check the user input if its 'palindrome' or not\n",
    "    print(\"its palindrome\")\n",
    "else:\n",
    "    print(\"its not palindrome\")\n"
   ]
  },
  {
   "cell_type": "code",
   "execution_count": 4,
   "id": "aac7f84b-6bfa-4042-ad09-da3f62875e07",
   "metadata": {},
   "outputs": [
    {
     "name": "stdin",
     "output_type": "stream",
     "text": [
      "write your sentence priyan ka\n"
     ]
    },
    {
     "name": "stdout",
     "output_type": "stream",
     "text": [
      "priyanka\n"
     ]
    }
   ],
   "source": [
    "#Question number 5\n",
    "x = input(\"write your sentence\")\n",
    "p = x.replace(\" \",\"\")                      #using replace() function to remove space between input sentence \n",
    "print(p)"
   ]
  },
  {
   "cell_type": "code",
   "execution_count": null,
   "id": "d330bb6b-e333-4b1f-a4ff-4c9ac7c7c867",
   "metadata": {},
   "outputs": [],
   "source": []
  },
  {
   "cell_type": "code",
   "execution_count": null,
   "id": "fe7924fc-9d8d-418d-9f00-6a90f92f2a68",
   "metadata": {},
   "outputs": [],
   "source": []
  },
  {
   "cell_type": "code",
   "execution_count": null,
   "id": "384c1cd7-7a18-4a37-a04e-f92a1813e0c8",
   "metadata": {},
   "outputs": [],
   "source": []
  },
  {
   "cell_type": "code",
   "execution_count": null,
   "id": "76d98e93-105a-4aa5-ad3f-afb6cdc85a62",
   "metadata": {},
   "outputs": [],
   "source": []
  },
  {
   "cell_type": "code",
   "execution_count": null,
   "id": "74c03aea-2249-4039-8297-8e79e71bba08",
   "metadata": {},
   "outputs": [],
   "source": []
  }
 ],
 "metadata": {
  "kernelspec": {
   "display_name": "Python 3 (ipykernel)",
   "language": "python",
   "name": "python3"
  },
  "language_info": {
   "codemirror_mode": {
    "name": "ipython",
    "version": 3
   },
   "file_extension": ".py",
   "mimetype": "text/x-python",
   "name": "python",
   "nbconvert_exporter": "python",
   "pygments_lexer": "ipython3",
   "version": "3.11.5"
  }
 },
 "nbformat": 4,
 "nbformat_minor": 5
}
