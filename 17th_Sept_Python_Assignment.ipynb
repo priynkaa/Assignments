{
 "cells": [
  {
   "cell_type": "markdown",
   "id": "47b59808-4711-4b10-ad87-dc51cf721c89",
   "metadata": {},
   "source": [
    "## Assigment Number 5:"
   ]
  },
  {
   "cell_type": "markdown",
   "id": "a9082120-9391-42a4-9f72-dbd097b636f7",
   "metadata": {},
   "source": [
    "### For loop:"
   ]
  },
  {
   "cell_type": "code",
   "execution_count": 3,
   "id": "c09e22ac-0dd2-4349-907d-909929d739f2",
   "metadata": {},
   "outputs": [
    {
     "name": "stdout",
     "output_type": "stream",
     "text": [
      "1\n",
      "2\n",
      "3\n",
      "4\n",
      "5\n",
      "6\n",
      "7\n",
      "8\n",
      "9\n",
      "10\n"
     ]
    }
   ],
   "source": [
    "# Question Number 1:\n",
    "for i in range(1,11):\n",
    "    print(i)"
   ]
  },
  {
   "cell_type": "code",
   "execution_count": null,
   "id": "9ee6d129-ade0-4159-b3ef-ea7cf47aed4c",
   "metadata": {},
   "outputs": [],
   "source": [
    "# Question Number 2:\n",
    "# Answer: 1) for loop = for loop is used to iterate over a sequence (like list,tuple,string etc).\n",
    "#         2) while loop = while loop repeats a block of code as long as a specific condition is true."
   ]
  },
  {
   "cell_type": "code",
   "execution_count": 8,
   "id": "373cce42-a59e-47f8-9d7f-fb7dad6a439d",
   "metadata": {},
   "outputs": [
    {
     "name": "stdout",
     "output_type": "stream",
     "text": [
      "5050\n"
     ]
    }
   ],
   "source": [
    "# Question number 3:\n",
    "sum_of_numbers = 0\n",
    "for i in range(1,101):\n",
    "    sum_of_numbers+=i\n",
    "\n",
    "print(sum_of_numbers)"
   ]
  },
  {
   "cell_type": "code",
   "execution_count": 10,
   "id": "c7dc1b38-ecd2-4027-bfe4-1e87cfb68db3",
   "metadata": {},
   "outputs": [
    {
     "name": "stdout",
     "output_type": "stream",
     "text": [
      "1\n",
      "2\n",
      "3\n",
      "4\n",
      "5\n"
     ]
    }
   ],
   "source": [
    "# Question Number 4:\n",
    "my_list = [1,2,3,4,5]\n",
    "for i in my_list:      # this loop iterate through eaach item in the list 'my_list'. \n",
    "    print(i)"
   ]
  },
  {
   "cell_type": "code",
   "execution_count": 17,
   "id": "b2033bd8-04da-42cb-a859-822de844a011",
   "metadata": {},
   "outputs": [
    {
     "name": "stdout",
     "output_type": "stream",
     "text": [
      "120\n"
     ]
    }
   ],
   "source": [
    "# Question Number 5:\n",
    "def find_product(lst):\n",
    "    product=1\n",
    "    for i in lst:\n",
    "        product *= i\n",
    "    return product\n",
    "\n",
    "print(find_product([1,2,3,4,5]))"
   ]
  },
  {
   "cell_type": "code",
   "execution_count": 20,
   "id": "ce7f97b1-257b-4631-a869-2597662cb597",
   "metadata": {},
   "outputs": [
    {
     "name": "stdout",
     "output_type": "stream",
     "text": [
      "2\n",
      "4\n",
      "6\n",
      "8\n",
      "10\n",
      "12\n",
      "14\n",
      "16\n",
      "18\n"
     ]
    }
   ],
   "source": [
    "# Question Number 6:\n",
    "for i in range(1,20):\n",
    "    if i%2==0:\n",
    "        print(i)"
   ]
  },
  {
   "cell_type": "code",
   "execution_count": 21,
   "id": "26f2f4d2-33bf-42a3-9c69-479a6bf3250e",
   "metadata": {},
   "outputs": [
    {
     "name": "stdout",
     "output_type": "stream",
     "text": [
      "120\n"
     ]
    }
   ],
   "source": [
    "# Question Number 7:\n",
    "def factorial(n):\n",
    "    result = 1\n",
    "    for i in range(1,n+1):\n",
    "        result *= i\n",
    "    return result\n",
    "\n",
    "print(factorial(5))"
   ]
  },
  {
   "cell_type": "code",
   "execution_count": 4,
   "id": "6f86a45a-6d90-49f3-9646-f5ab8807ac25",
   "metadata": {},
   "outputs": [
    {
     "name": "stdout",
     "output_type": "stream",
     "text": [
      "H\n",
      "e\n",
      "l\n",
      "l\n",
      "o\n",
      " \n",
      "w\n",
      "o\n",
      "r\n",
      "l\n",
      "d\n"
     ]
    }
   ],
   "source": [
    "# Question Nuber 8:\n",
    "s = 'Hello world'\n",
    "for i in s:\n",
    "    print(i)"
   ]
  },
  {
   "cell_type": "code",
   "execution_count": 11,
   "id": "9a0c0b1a-1a7f-4bf7-ab0e-0e91304f2d4e",
   "metadata": {},
   "outputs": [
    {
     "name": "stdout",
     "output_type": "stream",
     "text": [
      "75\n"
     ]
    }
   ],
   "source": [
    "# Question Number 9:\n",
    "def maximum_num(n):\n",
    "    if len(n)==0:\n",
    "        return None\n",
    "    max_num = n[0]\n",
    "    for num in n:\n",
    "        if num > max_num:\n",
    "            max_num=num\n",
    "    return max_num\n",
    "\n",
    "print(maximum_num([8,45,2,3,75,1,2,6]))"
   ]
  },
  {
   "cell_type": "code",
   "execution_count": 18,
   "id": "5ec52ea4-4a45-425f-a980-8483cfc4d6d4",
   "metadata": {},
   "outputs": [
    {
     "name": "stdout",
     "output_type": "stream",
     "text": [
      "[0, 1, 1, 2, 3, 5, 8]\n"
     ]
    }
   ],
   "source": [
    "# Question Number 10:\n",
    "def fibonacci(limit):\n",
    "    sequence = []\n",
    "    a,b=0,1\n",
    "    for i in range(limit):\n",
    "        if a>limit:\n",
    "            break\n",
    "        sequence.append(a)\n",
    "        a,b=b,a+b\n",
    "    return sequence\n",
    "\n",
    "print(fibonacci(10))"
   ]
  },
  {
   "cell_type": "code",
   "execution_count": 30,
   "id": "bd9364fb-7b5f-49f3-9c63-daad0a230a02",
   "metadata": {},
   "outputs": [
    {
     "name": "stdout",
     "output_type": "stream",
     "text": [
      "6\n"
     ]
    }
   ],
   "source": [
    "# Question Number 11:\n",
    "def num_of_vowels(s):\n",
    "    v = 'a,e,i,o,u,A,E,I,O,U'\n",
    "    count = 0\n",
    "    for i in s:\n",
    "        if i in v:\n",
    "            count+=1\n",
    "    return count\n",
    "\n",
    "print(num_of_vowels('hey i am priyanka'))"
   ]
  },
  {
   "cell_type": "code",
   "execution_count": 25,
   "id": "759b2967-f41c-47c0-9648-9c98ed6bed1f",
   "metadata": {},
   "outputs": [
    {
     "name": "stdout",
     "output_type": "stream",
     "text": [
      "5*1=5\n",
      "5*2=10\n",
      "5*3=15\n",
      "5*4=20\n",
      "5*5=25\n",
      "5*6=30\n",
      "5*7=35\n",
      "5*8=40\n",
      "5*9=45\n",
      "5*10=50\n",
      "None\n"
     ]
    }
   ],
   "source": [
    "# Question Number 12:\n",
    "def multiplication_table(n):\n",
    "    for i in range(1,11):\n",
    "        print(f\"{n}*{i}={n*i}\")\n",
    "\n",
    "print(multiplication_table(5))"
   ]
  },
  {
   "cell_type": "code",
   "execution_count": 32,
   "id": "61ba8307-0823-4ec1-b6a6-36db5467fe71",
   "metadata": {},
   "outputs": [
    {
     "name": "stdout",
     "output_type": "stream",
     "text": [
      "[9, 8, 7, 6, 5, 4, 3, 2, 1]\n"
     ]
    }
   ],
   "source": [
    "# Question number 13:\n",
    "l = [1,2,3,4,5,6,7,8,9]\n",
    "for i in l:\n",
    "    a=l[::-1]\n",
    "\n",
    "print(a)"
   ]
  },
  {
   "cell_type": "code",
   "execution_count": 36,
   "id": "75a376d9-8ed4-4cde-b9ac-502d14bca964",
   "metadata": {},
   "outputs": [
    {
     "name": "stdout",
     "output_type": "stream",
     "text": [
      "[6, 2, 4, 5]\n"
     ]
    }
   ],
   "source": [
    "# Question Number 14:\n",
    "def common_element(l1,l2):\n",
    "    common = []\n",
    "    for i in l2:\n",
    "        if i in l1 not in common:\n",
    "            common.append(i)\n",
    "    return common\n",
    "\n",
    "print(common_element([1,2,3,4,5,6],[6,2,7,4,8,5,9]))"
   ]
  },
  {
   "cell_type": "code",
   "execution_count": 38,
   "id": "aa61c707-f420-435e-9bca-19b4162fe2d5",
   "metadata": {},
   "outputs": [
    {
     "name": "stdout",
     "output_type": "stream",
     "text": [
      "key: a value: 1\n",
      "key: b value: 2\n",
      "key: c value: 3\n"
     ]
    }
   ],
   "source": [
    "# Question number 15:\n",
    "#Answer = we can use the 'items()' method of a dictionary to iterate through its key and values simultaneously using a for loop.\n",
    "#example:\n",
    "my_dict = {'a':1,'b':2,'c':3}\n",
    "for key,value in my_dict.items():\n",
    "    print(\"key:\",key,\"value:\",value)"
   ]
  },
  {
   "cell_type": "code",
   "execution_count": 46,
   "id": "8a2edd2b-5bfe-4ffc-aa29-59310c134c81",
   "metadata": {},
   "outputs": [
    {
     "name": "stdout",
     "output_type": "stream",
     "text": [
      "Given string is Pallindrome\n"
     ]
    }
   ],
   "source": [
    "# Question Number 17:\n",
    "def pallindrome(s):\n",
    "    if s==s[::-1]:\n",
    "        return 'Given string is Pallindrome'\n",
    "    else:\n",
    "        return False\n",
    "\n",
    "print(pallindrome('madam'))"
   ]
  },
  {
   "cell_type": "code",
   "execution_count": 54,
   "id": "ab1f9fa4-4d36-4bee-a14a-555648eba3b4",
   "metadata": {},
   "outputs": [
    {
     "name": "stdout",
     "output_type": "stream",
     "text": [
      "[1, 2, 3, 4, 5, 6, 9, 8, 7]\n"
     ]
    }
   ],
   "source": [
    "# Question Number 18:\n",
    "def remove_duplicates(l):\n",
    "    unique_list = []\n",
    "    for i in l:\n",
    "        if i not in unique_list:\n",
    "            unique_list.append(i)\n",
    "    return unique_list\n",
    "    \n",
    "print(remove_duplicates([1,2,3,4,5,2,4,3,6,9,8,7,4,5,7,6]))"
   ]
  },
  {
   "cell_type": "code",
   "execution_count": 59,
   "id": "204995f3-8fdc-41f9-be8b-116f4b4db036",
   "metadata": {},
   "outputs": [
    {
     "name": "stdout",
     "output_type": "stream",
     "text": [
      "4\n"
     ]
    }
   ],
   "source": [
    "# Question number 19:\n",
    "def count_words(s):\n",
    "    word_count = 0\n",
    "    for i in s:\n",
    "        if i==' ':\n",
    "            word_count+=1\n",
    "    word_count+=1\n",
    "    return word_count\n",
    "\n",
    "print(count_words('hey i am priyanka'))"
   ]
  },
  {
   "cell_type": "code",
   "execution_count": 2,
   "id": "d8f0fc59-9ae9-4913-aea5-eb753227c115",
   "metadata": {},
   "outputs": [
    {
     "name": "stdout",
     "output_type": "stream",
     "text": [
      "625\n"
     ]
    }
   ],
   "source": [
    "# Question Number 20:\n",
    "sum_of_odd_numbers = 0\n",
    "for i in range(1,51):\n",
    "    if i%2!=0:\n",
    "        sum_of_odd_numbers+=i\n",
    "\n",
    "print(sum_of_odd_numbers)"
   ]
  },
  {
   "cell_type": "code",
   "execution_count": 5,
   "id": "49972ac5-754e-47e8-bc11-f74bc29708e2",
   "metadata": {},
   "outputs": [
    {
     "name": "stdout",
     "output_type": "stream",
     "text": [
      "True\n"
     ]
    }
   ],
   "source": [
    "# Question Number 21:\n",
    "def leap_year(year):\n",
    "    if (year%4==0 and year%100!=0) or year%400==0:\n",
    "        return True\n",
    "    else:\n",
    "        return False\n",
    "\n",
    "print(leap_year(2024))"
   ]
  },
  {
   "cell_type": "markdown",
   "id": "04c3875f-0989-4634-957a-d197386fbf73",
   "metadata": {},
   "source": [
    "### If-else questions:"
   ]
  },
  {
   "cell_type": "code",
   "execution_count": 6,
   "id": "17df7031-90d2-4fe2-9b27-4b2ffbf0b8dc",
   "metadata": {},
   "outputs": [
    {
     "name": "stdout",
     "output_type": "stream",
     "text": [
      "the given number is 'positive'\n"
     ]
    }
   ],
   "source": [
    "# Question Number 1:\n",
    "def find_num(n):\n",
    "    if n<0:\n",
    "        return \"the given number is 'negative'\"\n",
    "    elif n>0:\n",
    "        return \"the given number is 'positive'\"\n",
    "    elif n==0:\n",
    "        return \"the given numer is 'zero'\"\n",
    "    else:\n",
    "        return 'invalid number'\n",
    "\n",
    "print(find_num(16))"
   ]
  },
  {
   "cell_type": "code",
   "execution_count": 10,
   "id": "76f260f9-459e-42a4-a18c-5133fbbf8557",
   "metadata": {},
   "outputs": [
    {
     "name": "stdout",
     "output_type": "stream",
     "text": [
      "Odd number\n"
     ]
    }
   ],
   "source": [
    "# Question number 2:\n",
    "def odd_even(n):\n",
    "    if n%2==0:\n",
    "        return 'Even number'\n",
    "    else:\n",
    "        return 'Odd number'\n",
    "\n",
    "print(odd_even(15))"
   ]
  },
  {
   "cell_type": "code",
   "execution_count": 11,
   "id": "000ccfc7-e1ef-4123-adb3-b3c5eccc429d",
   "metadata": {},
   "outputs": [
    {
     "name": "stdin",
     "output_type": "stream",
     "text": [
      "enter a number -23\n"
     ]
    },
    {
     "name": "stdout",
     "output_type": "stream",
     "text": [
      "negative number\n"
     ]
    }
   ],
   "source": [
    "# Question Number 3:\n",
    "#Answer = we can use nested if-else statements to handle multiple conditions.\n",
    "num = int(input('enter a number'))\n",
    "if num>0:\n",
    "    print('positive number')\n",
    "else:\n",
    "    if num<0:\n",
    "        print('negative number')\n",
    "    else:\n",
    "        print('Zero')"
   ]
  },
  {
   "cell_type": "code",
   "execution_count": 13,
   "id": "d08263a9-51b8-4377-b1c9-d7cd24e96ce5",
   "metadata": {},
   "outputs": [
    {
     "name": "stdout",
     "output_type": "stream",
     "text": [
      "n2 is largest\n"
     ]
    }
   ],
   "source": [
    "# Question Number 4:\n",
    "def find_largest(n1,n2,n3):\n",
    "    if n1>n2 and n1>n3:\n",
    "        return 'n1 is largest'\n",
    "    elif n2>n1 and n2>n3:\n",
    "        return 'n2 is largest'\n",
    "    else:\n",
    "        return 'n3 is largest'\n",
    "\n",
    "print(find_largest(4,9,5))"
   ]
  },
  {
   "cell_type": "code",
   "execution_count": 14,
   "id": "62bd7991-ba1f-41c8-9435-c69e8d028750",
   "metadata": {},
   "outputs": [
    {
     "name": "stdout",
     "output_type": "stream",
     "text": [
      "2\n"
     ]
    }
   ],
   "source": [
    "# Question Number 5:\n",
    "def absolute_value(n):\n",
    "    if n>=0:\n",
    "        return n\n",
    "    else: \n",
    "        return -nc\n",
    "\n",
    "print(absolute_value(-2))"
   ]
  },
  {
   "cell_type": "code",
   "execution_count": 18,
   "id": "8c9b48f3-e42e-4683-8485-a4a2b53ba492",
   "metadata": {},
   "outputs": [
    {
     "name": "stdout",
     "output_type": "stream",
     "text": [
      "given character is 'constant'\n"
     ]
    }
   ],
   "source": [
    "# Question Number 6:\n",
    "def check_vowels_constant(c):\n",
    "    v = 'a,e,i,o,u,A,E,I,O,U'\n",
    "    if c in v:\n",
    "        return \"given character is'vowel'\"\n",
    "    else:\n",
    "        return \"given character is 'constant'\"\n",
    "\n",
    "print(check_vowels_constant('p'))"
   ]
  },
  {
   "cell_type": "code",
   "execution_count": 22,
   "id": "81055e66-c89c-49e2-b17e-0301a9aadb36",
   "metadata": {},
   "outputs": [
    {
     "name": "stdout",
     "output_type": "stream",
     "text": [
      "you are eligible to vote\n"
     ]
    }
   ],
   "source": [
    "# Question Number 7:\n",
    "def eligible_to_vote(age):\n",
    "    if age>=18:\n",
    "        return 'you are eligible to vote'\n",
    "    else:\n",
    "        return 'you are not eligible to vote'\n",
    "\n",
    "print(eligible_to_vote(24))"
   ]
  },
  {
   "cell_type": "code",
   "execution_count": 2,
   "id": "24074617-b450-45df-9183-8e044e46efd3",
   "metadata": {},
   "outputs": [
    {
     "name": "stdout",
     "output_type": "stream",
     "text": [
      "30.0\n"
     ]
    }
   ],
   "source": [
    "# Question Number 8:\n",
    "def give_discount_amount(p):\n",
    "    if p>=1000:\n",
    "        discount = p*0.1\n",
    "        return discount\n",
    "    elif p>=500:\n",
    "        discount = p*0.05\n",
    "        return discount\n",
    "    elif p>=200:\n",
    "        discount = p*0.03\n",
    "        return discount\n",
    "    else:\n",
    "        return 'no discount available'\n",
    "\n",
    "print(give_discount_amount(600))"
   ]
  },
  {
   "cell_type": "code",
   "execution_count": 6,
   "id": "8c8faef5-e3c6-4c3f-8779-b1007aa2fd6e",
   "metadata": {},
   "outputs": [
    {
     "name": "stdout",
     "output_type": "stream",
     "text": [
      "True\n"
     ]
    }
   ],
   "source": [
    "# Question Number 9:\n",
    "def check_num_in_range(greatest,lowest,num):\n",
    "    if lowest<=num<=greatest:\n",
    "        return True\n",
    "    else:\n",
    "        return False\n",
    "\n",
    "print(check_num_in_range(100,10,16))"
   ]
  },
  {
   "cell_type": "code",
   "execution_count": 9,
   "id": "72bd42c5-440d-448d-9d05-50a9bbadf839",
   "metadata": {},
   "outputs": [
    {
     "name": "stdout",
     "output_type": "stream",
     "text": [
      "C grade\n"
     ]
    }
   ],
   "source": [
    "# Queston Number 10:\n",
    "def giving_grade(s):\n",
    "    if 90<=s<=100:\n",
    "        return 'A grade'\n",
    "    elif 80<=s<=90:\n",
    "        return 'B grade'\n",
    "    elif 70<=s<=80:\n",
    "        return 'C grade'\n",
    "    elif 60<=s<=70:\n",
    "        return 'D grade'\n",
    "    elif 50<=s<=60:\n",
    "        return 'E grade'\n",
    "    else:\n",
    "        return 'F grade'\n",
    "\n",
    "print(giving_grade(78))"
   ]
  },
  {
   "cell_type": "code",
   "execution_count": 13,
   "id": "9241d722-20b6-47e6-857d-414e59fea41b",
   "metadata": {},
   "outputs": [
    {
     "name": "stdout",
     "output_type": "stream",
     "text": [
      "yes,given string is empty\n"
     ]
    }
   ],
   "source": [
    "# Question Number 11:\n",
    "def check_string_is_empty(s):\n",
    "    if s=='':\n",
    "        return 'yes,given string is empty'\n",
    "    else:\n",
    "        return 'no,given string is not empty'\n",
    "\n",
    "print(check_string_is_empty(''))"
   ]
  },
  {
   "cell_type": "code",
   "execution_count": 19,
   "id": "f2859ae6-0590-4ab4-8a73-1cd12bb657c6",
   "metadata": {},
   "outputs": [
    {
     "name": "stdout",
     "output_type": "stream",
     "text": [
      "isosceles Triangle\n"
     ]
    }
   ],
   "source": [
    "# Question number 12:\n",
    "def type_triangle(s1,s2,s3):\n",
    "    if s1==s2==s3:\n",
    "        return 'Equilateral Triangle'\n",
    "    elif s1==s2!=s3 or s1!=s2==s3 or s1==s3!=s2:\n",
    "        return 'isosceles Triangle'\n",
    "    elif s1!=s2!=s3:\n",
    "        return 'scalene Triangle'\n",
    "    else:\n",
    "        return 'inavalid Triangle'\n",
    "\n",
    "print(type_triangle(5,6,5))"
   ]
  },
  {
   "cell_type": "code",
   "execution_count": 20,
   "id": "a7cef622-8a79-4d04-b4ab-9e4d5b8abc42",
   "metadata": {},
   "outputs": [
    {
     "name": "stdout",
     "output_type": "stream",
     "text": [
      "Friday\n"
     ]
    }
   ],
   "source": [
    "# Question Number 13:\n",
    "def find_day_of_week(n):\n",
    "    if n==1:\n",
    "        return 'Monday'\n",
    "    elif n==2:\n",
    "        return 'Tuesday'\n",
    "    elif n==3:\n",
    "        return 'Wednesday'\n",
    "    elif n==4:\n",
    "        return 'Thursday'\n",
    "    elif n==5:\n",
    "        return 'Friday'\n",
    "    elif n==6:\n",
    "        return 'Saturday'\n",
    "    elif n==7:\n",
    "        return 'Sunday'\n",
    "    else:\n",
    "        return 'Invalid Number'\n",
    "\n",
    "print(find_day_of_week(5))"
   ]
  },
  {
   "cell_type": "code",
   "execution_count": 26,
   "id": "d8e25593-21bc-4408-a863-74a55b3afcea",
   "metadata": {},
   "outputs": [
    {
     "name": "stdout",
     "output_type": "stream",
     "text": [
      "True\n"
     ]
    }
   ],
   "source": [
    "# Question Number 14:\n",
    "def find_leap_year(year):\n",
    "    if (year%4==0 and year%100!=0) or year%400==0:\n",
    "        return True\n",
    "    else:\n",
    "        return False\n",
    "\n",
    "print(find_leap_year(2024))"
   ]
  },
  {
   "cell_type": "code",
   "execution_count": 5,
   "id": "390f0fe8-4c1a-428b-bdde-812dbab1eba6",
   "metadata": {},
   "outputs": [
    {
     "name": "stdout",
     "output_type": "stream",
     "text": [
      "congrats,you are ligible to senior sitizen discount\n"
     ]
    }
   ],
   "source": [
    "# Question Number 15:\n",
    "def eligibility_to_discount(age):\n",
    "    if age>=60:\n",
    "        return 'congrats,you are ligible to senior sitizen discount'\n",
    "    else:\n",
    "        return 'sorry, you are not eligible to senior sitizen discount'\n",
    "\n",
    "print(eligibility_to_discount(75))"
   ]
  },
  {
   "cell_type": "code",
   "execution_count": 9,
   "id": "d53b7d12-0ea5-4b4f-a489-bcd342eb5a0e",
   "metadata": {},
   "outputs": [
    {
     "name": "stdout",
     "output_type": "stream",
     "text": [
      "given character is uppercase\n"
     ]
    }
   ],
   "source": [
    "# Question Number 16:\n",
    "def categorize_lower_upper_case(c):\n",
    "    if c.isupper():\n",
    "        return 'given character is uppercase'\n",
    "    elif c.islower():\n",
    "        return 'given character is lowercase'\n",
    "    else:\n",
    "        return 'given character is nither upper nor lower case'\n",
    "\n",
    "print(categorize_lower_upper_case('P'))"
   ]
  },
  {
   "cell_type": "code",
   "execution_count": 16,
   "id": "96229237-c10c-4190-bdc4-ce4e82f7d368",
   "metadata": {},
   "outputs": [
    {
     "name": "stdout",
     "output_type": "stream",
     "text": [
      "Two complex roots\n",
      "root1: -0.6 + 0.6633249580710799 i\n",
      "root1: -0.6 - 0.6633249580710799 i\n"
     ]
    }
   ],
   "source": [
    "# Question Number 18:\n",
    "import math\n",
    "def root_quadratic_equation(a,b,c):\n",
    "    d = b**2-4*a*c\n",
    "    if d>0:\n",
    "        root1 = (-b+math.sqrt(d))/(2*a)\n",
    "        root2 = (-b-math.sqrt(d))/(2*a)\n",
    "        print('Two distinct real roots')\n",
    "        print('root1:',root1)\n",
    "        print('root2:',root2)\n",
    "    elif d==0:\n",
    "        root = -b/(2*a)\n",
    "        print('One real root')\n",
    "        print('root:',root)\n",
    "    else:\n",
    "        real_part = -b/(2*a)\n",
    "        imag_part = math.sqrt(abs(d))/(2*a)\n",
    "        print('Two complex roots')\n",
    "        print('root1:',real_part,'+',imag_part,'i')\n",
    "        print('root1:',real_part,'-',imag_part,'i')\n",
    "\n",
    "root_quadratic_equation(5,6,4)"
   ]
  },
  {
   "cell_type": "code",
   "execution_count": 29,
   "id": "9c5738f9-f344-4865-beb4-1cfaad0e81a4",
   "metadata": {},
   "outputs": [
    {
     "name": "stdout",
     "output_type": "stream",
     "text": [
      "No,given year is not a century year\n"
     ]
    }
   ],
   "source": [
    "# Question Number 19:\n",
    "def check_century_year(year):\n",
    "    if (year%4==0 and year%100!=0) or year%400==0:\n",
    "        return 'No,given year is not a century year'\n",
    "    else:\n",
    "        return 'Yes,given year is a century year'\n",
    "\n",
    "print(check_century_year(2024))"
   ]
  },
  {
   "cell_type": "code",
   "execution_count": 34,
   "id": "1e2aa2b8-d232-42ff-bcef-bf41d44cf484",
   "metadata": {},
   "outputs": [
    {
     "name": "stdout",
     "output_type": "stream",
     "text": [
      "given number is perfect square\n"
     ]
    }
   ],
   "source": [
    "# Question Number 20:\n",
    "def is_perfect_square(n):\n",
    "    if n<0:\n",
    "        return False\n",
    "    elif n==0:\n",
    "        return True\n",
    "    else:\n",
    "        sqr_num = n**0.5\n",
    "        perfect_sqr = sqr_num.is_integer()\n",
    "        if perfect_sqr==True:\n",
    "            return 'given number is perfect square'\n",
    "        else:\n",
    "            return 'No , given number is not perfect square'\n",
    "\n",
    "print(is_perfect_square(9))"
   ]
  },
  {
   "cell_type": "code",
   "execution_count": null,
   "id": "b8d2852c-3f5c-4bee-9f0a-ad510b1a9b43",
   "metadata": {},
   "outputs": [],
   "source": [
    "# Question number 21:\n",
    "# Answer : Continue = it tells the loop to stop the current iteration and go to the next one.so,if something specific happens and you want to skip some part of thr loop code , you use 'continue' to jump to the next iteration.\n",
    "#          Break = it tells the loop to stop now and exit . so, if you want to stop the loop early based on a condition , you use 'break' to exit the loop completely."
   ]
  },
  {
   "cell_type": "code",
   "execution_count": 4,
   "id": "d958d646-2a91-4812-8c3e-f0324c4780d3",
   "metadata": {},
   "outputs": [
    {
     "name": "stdout",
     "output_type": "stream",
     "text": [
      "you have a normal weight\n"
     ]
    }
   ],
   "source": [
    "# Question Number 22:\n",
    "def find_BMI(weight,height):\n",
    "    bmi = weight/(height**2)\n",
    "    if bmi<18.5:\n",
    "        return 'you are under-weight'\n",
    "    elif 18.5<=bmi<25:\n",
    "        return 'you have a normal weight'\n",
    "    elif 25<=bmi<30:\n",
    "        return 'you are over-weight'\n",
    "    else:\n",
    "        return 'you are obese'\n",
    "\n",
    "print(find_BMI(49,1.60))"
   ]
  },
  {
   "cell_type": "code",
   "execution_count": 6,
   "id": "628493bd-1086-4050-b536-3c7c15f61729",
   "metadata": {},
   "outputs": [
    {
     "name": "stdout",
     "output_type": "stream",
     "text": [
      "[2, 4, 6, 8, 10]\n"
     ]
    }
   ],
   "source": [
    "# Question Numer 23:\n",
    "# you can use filter() function with lambda funtion to filter elements from given list[] based on given condition.\n",
    "a = [1,2,3,4,5,6,7,8,9,10]\n",
    "filter_list = list(filter(lambda x: True if x%2==0 else False , a))\n",
    "print(filter_list)"
   ]
  },
  {
   "cell_type": "code",
   "execution_count": 7,
   "id": "8fd73dcc-7628-4bb7-a46d-f1f9bd92a31e",
   "metadata": {},
   "outputs": [
    {
     "name": "stdout",
     "output_type": "stream",
     "text": [
      "True\n"
     ]
    }
   ],
   "source": [
    "# Question Number 24:\n",
    "def is_prime(n):\n",
    "    if n<=1:\n",
    "        return False\n",
    "    elif n==2:\n",
    "        return True\n",
    "    else:\n",
    "        for i in range(2,int(n**0.5)+1):\n",
    "            if n%i==0:\n",
    "                return False\n",
    "            else:\n",
    "                return True\n",
    "\n",
    "print(is_prime(13))"
   ]
  },
  {
   "cell_type": "markdown",
   "id": "d4dc618c-cbd8-4b24-b080-dd0125cd4d37",
   "metadata": {},
   "source": [
    "### Map :"
   ]
  },
  {
   "cell_type": "code",
   "execution_count": 4,
   "id": "9285ad0c-ca25-4b6c-8493-e7f6b748d5d3",
   "metadata": {},
   "outputs": [
    {
     "name": "stdout",
     "output_type": "stream",
     "text": [
      "[2, 4, 6, 8, 10]\n"
     ]
    }
   ],
   "source": [
    "# Question Number 1:\n",
    "#Answer = it is used to apply a speified function to each item in a iterable(like list,tupe etc) and it turns a new iterable with the result of appying that funtion to each item.\n",
    "# Example:\n",
    "def double(x):\n",
    "    return x*2\n",
    "n = [1,2,3,4,5]\n",
    "double_num = list(map(double,n))\n",
    "print(double_num)"
   ]
  },
  {
   "cell_type": "code",
   "execution_count": 13,
   "id": "6fb6564f-d512-45a5-9c68-ac7bebfb6ad9",
   "metadata": {},
   "outputs": [
    {
     "name": "stdout",
     "output_type": "stream",
     "text": [
      "[1, 4, 9, 16, 25]\n"
     ]
    }
   ],
   "source": [
    "# Question Number 2:\n",
    "def square_num(n):\n",
    "    return n**2\n",
    "x = [1,2,3,4,5]\n",
    "square_lst = list(map(square_num,x))\n",
    "print(square_lst)"
   ]
  },
  {
   "cell_type": "code",
   "execution_count": null,
   "id": "a43d8cda-197f-42eb-bb54-8b340f027078",
   "metadata": {},
   "outputs": [],
   "source": [
    "# Question Number 3:\n",
    "# 1)How map() function different from list comprehention :- you used map() function when you want to apply specified function to each item of a given iterable(like list,tuple) and get new iterable with the result of applying that function to each item but another side you use list comprehention for creating list in shortcut way and you can do filtering and trasformation in just oe line.\n",
    "# 2) when to choose one over the other :- you already have a function(like doubling a number) and want to apply it to all list items but another side you use list comprehention when you want readable one-liner that does both filtring and transforming in just one line."
   ]
  },
  {
   "cell_type": "code",
   "execution_count": 16,
   "id": "24e0a427-7140-485d-9393-0e3234b921b3",
   "metadata": {},
   "outputs": [
    {
     "name": "stdout",
     "output_type": "stream",
     "text": [
      "['PRIYANKA', 'MANISHA', 'SANJANA', 'PALLAVI']\n"
     ]
    }
   ],
   "source": [
    "# Question Number 4:\n",
    "def uppercase_lst(n):\n",
    "    return n.upper()\n",
    "l = ['priyanka','manisha','sanjana','pallavi']\n",
    "update_lst = list(map(uppercase_lst,l))\n",
    "print(update_lst)"
   ]
  },
  {
   "cell_type": "code",
   "execution_count": 17,
   "id": "27ee34cc-5f70-41e6-bb73-846ca09631c0",
   "metadata": {},
   "outputs": [
    {
     "name": "stdout",
     "output_type": "stream",
     "text": [
      "[8, 7, 7, 7]\n"
     ]
    }
   ],
   "source": [
    "# Question Number 5:\n",
    "def find_length(n):\n",
    "    return len(n)\n",
    "l = ['priyanka','manisha','sanjana','pallavi']\n",
    "updated_lst = list(map(find_length,l))\n",
    "print(updated_lst)"
   ]
  },
  {
   "cell_type": "code",
   "execution_count": 1,
   "id": "734296c0-2ac3-4eb6-862c-948bf703d514",
   "metadata": {},
   "outputs": [
    {
     "name": "stdout",
     "output_type": "stream",
     "text": [
      "[11, 22, 33, 44, 55]\n"
     ]
    }
   ],
   "source": [
    "# Question Number 6:\n",
    "l1 = [1,2,3,4,5]\n",
    "l2 = [10,20,30,40,50]\n",
    "my_func = list(map(lambda x,y:x+y,l1,l2))\n",
    "print(my_func)"
   ]
  },
  {
   "cell_type": "code",
   "execution_count": 9,
   "id": "f8edce6c-d17f-4e3e-b694-6889007bb54a",
   "metadata": {},
   "outputs": [
    {
     "name": "stdout",
     "output_type": "stream",
     "text": [
      "[50.0, 68.0, 77.0, 59.0, 93.2]\n"
     ]
    }
   ],
   "source": [
    "# Question Number 7:\n",
    "def convert_C_F(C):\n",
    "    return (9/5)*C + 32\n",
    "C = [10,20,25,15,34]\n",
    "f_list = list(map(convert_C_F,C))\n",
    "print(f_list)"
   ]
  },
  {
   "cell_type": "code",
   "execution_count": 11,
   "id": "0d54e7df-eea5-4fa9-ac0c-0d5f9876991e",
   "metadata": {},
   "outputs": [
    {
     "name": "stdout",
     "output_type": "stream",
     "text": [
      "[6, 1, 9, 6]\n"
     ]
    }
   ],
   "source": [
    "# Question Number 8:\n",
    "l = [5.78999674,1.2,8.5679999,5.7]\n",
    "updated_lst = list(map(lambda x:round(x),l))\n",
    "print(updated_lst)"
   ]
  },
  {
   "cell_type": "markdown",
   "id": "bfaa0e3d-3728-4f6a-96c6-f425b0a143a8",
   "metadata": {},
   "source": [
    "### Reduce :"
   ]
  },
  {
   "cell_type": "code",
   "execution_count": 2,
   "id": "36bc1e13-f06d-4da4-ba80-5e04b8b36e6a",
   "metadata": {},
   "outputs": [
    {
     "name": "stdout",
     "output_type": "stream",
     "text": [
      "The sum of the list elements is:55\n"
     ]
    }
   ],
   "source": [
    "# Question Number 1:\n",
    "# what is reduce funtion() = The reduce() function in python helps you combine all the items in a list into a single value by applying a function repeatedly . it's like continuosly performing a task on each item until you got one final result.\n",
    "# what module should you import to us it = you use 'functools' module to use reduce() function.\n",
    "# example :-\n",
    "import functools\n",
    "l = [1,2,3,4,5,6,7,8,9,10]\n",
    "sum = functools.reduce(lambda a,b:a+b,l)\n",
    "print(f\"The sum of the list elements is:{sum}\")"
   ]
  },
  {
   "cell_type": "code",
   "execution_count": 3,
   "id": "840ef518-b09c-4d68-bc67-2e0f122db3a1",
   "metadata": {},
   "outputs": [
    {
     "name": "stdout",
     "output_type": "stream",
     "text": [
      "The prouct of the list elements is:120\n"
     ]
    }
   ],
   "source": [
    "# Question Number 2:\n",
    "import functools\n",
    "l = [1,2,3,4,5]\n",
    "product_lst = functools.reduce(lambda a,b:a*b,l)\n",
    "print(f\"The prouct of the list elements is:{product_lst}\")"
   ]
  },
  {
   "cell_type": "code",
   "execution_count": 5,
   "id": "7baa6e8a-734d-4102-bd68-067df8dd8e39",
   "metadata": {},
   "outputs": [
    {
     "name": "stdout",
     "output_type": "stream",
     "text": [
      "The maximum element of the list is:56\n"
     ]
    }
   ],
   "source": [
    "# Question Number 3:\n",
    "import functools\n",
    "l = [5,8,23,56,4,8,21,9]\n",
    "max_lst = functools.reduce(lambda a,b:a if a>b else b,l)\n",
    "print(f\"The maximum element of the list is:{max_lst}\")"
   ]
  },
  {
   "cell_type": "code",
   "execution_count": 10,
   "id": "c82bf14e-8d52-4950-a8e3-4120623791ca",
   "metadata": {},
   "outputs": [
    {
     "name": "stdout",
     "output_type": "stream",
     "text": [
      "The concatenate of the lists is:Hey my name is Priyanka\n"
     ]
    }
   ],
   "source": [
    "# Question Number 4:\n",
    "import functools\n",
    "x = ['Hey ','my ','name ','is ','Priyanka']\n",
    "join_lists = functools.reduce(lambda a,b:a+b,x)\n",
    "print(f\"The concatenate of the lists is:{join_lists}\")"
   ]
  },
  {
   "cell_type": "code",
   "execution_count": 11,
   "id": "1347cd11-7442-43e9-a8fc-ebb057b9ea48",
   "metadata": {},
   "outputs": [
    {
     "name": "stdout",
     "output_type": "stream",
     "text": [
      "120\n"
     ]
    }
   ],
   "source": [
    "# Question Number 5:\n",
    "import functools\n",
    "def factorial(n):\n",
    "    if n==0 and n==1:\n",
    "        return 1\n",
    "    else:\n",
    "        return functools.reduce(lambda x,y:x*y,range(1,n+1))\n",
    "\n",
    "print(factorial(5))"
   ]
  },
  {
   "cell_type": "code",
   "execution_count": 12,
   "id": "42c340e0-c437-4270-97e4-eb88468867b8",
   "metadata": {},
   "outputs": [
    {
     "name": "stdout",
     "output_type": "stream",
     "text": [
      "The sum of the elements in given list is:55\n"
     ]
    }
   ],
   "source": [
    "# Question number 7:\n",
    "import functools\n",
    "l = [1,2,3,4,5,6,7,8,9,10]\n",
    "sum_lst = functools.reduce(lambda a,b:a+b,l)\n",
    "print(f\"The sum of the elements in given list is:{sum_lst}\")"
   ]
  },
  {
   "cell_type": "markdown",
   "id": "3ffacbff-65ba-4027-81eb-897e67ea9de1",
   "metadata": {},
   "source": [
    "### Filter:"
   ]
  },
  {
   "cell_type": "code",
   "execution_count": 14,
   "id": "f79cedc6-f998-45a3-8880-a44317c7f906",
   "metadata": {},
   "outputs": [
    {
     "name": "stdout",
     "output_type": "stream",
     "text": [
      "['hey', 'name', 'priyanka']\n"
     ]
    }
   ],
   "source": [
    "# Question Number 1:\n",
    "# purpose of the filter() function = The filter() function is used to extract secific element from a collection(like list) based on a condition.\n",
    "l = ['hey','my','name','is','priyanka']\n",
    "filter_ele = list (filter(lambda a:len(a)>=3,l))\n",
    "print(filter_ele)"
   ]
  },
  {
   "cell_type": "code",
   "execution_count": 15,
   "id": "b49cecd8-7d8d-4671-8ae0-f63c515ca5fd",
   "metadata": {},
   "outputs": [
    {
     "name": "stdout",
     "output_type": "stream",
     "text": [
      "[2, 4, 6, 8, 10]\n"
     ]
    }
   ],
   "source": [
    "# Question Number 2:\n",
    "l = [1,2,3,4,5,6,7,8,9,10]\n",
    "filter_even = list(filter(lambda a:a%2==0,l))\n",
    "print(filter_even)"
   ]
  },
  {
   "cell_type": "code",
   "execution_count": 16,
   "id": "f6762a6d-b091-4590-b8d8-de89bfa57635",
   "metadata": {},
   "outputs": [
    {
     "name": "stdout",
     "output_type": "stream",
     "text": [
      "['hey', 'hi', 'hello']\n"
     ]
    }
   ],
   "source": [
    "# Question Number 3:\n",
    "l = ['hey','where','are','hi','you','hello']\n",
    "filter = list(filter(lambda a:a[0]=='h',l))\n",
    "print(filter)"
   ]
  },
  {
   "cell_type": "code",
   "execution_count": 2,
   "id": "18c76610-760c-47f0-a864-6bd082a666e7",
   "metadata": {},
   "outputs": [
    {
     "name": "stdout",
     "output_type": "stream",
     "text": [
      "[1, 2, 3]\n"
     ]
    }
   ],
   "source": [
    "# Question Number 5:\n",
    "l = [1,None,2,None,3]\n",
    "a = list(filter(lambda x:x is not None,l))\n",
    "print(a)"
   ]
  },
  {
   "cell_type": "code",
   "execution_count": 3,
   "id": "e408ec3c-d92d-4468-af7a-3159590db969",
   "metadata": {},
   "outputs": [
    {
     "name": "stdout",
     "output_type": "stream",
     "text": [
      "['priyanka', 'where', 'going']\n"
     ]
    }
   ],
   "source": [
    "# Question Number 6:\n",
    "l = ['hey','i','am','priyanka','where','are','you','going']\n",
    "a = list(filter(lambda x : len(x)>3 ,l))\n",
    "print(a)"
   ]
  },
  {
   "cell_type": "code",
   "execution_count": 5,
   "id": "1edb2cc4-d68f-4bb4-9de3-216bedb50b24",
   "metadata": {},
   "outputs": [
    {
     "name": "stdout",
     "output_type": "stream",
     "text": [
      "[7, 5, 7, 9, 5, 6, 8, 10]\n"
     ]
    }
   ],
   "source": [
    "# Question number 7:\n",
    "def filter_greater_than_threshold(values,threshold):\n",
    "    filtered_value = list(filter(lambda x:x>threshold,values))\n",
    "    return filtered_value\n",
    "\n",
    "print(filter_greater_than_threshold([3,7,5,4,7,9,1,5,2,6,8,10],4))"
   ]
  },
  {
   "cell_type": "markdown",
   "id": "f338eff7-3dfd-47a8-8be6-777f0a086bc4",
   "metadata": {},
   "source": [
    "### Recursion:"
   ]
  },
  {
   "cell_type": "code",
   "execution_count": null,
   "id": "2f214ed7-8702-47e4-84f8-727c04df233d",
   "metadata": {},
   "outputs": [],
   "source": [
    "# Question Number 1:\n",
    "# Recursion = is a process where a function calls itself directly and indirectly to solve a problem,it calls itself until you reach the base case. Th function calls itself is called recursive fucntion.\n",
    "# How recursion differ from iteration =  Recursion is solving problems by breaking them into smaller version of themselves BUT on the other hand Iteration is the repetation of block of code using 'for' or 'while' loop. "
   ]
  },
  {
   "cell_type": "code",
   "execution_count": 4,
   "id": "1e882207-c9ea-4359-b18d-ed2b16c1caf6",
   "metadata": {},
   "outputs": [
    {
     "name": "stdout",
     "output_type": "stream",
     "text": [
      "24\n"
     ]
    }
   ],
   "source": [
    "# question Number 2:\n",
    "def factorial_num(n):\n",
    "    if n==0:\n",
    "        return 1\n",
    "    else:\n",
    "        return n*factorial_num(n-1)\n",
    "\n",
    "print(factorial_num(4))"
   ]
  },
  {
   "cell_type": "code",
   "execution_count": 7,
   "id": "e8128c88-65af-4f78-aca3-c7f1e0f61af9",
   "metadata": {},
   "outputs": [
    {
     "name": "stdout",
     "output_type": "stream",
     "text": [
      "13\n"
     ]
    }
   ],
   "source": [
    "# Question Number 3:\n",
    "def fibonacci_num(n):\n",
    "    if n<=1:\n",
    "        return n\n",
    "    else:\n",
    "        return fibonacci_num(n-1)+fibonacci_num(n-2)\n",
    "\n",
    "print(fibonacci_num(7))"
   ]
  },
  {
   "cell_type": "code",
   "execution_count": 13,
   "id": "d45e8577-009a-420c-a9ac-9afb48b50f98",
   "metadata": {},
   "outputs": [
    {
     "name": "stdout",
     "output_type": "stream",
     "text": [
      "15\n"
     ]
    }
   ],
   "source": [
    "# Question Number 4:\n",
    "def sum_all_element(l):\n",
    "    if l==[]:\n",
    "        return 0\n",
    "    else:\n",
    "        return  l[0]+sum_all_element(l[1:])\n",
    "\n",
    "print(sum_all_element([1,2,3,4,5]))"
   ]
  },
  {
   "cell_type": "code",
   "execution_count": null,
   "id": "35655f79-3d1a-4b00-a77e-6f7aaca06148",
   "metadata": {},
   "outputs": [],
   "source": [
    "# Question Number 5:\n",
    "# Answer = 1)Ensure that your recursive function has a base case that end the recursion. This is a condition where the function stops calling itself and return the values.  \n",
    "#          2)convert the recursive function into an iterative solution using loops , that eleminate the risk of stalk overflow as there is no call stalk involved.\n"
   ]
  },
  {
   "cell_type": "code",
   "execution_count": 3,
   "id": "a18a83c1-f7b4-49b8-bf80-e365eeda6916",
   "metadata": {},
   "outputs": [
    {
     "name": "stdout",
     "output_type": "stream",
     "text": [
      "4\n"
     ]
    }
   ],
   "source": [
    "# Question Number 6:\n",
    "def gcd(a,b):\n",
    "    if b==0:\n",
    "        return a\n",
    "    return gcd(b,a%b)\n",
    "\n",
    "print(gcd(52,28))"
   ]
  },
  {
   "cell_type": "code",
   "execution_count": 4,
   "id": "bff20960-7c40-4748-b224-b78f04464d5f",
   "metadata": {},
   "outputs": [
    {
     "name": "stdout",
     "output_type": "stream",
     "text": [
      "aknayirp ma i yeh\n"
     ]
    }
   ],
   "source": [
    "# Question Number 7:\n",
    "def reverse_string(s):\n",
    "    return s[::-1]\n",
    "\n",
    "print(reverse_string('hey i am priyanka'))"
   ]
  },
  {
   "cell_type": "code",
   "execution_count": 8,
   "id": "41f67c5a-dbf3-43a0-9738-18d4b92d59a8",
   "metadata": {},
   "outputs": [
    {
     "name": "stdout",
     "output_type": "stream",
     "text": [
      "125\n"
     ]
    }
   ],
   "source": [
    "# Question Number 8:\n",
    "def power(x,n):\n",
    "    if n==0:\n",
    "        return 1\n",
    "    else:\n",
    "        return  x*power(x,n-1)\n",
    "\n",
    "print(power(5,3))"
   ]
  },
  {
   "cell_type": "code",
   "execution_count": 13,
   "id": "7eebe2c6-f11b-4737-b042-2c52b4ceac70",
   "metadata": {},
   "outputs": [
    {
     "name": "stdout",
     "output_type": "stream",
     "text": [
      "True\n"
     ]
    }
   ],
   "source": [
    "# Question Number 10:\n",
    "def pallindrome(s):\n",
    "    if len(s)<=1:\n",
    "        return True\n",
    "    elif s==s[::-1]:\n",
    "        return True\n",
    "    else:\n",
    "        return False\n",
    "\n",
    "print(pallindrome('madam'))"
   ]
  },
  {
   "cell_type": "markdown",
   "id": "dee2d571-50a0-4ab0-a47a-329e31865f84",
   "metadata": {},
   "source": [
    "### Basics of functions:"
   ]
  },
  {
   "cell_type": "code",
   "execution_count": null,
   "id": "adbd22ae-d3e1-46c4-87fd-6fbf5ac97377",
   "metadata": {},
   "outputs": [],
   "source": [
    "# Question number 1:\n",
    "# funtion = Function is block of reusable code that perform a specific task.\n",
    "# why it is used = its normally take input,proceed it and then give output.Function help in organizig code , making more readable and eaasier."
   ]
  },
  {
   "cell_type": "code",
   "execution_count": 16,
   "id": "ecd88e47-5950-4f94-af66-657adf50b28c",
   "metadata": {},
   "outputs": [
    {
     "name": "stdout",
     "output_type": "stream",
     "text": [
      "Hello,Priyanka\n"
     ]
    }
   ],
   "source": [
    "# Question Number 2:\n",
    "# You define a function using the 'def' keyword followed by the function name and then parameters enclosed in colol.\n",
    "# Example:\n",
    "def name(n):\n",
    "    return f\"Hello,{n}\"\n",
    "\n",
    "print(name('Priyanka'))"
   ]
  },
  {
   "cell_type": "code",
   "execution_count": null,
   "id": "3f5b9f33-f6bb-4395-a6e8-6f955f5e8b5d",
   "metadata": {},
   "outputs": [],
   "source": [
    "# Question Number 3:\n",
    "# difference :- A function defination is where you define funtion , including its name,parameters,and the code it execute , BUT on the other hand A Function call is when you actually use that function in your code by write its name with any required arguments."
   ]
  },
  {
   "cell_type": "code",
   "execution_count": 17,
   "id": "0dc59085-e9aa-4507-8939-526bbe4d881f",
   "metadata": {},
   "outputs": [
    {
     "name": "stdout",
     "output_type": "stream",
     "text": [
      "7\n"
     ]
    }
   ],
   "source": [
    "# Question number 4:\n",
    "def sum(a,b):\n",
    "    return a+b\n",
    "\n",
    "print(sum(2,5))"
   ]
  },
  {
   "cell_type": "code",
   "execution_count": null,
   "id": "d4c7d0b9-b811-4d38-93d7-1af7b1af91bf",
   "metadata": {},
   "outputs": [],
   "source": [
    "# Question number 5:\n",
    "# A function singnature typically includes the function name,return type and parameters type. It provide a summary of the function interface ,allowing programe to understand how to use the function without needing its intire implementaion."
   ]
  },
  {
   "cell_type": "code",
   "execution_count": 18,
   "id": "5f4d4daa-a00d-4d8b-bad7-6dd062697d09",
   "metadata": {},
   "outputs": [
    {
     "name": "stdout",
     "output_type": "stream",
     "text": [
      "30\n"
     ]
    }
   ],
   "source": [
    "# Question Number 6:\n",
    "def product(a,b):\n",
    "    return a*b\n",
    "\n",
    "print(product(5,6))"
   ]
  },
  {
   "cell_type": "markdown",
   "id": "05d04424-2b5e-44cd-801f-dbacda28bd87",
   "metadata": {},
   "source": [
    "### Function Parameters and Arguments:"
   ]
  },
  {
   "cell_type": "code",
   "execution_count": null,
   "id": "3a0211d5-e47e-40ed-a918-b2c0d5c93e34",
   "metadata": {},
   "outputs": [],
   "source": [
    "# Question Number 1:\n",
    "# Formal parameter argument = Its refer to the variable listed in the function defiation . They act as the placeholder for the values that will be provide when the function is called.\n",
    "# Actual argument = actual arguments (parameters) are the value supplied to the function when it is called . "
   ]
  },
  {
   "cell_type": "code",
   "execution_count": 14,
   "id": "8d7e3d88-1614-4ea3-8eed-b2f4ae008f63",
   "metadata": {},
   "outputs": [
    {
     "data": {
      "text/plain": [
       "('Hello', 'Priyanka')"
      ]
     },
     "execution_count": 14,
     "metadata": {},
     "output_type": "execute_result"
    }
   ],
   "source": [
    "# Question Number 2:\n",
    "def name(n='Priyanka'):\n",
    "    return ('Hello',n)\n",
    "\n",
    "name()"
   ]
  },
  {
   "cell_type": "code",
   "execution_count": 23,
   "id": "e2544288-62e0-42ed-9a20-c83932bea89f",
   "metadata": {},
   "outputs": [
    {
     "name": "stdout",
     "output_type": "stream",
     "text": [
      "Hello Priyanka\n",
      "You are 18 year old.\n"
     ]
    }
   ],
   "source": [
    "# Question number 3:\n",
    "def func(name,age):\n",
    "    print('Hello',name)\n",
    "    print('You are',age,'year old.')\n",
    "\n",
    "func('Priyanka','18')"
   ]
  },
  {
   "cell_type": "code",
   "execution_count": 22,
   "id": "ef333d89-12e6-46ba-822a-c729d3734d92",
   "metadata": {},
   "outputs": [
    {
     "ename": "RecursionError",
     "evalue": "maximum recursion depth exceeded",
     "output_type": "error",
     "traceback": [
      "\u001b[1;31m---------------------------------------------------------------------------\u001b[0m",
      "\u001b[1;31mRecursionError\u001b[0m                            Traceback (most recent call last)",
      "Cell \u001b[1;32mIn[22], line 5\u001b[0m\n\u001b[0;32m      2\u001b[0m \u001b[38;5;28;01mdef\u001b[39;00m \u001b[38;5;21msummation\u001b[39m(\u001b[38;5;241m*\u001b[39margs):\n\u001b[0;32m      3\u001b[0m     \u001b[38;5;28;01mreturn\u001b[39;00m \u001b[38;5;28msum\u001b[39m(args)\n\u001b[1;32m----> 5\u001b[0m \u001b[38;5;28mprint\u001b[39m(\u001b[43msummation\u001b[49m\u001b[43m(\u001b[49m\u001b[38;5;241;43m1\u001b[39;49m\u001b[43m,\u001b[49m\u001b[38;5;241;43m2\u001b[39;49m\u001b[43m,\u001b[49m\u001b[38;5;241;43m3\u001b[39;49m\u001b[43m,\u001b[49m\u001b[38;5;241;43m4\u001b[39;49m\u001b[43m,\u001b[49m\u001b[38;5;241;43m5\u001b[39;49m\u001b[43m)\u001b[49m)\n",
      "Cell \u001b[1;32mIn[22], line 3\u001b[0m, in \u001b[0;36msummation\u001b[1;34m(*args)\u001b[0m\n\u001b[0;32m      2\u001b[0m \u001b[38;5;28;01mdef\u001b[39;00m \u001b[38;5;21msummation\u001b[39m(\u001b[38;5;241m*\u001b[39margs):\n\u001b[1;32m----> 3\u001b[0m     \u001b[38;5;28;01mreturn\u001b[39;00m \u001b[38;5;28;43msum\u001b[39;49m\u001b[43m(\u001b[49m\u001b[43margs\u001b[49m\u001b[43m)\u001b[49m\n",
      "Cell \u001b[1;32mIn[15], line 3\u001b[0m, in \u001b[0;36msum\u001b[1;34m(*args)\u001b[0m\n\u001b[0;32m      2\u001b[0m \u001b[38;5;28;01mdef\u001b[39;00m \u001b[38;5;21msum\u001b[39m(\u001b[38;5;241m*\u001b[39margs):\n\u001b[1;32m----> 3\u001b[0m     \u001b[38;5;28;01mreturn\u001b[39;00m \u001b[38;5;28;43msum\u001b[39;49m\u001b[43m(\u001b[49m\u001b[43margs\u001b[49m\u001b[43m)\u001b[49m\n",
      "Cell \u001b[1;32mIn[15], line 3\u001b[0m, in \u001b[0;36msum\u001b[1;34m(*args)\u001b[0m\n\u001b[0;32m      2\u001b[0m \u001b[38;5;28;01mdef\u001b[39;00m \u001b[38;5;21msum\u001b[39m(\u001b[38;5;241m*\u001b[39margs):\n\u001b[1;32m----> 3\u001b[0m     \u001b[38;5;28;01mreturn\u001b[39;00m \u001b[38;5;28;43msum\u001b[39;49m\u001b[43m(\u001b[49m\u001b[43margs\u001b[49m\u001b[43m)\u001b[49m\n",
      "    \u001b[1;31m[... skipping similar frames: sum at line 3 (2970 times)]\u001b[0m\n",
      "Cell \u001b[1;32mIn[15], line 3\u001b[0m, in \u001b[0;36msum\u001b[1;34m(*args)\u001b[0m\n\u001b[0;32m      2\u001b[0m \u001b[38;5;28;01mdef\u001b[39;00m \u001b[38;5;21msum\u001b[39m(\u001b[38;5;241m*\u001b[39margs):\n\u001b[1;32m----> 3\u001b[0m     \u001b[38;5;28;01mreturn\u001b[39;00m \u001b[38;5;28;43msum\u001b[39;49m\u001b[43m(\u001b[49m\u001b[43margs\u001b[49m\u001b[43m)\u001b[49m\n",
      "\u001b[1;31mRecursionError\u001b[0m: maximum recursion depth exceeded"
     ]
    }
   ],
   "source": [
    "# Question number 4:\n",
    "def summation(*args):\n",
    "    return sum(args)\n",
    "\n",
    "print(summation(1,2,3,4,5))"
   ]
  },
  {
   "cell_type": "code",
   "execution_count": null,
   "id": "724e187e-616d-4f76-acab-8fb22f75606a",
   "metadata": {},
   "outputs": [],
   "source": [
    "# Question Number 5:\n",
    "# *Args = args collect postional arguments into a tuple , allowing function to accept any number of them without specifyingg each one.\n",
    "# *Kwargs = Kwargs collect keyword argument into a dictionary ,  allowing function to accept any number of them without specifyingg each one."
   ]
  },
  {
   "cell_type": "markdown",
   "id": "a56dc675-ef01-4240-a008-c1bb01e460da",
   "metadata": {},
   "source": [
    "### Return Values and Scoping :"
   ]
  },
  {
   "cell_type": "code",
   "execution_count": 4,
   "id": "be5b1f3f-3bef-4c76-8ae3-a6b82e4193db",
   "metadata": {},
   "outputs": [
    {
     "name": "stdout",
     "output_type": "stream",
     "text": [
      "9\n"
     ]
    }
   ],
   "source": [
    "# Question Number 1:\n",
    "# The 'return' statement is used to exit the function and return a value or multiple values back to the caller. It signifies the end of the function execution.\n",
    "# Example :\n",
    "def add(a,b):\n",
    "    return a+b\n",
    "\n",
    "print(add(4,5))"
   ]
  },
  {
   "cell_type": "code",
   "execution_count": null,
   "id": "524bf82d-fb08-4610-8546-63196132ea21",
   "metadata": {},
   "outputs": [],
   "source": [
    "# Question Number 2:\n",
    "# local scope = If we are creating any variables inside a function its called local scope. If we try to axis same variable outside the function , so we can not able to axis it.\n",
    "# Global scope = If we are creating any variabl outside a function its called global scope. You can use this anywhere in the programe."
   ]
  },
  {
   "cell_type": "code",
   "execution_count": 13,
   "id": "ab79a778-f164-4681-8bbf-892d3a3cc049",
   "metadata": {},
   "outputs": [
    {
     "name": "stdout",
     "output_type": "stream",
     "text": [
      "Before modification: 10\n",
      "After modification: 20\n"
     ]
    }
   ],
   "source": [
    "# Question Number 3 :\n",
    "global_var = 10\n",
    "def modify():\n",
    "    global global_var\n",
    "    global_var = 20\n",
    "    return global_var\n",
    "    \n",
    "print('Before modification:',global_var)\n",
    "print('After modification:',modify())"
   ]
  },
  {
   "cell_type": "code",
   "execution_count": 12,
   "id": "f2775fbf-ca81-4eb0-b4c1-dada3f9d7f5d",
   "metadata": {},
   "outputs": [
    {
     "name": "stdout",
     "output_type": "stream",
     "text": [
      "120\n"
     ]
    }
   ],
   "source": [
    "# Question Number 4:\n",
    "def factorial(n):\n",
    "    if n==0:\n",
    "        return 1\n",
    "    else:\n",
    "        return n*factorial(n-1)\n",
    "\n",
    "print(factorial(5))"
   ]
  },
  {
   "cell_type": "code",
   "execution_count": 16,
   "id": "aa28c3bb-5b12-4817-be07-5866f1faab77",
   "metadata": {},
   "outputs": [
    {
     "name": "stdout",
     "output_type": "stream",
     "text": [
      "Global variable x is: 10\n"
     ]
    }
   ],
   "source": [
    "# Question Number 5:\n",
    "x = 10\n",
    "def accesed_var():\n",
    "    global x\n",
    "\n",
    "print('Global variable x is:',x)"
   ]
  },
  {
   "cell_type": "code",
   "execution_count": 20,
   "id": "75fdf363-e685-4289-88b7-d2137090c3c8",
   "metadata": {},
   "outputs": [
    {
     "name": "stdout",
     "output_type": "stream",
     "text": [
      "10\n"
     ]
    }
   ],
   "source": [
    "# Question Number 5:\n",
    "x = 10\n",
    "def accesed_var(variable):\n",
    "    return variable\n",
    "\n",
    "print(accesed_var(x))"
   ]
  },
  {
   "cell_type": "markdown",
   "id": "09333501-b1d6-48ab-8663-a85494759387",
   "metadata": {},
   "source": [
    "### Lambda functions and Higher-order functions:"
   ]
  },
  {
   "cell_type": "code",
   "execution_count": null,
   "id": "dc803aa3-1b42-4f9d-9f8b-81eb8e414b6f",
   "metadata": {},
   "outputs": [],
   "source": [
    "# Question Number 1:\n",
    "# Lambda function : A lambda function is a small anonymous function that is defined using the \"lambda\" keyword. Lambda function are often used when you need a simple,one-line function for a short period of time."
   ]
  },
  {
   "cell_type": "code",
   "execution_count": 24,
   "id": "bd980039-31a5-4427-9659-e4de1f9e710c",
   "metadata": {},
   "outputs": [
    {
     "name": "stdout",
     "output_type": "stream",
     "text": [
      "[(3, 1), (6, 2), (1, 5), (5, 9)]\n"
     ]
    }
   ],
   "source": [
    "# Question Number 2:\n",
    "my_list = [(1,5),(6,2),(3,1),(5,9)]\n",
    "sorted_list = sorted(my_list,key=lambda x:x[1])\n",
    "print(sorted_list)"
   ]
  },
  {
   "cell_type": "code",
   "execution_count": 26,
   "id": "185498eb-3d59-41d8-8a94-667bcb20c021",
   "metadata": {},
   "outputs": [
    {
     "name": "stdout",
     "output_type": "stream",
     "text": [
      "8\n"
     ]
    }
   ],
   "source": [
    "# Question Number 3:\n",
    "def apply_operation(operation,x,y):\n",
    "    return operation(x,y)\n",
    "def add(x,y):\n",
    "    return x+y\n",
    "def subtract(x,y):\n",
    "    return x-y\n",
    "result = apply_operation(add,5,3)\n",
    "print(result)"
   ]
  },
  {
   "cell_type": "code",
   "execution_count": 3,
   "id": "7f362a40-5afa-451e-a16c-4154a4721301",
   "metadata": {},
   "outputs": [
    {
     "ename": "TypeError",
     "evalue": "'function' object is not iterable",
     "output_type": "error",
     "traceback": [
      "\u001b[1;31m---------------------------------------------------------------------------\u001b[0m",
      "\u001b[1;31mTypeError\u001b[0m                                 Traceback (most recent call last)",
      "Cell \u001b[1;32mIn[3], line 5\u001b[0m\n\u001b[0;32m      3\u001b[0m     \u001b[38;5;28;01mreturn\u001b[39;00m x\u001b[38;5;241m*\u001b[39mx\n\u001b[0;32m      4\u001b[0m number \u001b[38;5;241m=\u001b[39m [\u001b[38;5;241m1\u001b[39m,\u001b[38;5;241m2\u001b[39m,\u001b[38;5;241m3\u001b[39m,\u001b[38;5;241m4\u001b[39m,\u001b[38;5;241m5\u001b[39m]\n\u001b[1;32m----> 5\u001b[0m result \u001b[38;5;241m=\u001b[39m \u001b[43mfunction\u001b[49m\u001b[43m(\u001b[49m\u001b[43mnumber\u001b[49m\u001b[43m,\u001b[49m\u001b[43msquare\u001b[49m\u001b[43m)\u001b[49m\n\u001b[0;32m      6\u001b[0m \u001b[38;5;28mprint\u001b[39m(result)\n",
      "Cell \u001b[1;32mIn[1], line 3\u001b[0m, in \u001b[0;36mfunction\u001b[1;34m(func, number)\u001b[0m\n\u001b[0;32m      2\u001b[0m \u001b[38;5;28;01mdef\u001b[39;00m \u001b[38;5;21mfunction\u001b[39m(func,number):\n\u001b[1;32m----> 3\u001b[0m     \u001b[38;5;28;01mreturn\u001b[39;00m [func(num) \u001b[38;5;28;01mfor\u001b[39;00m num \u001b[38;5;129;01min\u001b[39;00m number]\n",
      "\u001b[1;31mTypeError\u001b[0m: 'function' object is not iterable"
     ]
    }
   ],
   "source": [
    "# Question number 4:\n",
    "def function(func,lst):\n",
    "    return [func(num) for num in lst]\n",
    "def square(x):\n",
    "    return x*x\n",
    "lst = [1,2,3,4,5]\n",
    "result = function(number,square)\n",
    "print(result)"
   ]
  },
  {
   "cell_type": "markdown",
   "id": "dfb8bf52-9db9-49fd-8c00-bccd3e791786",
   "metadata": {},
   "source": [
    "### Built-in Functions: "
   ]
  },
  {
   "cell_type": "code",
   "execution_count": null,
   "id": "a27469b5-8454-4acb-9e4b-6b6da5f92098",
   "metadata": {},
   "outputs": [],
   "source": [
    "# Question Number 1:\n",
    "# len() = Its returns the length of a sequence and collection of data in like a string,list,tuple,dictionary.\n",
    "#max() = Its returns the maximum value from a sequence and collection of data.\n",
    "#min() = Its returns the minimum value from a sequence and collection of data."
   ]
  },
  {
   "cell_type": "code",
   "execution_count": 6,
   "id": "bcf8f0d0-73db-4e0e-9dbd-7ed07aebbfb8",
   "metadata": {},
   "outputs": [
    {
     "data": {
      "text/plain": [
       "[3, 1, 2, 8]"
      ]
     },
     "execution_count": 6,
     "metadata": {},
     "output_type": "execute_result"
    }
   ],
   "source": [
    "# Question Number 2:\n",
    "l = ['hey','I','am','Priyanka']\n",
    "list(map(lambda a : len(a),l))"
   ]
  },
  {
   "cell_type": "code",
   "execution_count": null,
   "id": "10e34c42-0dc9-403b-8936-c12962b354ce",
   "metadata": {},
   "outputs": [],
   "source": [
    "# Question Number 3:\n",
    "# Filter() = The filter function is used to select specific element from a list based on given condition.\n",
    "# You would use the filter() when you want to extract specific element from a collection."
   ]
  },
  {
   "cell_type": "code",
   "execution_count": 7,
   "id": "9ccb4ca4-ac8a-456e-89ab-40405a5ba2e1",
   "metadata": {},
   "outputs": [
    {
     "name": "stdout",
     "output_type": "stream",
     "text": [
      "120\n"
     ]
    }
   ],
   "source": [
    "# Question Number 4:\n",
    "from functools import reduce\n",
    "def product(l):\n",
    "    return reduce(lambda a,b: a*b,l)\n",
    "\n",
    "print(product([1,2,3,4,5]))"
   ]
  },
  {
   "cell_type": "code",
   "execution_count": null,
   "id": "6d5ff532-b6b0-4c3b-b0ad-2e39d2ee9401",
   "metadata": {},
   "outputs": [],
   "source": []
  }
 ],
 "metadata": {
  "kernelspec": {
   "display_name": "Python 3 (ipykernel)",
   "language": "python",
   "name": "python3"
  },
  "language_info": {
   "codemirror_mode": {
    "name": "ipython",
    "version": 3
   },
   "file_extension": ".py",
   "mimetype": "text/x-python",
   "name": "python",
   "nbconvert_exporter": "python",
   "pygments_lexer": "ipython3",
   "version": "3.11.5"
  }
 },
 "nbformat": 4,
 "nbformat_minor": 5
}
