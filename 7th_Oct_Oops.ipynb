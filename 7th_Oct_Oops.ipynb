{
 "cells": [
  {
   "cell_type": "markdown",
   "id": "f2be4403-1909-438b-bedd-0082594afcf7",
   "metadata": {},
   "source": [
    "###  OOPS Assigment:"
   ]
  },
  {
   "cell_type": "code",
   "execution_count": 7,
   "id": "c83f8143-0ff0-49fc-8270-a646e8a3d383",
   "metadata": {},
   "outputs": [
    {
     "name": "stdout",
     "output_type": "stream",
     "text": [
      "Deposite 1000 into account. Current balance:2000\n",
      "Withdraw 500 into account. Current balance:1500\n"
     ]
    }
   ],
   "source": [
    "# Question Number 1:\n",
    "class Bankaccount:\n",
    "    def __init__(self,acc_num,acc_holder_name,acc_balance=0):\n",
    "        self.acc_num = acc_num\n",
    "        self.acc_holder_name = acc_holder_name\n",
    "        self.acc_balance = acc_balance\n",
    "    def deposite(self,amount):\n",
    "        self.acc_balance+=amount\n",
    "        print(f\"Deposite {amount} into account. Current balance:{self.acc_balance}\")\n",
    "    def withdraw(self,amount):\n",
    "        if amount> self.acc_balance:\n",
    "            print(\"Insufficent Balance\")\n",
    "        else:\n",
    "            self.acc_balance-=amount\n",
    "            print(f\"Withdraw {amount} into account. Current balance:{self.acc_balance}\")\n",
    "\n",
    "account1 = Bankaccount('123456789','Priyanka',1000)\n",
    "account1.deposite(1000)\n",
    "account1.withdraw(500)"
   ]
  },
  {
   "cell_type": "code",
   "execution_count": 12,
   "id": "d32a139e-c10a-46a5-8fd4-d7f22108b7e0",
   "metadata": {},
   "outputs": [
    {
     "name": "stdout",
     "output_type": "stream",
     "text": [
      "3000.0\n",
      "Employee ID:1\n",
      "Name:priya\n",
      "salary:30000\n",
      "None\n"
     ]
    }
   ],
   "source": [
    "# Question number 2:\n",
    "class Employee:\n",
    "    def __init__(self,employee_id,name,salary=0):\n",
    "        self.employee_id = employee_id\n",
    "        self.name = name\n",
    "        self.salary = salary\n",
    "    def yearly_bonus(self,bonus_percentage):\n",
    "        \"calculate the yearly bonus on the given bonus percentage\"\n",
    "        return self.salary*(bonus_percentage/100)\n",
    "    def display_details(self):\n",
    "        print(f\"Employee ID:{self.employee_id}\")\n",
    "        print(f\"Name:{self.name}\")\n",
    "        print(f\"salary:{self.salary}\")\n",
    "\n",
    "emp = Employee('1',\"priya\",30000)\n",
    "print(emp.yearly_bonus(10))\n",
    "print(emp.display_details())"
   ]
  },
  {
   "cell_type": "code",
   "execution_count": 7,
   "id": "6829cd42-8614-47eb-82cd-73b4c2a918f6",
   "metadata": {},
   "outputs": [
    {
     "name": "stdout",
     "output_type": "stream",
     "text": [
      "Vehicle Car A added to the fleet\n",
      "Vehicle Car B added to the fleet\n",
      "Vehicle Bike A added to the fleet\n",
      "Available vehicles\n",
      "Car A\n",
      "Car B\n",
      "Bike A\n",
      "Vehicle Car A has been rented to ken\n",
      "Vehicle Bike A has been rented to bob\n",
      "Available vehicles\n",
      "Car B\n",
      "Vihicle Car A has been returned by ken\n",
      "Available vehicles\n",
      "Car B\n"
     ]
    }
   ],
   "source": [
    "# Question Number 3:\n",
    "class VehicleRentalSystem:\n",
    "    def __init__(self):\n",
    "        self.available_vehicles = []\n",
    "        self.rented_vehicles = {}\n",
    "\n",
    "    \n",
    "    def add_vehicle(self,vehicle):\n",
    "        self.available_vehicles.append(vehicle)\n",
    "        print(f\"Vehicle {vehicle} added to the fleet\")\n",
    "        \n",
    "    def rent_vehicle(self,vehicle,customer_name):\n",
    "        if vehicle in self.available_vehicles:\n",
    "            self.available_vehicles.remove(vehicle)\n",
    "            self.rented_vehicles[vehicle] = customer_name\n",
    "            print(f\"Vehicle {vehicle} has been rented to {customer_name}\")\n",
    "        else:\n",
    "            print(f\"Vehicle {vehicle} is not available for rent.\")\n",
    "            \n",
    "    def return_vehicle(self,vehicle):\n",
    "        if vehicle in self.rented_vehicles:\n",
    "            customer_name = self.rented_vehicles.pop(vehicle)\n",
    "            print(f\"Vihicle {vehicle} has been returned by {customer_name}\")\n",
    "        else:\n",
    "            print(f\"Vihicle {vehicle} was not rented from this system\")\n",
    "\n",
    "    def display_available_vehicle(self):\n",
    "        if self.available_vehicles:\n",
    "            print(\"Available vehicles\")\n",
    "            for vehicle in self.available_vehicles:\n",
    "                print(vehicle)\n",
    "        else:\n",
    "            print(\"No vehicle are currently available.\")\n",
    "\n",
    "rental_system = VehicleRentalSystem()\n",
    "\n",
    "rental_system.add_vehicle(\"Car A\")\n",
    "rental_system.add_vehicle(\"Car B\")\n",
    "rental_system.add_vehicle(\"Bike A\")\n",
    "rental_system.display_available_vehicle()\n",
    "\n",
    "rental_system.rent_vehicle(\"Car A\",'ken')\n",
    "rental_system.rent_vehicle(\"Bike A\",'bob')\n",
    "rental_system.display_available_vehicle()\n",
    "\n",
    "rental_system.return_vehicle(\"Car A\")\n",
    "rental_system.display_available_vehicle()"
   ]
  },
  {
   "cell_type": "code",
   "execution_count": 28,
   "id": "d2fd305b-f733-458a-bb3d-87b5ac08c2b3",
   "metadata": {},
   "outputs": [
    {
     "name": "stdout",
     "output_type": "stream",
     "text": [
      "Added 'The great gatsby' by F.scott fitzgerald \n",
      "Added '1984' by george orwell \n",
      "Added 'To kill a mockingbird' by harper lee \n",
      "Available books\n",
      "'The great gatsby' by F.scott fitzgerald \n",
      "'1984' by george orwell \n",
      "'To kill a mockingbird' by harper lee \n",
      "you have borrowed '1984' by george orwell \n",
      "Available books\n",
      "'The great gatsby' by F.scott fitzgerald \n",
      "'To kill a mockingbird' by harper lee \n",
      "you have borrowed 'The great gatsby' by F.scott fitzgerald \n",
      "Available books\n",
      "'To kill a mockingbird' by harper lee \n",
      "1984 is not avaiable\n"
     ]
    }
   ],
   "source": [
    "# Question number 4:\n",
    "class book:\n",
    "    def __init__(self,title,author):\n",
    "        self.title = title\n",
    "        self.author = author\n",
    "        self.is_borrowed = False\n",
    "    def __str__(self):\n",
    "        return f\"'{self.title}' by {self.author} \"\n",
    "        \n",
    "class Library:\n",
    "    def __init__(self):\n",
    "        self.books = []\n",
    "    def add_book(self,book):\n",
    "        self.books.append(book)\n",
    "        print(f\"Added {book}\")\n",
    "    def borrow_book(self,title):\n",
    "        for book in self.books:\n",
    "            if book.title == title and not book.is_borrowed:\n",
    "                book.is_borrowed = True\n",
    "                print(f\"you have borrowed {book}\")\n",
    "                return\n",
    "        print(f\"{title} is not avaiable\")\n",
    "    def display_available_books(self):\n",
    "        available_books = [book for book in self.books if not book.is_borrowed]\n",
    "        if available_books:\n",
    "            print(\"Available books\")\n",
    "            for book in available_books:\n",
    "                print(book)\n",
    "        else:\n",
    "            print(\"No,books available\")\n",
    "\n",
    "if __name__ == \"__main__\":\n",
    "    library = Library()\n",
    "    library.add_book(book(\"The great gatsby\",\"F.scott fitzgerald\"))\n",
    "    library.add_book(book(\"1984\",\"george orwell\"))\n",
    "    library.add_book(book(\"To kill a mockingbird\",\"harper lee\"))\n",
    "\n",
    "library.display_available_books()\n",
    "library.borrow_book('1984')\n",
    "\n",
    "library.display_available_books()\n",
    "library.borrow_book('The great gatsby')\n",
    "\n",
    "library.display_available_books()\n",
    "library.borrow_book('1984')"
   ]
  },
  {
   "cell_type": "code",
   "execution_count": 1,
   "id": "299cffce-9758-4483-b672-cf80a850e6e9",
   "metadata": {},
   "outputs": [
    {
     "name": "stdout",
     "output_type": "stream",
     "text": [
      "Product (name=Laptop,price=9000,quantity=15)\n",
      "Product (name=phone,price=5000,quantity=30)\n"
     ]
    }
   ],
   "source": [
    "# Question Number 5:\n",
    "class Product:\n",
    "    def __init__(self,name,price,quantity):\n",
    "        self.name = name\n",
    "        self.price = price\n",
    "        self.quantity = quantity\n",
    "    def update_quantity(self,quantity):\n",
    "        self.quantity += quantity\n",
    "    def __str__(self):\n",
    "        return f\"Product (name={self.name},price={self.price},quantity={self.quantity})\"\n",
    "    \n",
    "\n",
    "class Inventory:\n",
    "    def __init__(self):\n",
    "        self.products = {}\n",
    "    def add_product(self,name,price,quantity):\n",
    "        if name in self.products:\n",
    "            self.products[name].update_quantity(quantity)\n",
    "        else:\n",
    "            self.products[name] = Product(name,price,quantity)\n",
    "    def update_product_quantity(self,name,quantity):\n",
    "        if name in self.products:\n",
    "            self.products[name].update_quantity(quantity)\n",
    "        else:\n",
    "            print(f\"Product {name} does not exist in the inventory\")\n",
    "    def display_products(self):\n",
    "        for Product in self.products.values():\n",
    "            print(Product)\n",
    "\n",
    "inventory = Inventory()\n",
    "\n",
    "inventory.add_product(\"Laptop\",9000,10)\n",
    "inventory.add_product(\"phone\",5000,20)\n",
    "\n",
    "inventory.update_product_quantity(\"Laptop\",5)\n",
    "inventory.update_product_quantity(\"phone\",10)\n",
    "\n",
    "inventory.display_products()"
   ]
  },
  {
   "cell_type": "code",
   "execution_count": 5,
   "id": "13f4716f-b840-445a-8ed7-50f10c93c922",
   "metadata": {},
   "outputs": [
    {
     "name": "stdout",
     "output_type": "stream",
     "text": [
      "Area =  15\n",
      "Perimeter =  16\n"
     ]
    }
   ],
   "source": [
    "# Question Number 6:\n",
    "class Shape:\n",
    "    def __init__(self,length,width,height=0):\n",
    "        self.length = length\n",
    "        self.width = width\n",
    "        self.height = height\n",
    "    def area(self):\n",
    "        return self.length * self.width\n",
    "    def perimeter(self):\n",
    "        return 2*(self.length + self.width)\n",
    "\n",
    "rectangle = Shape(length=5,width=3)\n",
    "print(\"Area = \",rectangle.area())\n",
    "print(\"Perimeter = \",rectangle.perimeter())"
   ]
  },
  {
   "cell_type": "code",
   "execution_count": 15,
   "id": "17e1d9ed-a7ec-43c6-a371-2f14c11d7a03",
   "metadata": {},
   "outputs": [
    {
     "name": "stdout",
     "output_type": "stream",
     "text": [
      "student_id = 12345\n",
      "name = Priya\n",
      "grades = [80, 75, 90, 68, 83]\n",
      "average_grades = 79.2\n"
     ]
    }
   ],
   "source": [
    "# Question Number 7:\n",
    "class Student():\n",
    "    def __init__(self,student_id,name,grades):\n",
    "        self.student_id = student_id\n",
    "        self.name = name\n",
    "        self.grades = grades\n",
    "    def average_grades(self):\n",
    "        if len(self.grades) == 0:\n",
    "            return 0\n",
    "        return sum(self.grades)/len(self.grades)\n",
    "    def display_details(self):\n",
    "        print(f\"student_id = {self.student_id}\")\n",
    "        print(f\"name = {self.name}\")\n",
    "        print(f\"grades = {self.grades}\")\n",
    "        print(f\"average_grades = {self.average_grades()}\")\n",
    "\n",
    "student = Student(student_id = '12345',name = 'Priya',grades = [80,75,90,68,83])\n",
    "student.display_details()"
   ]
  },
  {
   "cell_type": "code",
   "execution_count": 1,
   "id": "7e998210-c0b4-4cea-86f9-79fd9b72a09e",
   "metadata": {},
   "outputs": [
    {
     "data": {
      "text/plain": [
       "<bound method Email.send_email of <__main__.Email object at 0x0000018ECA8A2850>>"
      ]
     },
     "execution_count": 1,
     "metadata": {},
     "output_type": "execute_result"
    }
   ],
   "source": [
    "# Question Number 8:\n",
    "class Email():\n",
    "    def __init__(self,sender,recipient,subject,body):\n",
    "        self.sender = sender\n",
    "        self.recipient = recipient\n",
    "        self.subject = subject\n",
    "        self.body = body\n",
    "    def send_email(self):\n",
    "        print(f\"Sending Email from {self.sender} to {self.recipient} with subject '{self.subject}'.......\")\n",
    "    def display_details(self):\n",
    "        print(f\"Sender:{self.sender}\")\n",
    "        print(f\"Recipient:{self.recipient}\")\n",
    "        print(f\"subject:{self.subject}\")\n",
    "        print(f\"Body:{self.body}\")\n",
    "\n",
    "email = Email(sender='priya@gmail.com',recipient='hey@gmail.com',subject='Meeting reminder',body='Do not forget about our meeting tomrow at 10AM')\n",
    "email.display_details\n",
    "email.send_email"
   ]
  },
  {
   "cell_type": "code",
   "execution_count": 14,
   "id": "13b01b12-5c31-454f-91af-9ac00eb92327",
   "metadata": {},
   "outputs": [
    {
     "name": "stdout",
     "output_type": "stream",
     "text": [
      "Post by Priya:\n",
      "1.Hello guys\n",
      "2.Nice to see you\n",
      "3.Hi butterfly\n",
      "Post found containing the keyword guys\n",
      "Hello guys\n",
      "No Post founud containing the keyword girl \n",
      "Post found containing the keyword hi\n",
      "Hi butterfly\n"
     ]
    }
   ],
   "source": [
    "# Question number 9:\n",
    "class socialMediaProfile():\n",
    "    def __init__(self,username):\n",
    "        self.username = username\n",
    "        self.posts = []\n",
    "    def add_post(self,post):\n",
    "        self.posts.append(post)\n",
    "    def display_posts(self):\n",
    "        if not self.posts:\n",
    "            print(f\"{self.username} has no post available.\")\n",
    "        else:\n",
    "            print(f\"Post by {self.username}:\")\n",
    "            for idx,post in enumerate(self.posts,1):\n",
    "                print(f\"{idx}.{post}\")\n",
    "    def search_posts(self,keyword):\n",
    "        matching_posts = [post for post in self.posts if keyword.lower() in post.lower()]\n",
    "        if not matching_posts:\n",
    "            print(f\"No Post founud containing the keyword {keyword} \")\n",
    "        else:\n",
    "            print(f\"Post found containing the keyword {keyword}\")\n",
    "            for post in matching_posts:\n",
    "                print(f\"{post}\")\n",
    "\n",
    "profile = socialMediaProfile(\"Priya\")\n",
    "\n",
    "profile.add_post(\"Hello guys\")\n",
    "profile.add_post(\"Nice to see you\")\n",
    "profile.add_post('Hi butterfly')\n",
    "\n",
    "profile.display_posts()\n",
    "\n",
    "profile.search_posts('guys')\n",
    "profile.search_posts('girl')\n",
    "profile.search_posts('hi')"
   ]
  },
  {
   "cell_type": "code",
   "execution_count": 10,
   "id": "de84c60b-fe2d-48e6-8214-88ebe56756f8",
   "metadata": {},
   "outputs": [
    {
     "name": "stdout",
     "output_type": "stream",
     "text": [
      "Pending tasks:\n",
      "1.Finish_project (Due date: 15-10-23)\n",
      "2.call Mom (Due date: 20-10-23)\n"
     ]
    }
   ],
   "source": [
    "# Question Number 10:\n",
    "class ToDo_list:\n",
    "    def __init__(self):\n",
    "        self.tasks = []\n",
    "    def add_task(self,task,due_date):\n",
    "        self.tasks.append({'task' : task ,'due_date' : due_date,'Completed':False})\n",
    "    def mark_task_completed(self,task):\n",
    "        for t in self.tasks:\n",
    "            if t['task'] == task:\n",
    "                t['Completed'] = True\n",
    "                break\n",
    "    def display_pending_tasks(self):\n",
    "        pending_tasks = [t for t in self.tasks if not t['Completed']]\n",
    "        if not pending_tasks:\n",
    "            print('No pending task.')\n",
    "        else:\n",
    "            print(\"Pending tasks:\")\n",
    "            for idx,t in enumerate(pending_tasks,1):\n",
    "                print(f\"{idx}.{t['task']} (Due date: {t['due_date']})\")\n",
    "\n",
    "todo_list = ToDo_list()\n",
    "\n",
    "todo_list.add_task(\"Buy groceries\",'10-10-23')\n",
    "todo_list.add_task(\"Finish_project\",'15-10-23')\n",
    "todo_list.add_task(\"call Mom\",'20-10-23')\n",
    "\n",
    "todo_list.mark_task_completed(\"Buy groceries\")\n",
    "\n",
    "todo_list.display_pending_tasks()"
   ]
  },
  {
   "cell_type": "code",
   "execution_count": null,
   "id": "4bdf62f8-e163-480d-be15-b6045ebdf6dc",
   "metadata": {},
   "outputs": [],
   "source": []
  },
  {
   "cell_type": "code",
   "execution_count": null,
   "id": "57cb2390-a150-4ac6-b1d9-9fe06c556d6e",
   "metadata": {},
   "outputs": [],
   "source": []
  },
  {
   "cell_type": "code",
   "execution_count": null,
   "id": "7ad29d10-6550-438e-bbca-60a8e079d7a2",
   "metadata": {},
   "outputs": [],
   "source": []
  },
  {
   "cell_type": "code",
   "execution_count": null,
   "id": "0636da23-7f00-48dc-8637-2de2563a0dd8",
   "metadata": {},
   "outputs": [],
   "source": []
  }
 ],
 "metadata": {
  "kernelspec": {
   "display_name": "Python 3 (ipykernel)",
   "language": "python",
   "name": "python3"
  },
  "language_info": {
   "codemirror_mode": {
    "name": "ipython",
    "version": 3
   },
   "file_extension": ".py",
   "mimetype": "text/x-python",
   "name": "python",
   "nbconvert_exporter": "python",
   "pygments_lexer": "ipython3",
   "version": "3.11.5"
  }
 },
 "nbformat": 4,
 "nbformat_minor": 5
}
